{
 "cells": [
  {
   "cell_type": "markdown",
   "metadata": {},
   "source": [
    "# Recommendations with IBM\n",
    "\n",
    "In this notebook, you will be putting your recommendation skills to use on real data from the IBM Watson Studio platform. \n",
    "\n",
    "\n",
    "You may either submit your notebook through the workspace here, or you may work from your local machine and submit through the next page.  Either way assure that your code passes the project [RUBRIC](https://review.udacity.com/#!/rubrics/3325/view).  **Please save regularly.**\n",
    "\n",
    "By following the table of contents, you will build out a number of different methods for making recommendations that can be used for different situations. \n",
    "\n",
    "\n",
    "## Table of Contents\n",
    "\n",
    "I. [Exploratory Data Analysis](#Exploratory-Data-Analysis)<br>\n",
    "II. [Rank Based Recommendations](#Rank)<br>\n",
    "III. [User-User Based Collaborative Filtering](#User-User)<br>\n",
    "IV. [Content Based Recommendations (EXTRA - NOT REQUIRED)](#Content-Recs)<br>\n",
    "V. [Matrix Factorization](#Matrix-Fact)<br>\n",
    "VI. [Extras & Concluding](#conclusions)\n",
    "\n",
    "At the end of the notebook, you will find directions for how to submit your work.  Let's get started by importing the necessary libraries and reading in the data."
   ]
  },
  {
   "cell_type": "code",
   "execution_count": 2,
   "metadata": {
    "scrolled": true
   },
   "outputs": [
    {
     "data": {
      "text/html": [
       "<div>\n",
       "<style scoped>\n",
       "    .dataframe tbody tr th:only-of-type {\n",
       "        vertical-align: middle;\n",
       "    }\n",
       "\n",
       "    .dataframe tbody tr th {\n",
       "        vertical-align: top;\n",
       "    }\n",
       "\n",
       "    .dataframe thead th {\n",
       "        text-align: right;\n",
       "    }\n",
       "</style>\n",
       "<table border=\"1\" class=\"dataframe\">\n",
       "  <thead>\n",
       "    <tr style=\"text-align: right;\">\n",
       "      <th></th>\n",
       "      <th>article_id</th>\n",
       "      <th>title</th>\n",
       "      <th>email</th>\n",
       "    </tr>\n",
       "  </thead>\n",
       "  <tbody>\n",
       "    <tr>\n",
       "      <th>0</th>\n",
       "      <td>1430.0</td>\n",
       "      <td>using pixiedust for fast, flexible, and easier...</td>\n",
       "      <td>ef5f11f77ba020cd36e1105a00ab868bbdbf7fe7</td>\n",
       "    </tr>\n",
       "    <tr>\n",
       "      <th>1</th>\n",
       "      <td>1314.0</td>\n",
       "      <td>healthcare python streaming application demo</td>\n",
       "      <td>083cbdfa93c8444beaa4c5f5e0f5f9198e4f9e0b</td>\n",
       "    </tr>\n",
       "    <tr>\n",
       "      <th>2</th>\n",
       "      <td>1429.0</td>\n",
       "      <td>use deep learning for image classification</td>\n",
       "      <td>b96a4f2e92d8572034b1e9b28f9ac673765cd074</td>\n",
       "    </tr>\n",
       "    <tr>\n",
       "      <th>3</th>\n",
       "      <td>1338.0</td>\n",
       "      <td>ml optimization using cognitive assistant</td>\n",
       "      <td>06485706b34a5c9bf2a0ecdac41daf7e7654ceb7</td>\n",
       "    </tr>\n",
       "    <tr>\n",
       "      <th>4</th>\n",
       "      <td>1276.0</td>\n",
       "      <td>deploy your python model as a restful api</td>\n",
       "      <td>f01220c46fc92c6e6b161b1849de11faacd7ccb2</td>\n",
       "    </tr>\n",
       "  </tbody>\n",
       "</table>\n",
       "</div>"
      ],
      "text/plain": [
       "   article_id                                              title  \\\n",
       "0      1430.0  using pixiedust for fast, flexible, and easier...   \n",
       "1      1314.0       healthcare python streaming application demo   \n",
       "2      1429.0         use deep learning for image classification   \n",
       "3      1338.0          ml optimization using cognitive assistant   \n",
       "4      1276.0          deploy your python model as a restful api   \n",
       "\n",
       "                                      email  \n",
       "0  ef5f11f77ba020cd36e1105a00ab868bbdbf7fe7  \n",
       "1  083cbdfa93c8444beaa4c5f5e0f5f9198e4f9e0b  \n",
       "2  b96a4f2e92d8572034b1e9b28f9ac673765cd074  \n",
       "3  06485706b34a5c9bf2a0ecdac41daf7e7654ceb7  \n",
       "4  f01220c46fc92c6e6b161b1849de11faacd7ccb2  "
      ]
     },
     "execution_count": 2,
     "metadata": {},
     "output_type": "execute_result"
    }
   ],
   "source": [
    "import pandas as pd\n",
    "import numpy as np\n",
    "import matplotlib.pyplot as plt\n",
    "import pickle\n",
    "\n",
    "%matplotlib inline\n",
    "\n",
    "df = pd.read_csv('C:\\\\Anaconda3\\\\recommendation_system\\\\user-item-interactions.csv')\n",
    "df_content = pd.read_csv('C:\\\\Anaconda3\\\\recommendation_system\\\\articles_community.csv')\n",
    "del df['Unnamed: 0']\n",
    "del df_content['Unnamed: 0']\n",
    "\n",
    "# Show df to get an idea of the data\n",
    "df.head()"
   ]
  },
  {
   "cell_type": "code",
   "execution_count": 3,
   "metadata": {},
   "outputs": [
    {
     "data": {
      "text/html": [
       "<div>\n",
       "<style scoped>\n",
       "    .dataframe tbody tr th:only-of-type {\n",
       "        vertical-align: middle;\n",
       "    }\n",
       "\n",
       "    .dataframe tbody tr th {\n",
       "        vertical-align: top;\n",
       "    }\n",
       "\n",
       "    .dataframe thead th {\n",
       "        text-align: right;\n",
       "    }\n",
       "</style>\n",
       "<table border=\"1\" class=\"dataframe\">\n",
       "  <thead>\n",
       "    <tr style=\"text-align: right;\">\n",
       "      <th></th>\n",
       "      <th>doc_body</th>\n",
       "      <th>doc_description</th>\n",
       "      <th>doc_full_name</th>\n",
       "      <th>doc_status</th>\n",
       "      <th>article_id</th>\n",
       "    </tr>\n",
       "  </thead>\n",
       "  <tbody>\n",
       "    <tr>\n",
       "      <th>0</th>\n",
       "      <td>Skip navigation Sign in SearchLoading...\\r\\n\\r\\nClose Yeah, keep it Undo CloseTHIS VIDEO IS UNAVAILABLE.\\r\\nWATCH QUEUE\\r\\nQUEUE\\r\\nWatch Queue Queue * Remove all\\r\\n * Disconnect\\r\\n\\r\\nThe next video is starting stop 1. Loading...\\r\\n\\r\\nWatch ...</td>\n",
       "      <td>Detect bad readings in real time using Python and Streaming Analytics.</td>\n",
       "      <td>Detect Malfunctioning IoT Sensors with Streaming Analytics</td>\n",
       "      <td>Live</td>\n",
       "      <td>0</td>\n",
       "    </tr>\n",
       "    <tr>\n",
       "      <th>1</th>\n",
       "      <td>No Free Hunch Navigation * kaggle.com\\r\\n\\r\\n * kaggle.com\\r\\n\\r\\nCommunicating data science: A guide to presenting your work 4COMMUNICATING DATA SCIENCE: A GUIDE TO PRESENTING YOUR WORK\\r\\nMegan Risdal | 06.29.2016\\r\\n\\r\\nSee the forest, see the...</td>\n",
       "      <td>See the forest, see the trees. Here lies the challenge in both performing and presenting an analysis. As data scientists, analysts, and machine learning engineers faced with fulfilling business obj…</td>\n",
       "      <td>Communicating data science: A guide to presenting your work</td>\n",
       "      <td>Live</td>\n",
       "      <td>1</td>\n",
       "    </tr>\n",
       "    <tr>\n",
       "      <th>2</th>\n",
       "      <td>☰ * Login\\r\\n * Sign Up\\r\\n\\r\\n * Learning Paths\\r\\n * Courses * Our Courses\\r\\n    * Partner Courses\\r\\n   \\r\\n   \\r\\n * Badges * Our Badges\\r\\n    * BDU Badge Program\\r\\n   \\r\\n   \\r\\n * Watson Student Advisor\\r\\n\\r\\n * \\r\\n\\r\\nBLOG\\r\\nWelcome ...</td>\n",
       "      <td>Here’s this week’s news in Data Science and Big Data.</td>\n",
       "      <td>This Week in Data Science (April 18, 2017)</td>\n",
       "      <td>Live</td>\n",
       "      <td>2</td>\n",
       "    </tr>\n",
       "    <tr>\n",
       "      <th>3</th>\n",
       "      <td>DATALAYER: HIGH THROUGHPUT, LOW LATENCY AT SCALE - BOOST THE PERFORMANCE OF YOUR\\r\\nDISTRIBUTED DATABASE\\r\\nShare on Twitter Share on Facebook Share on Google+ Vote on Hacker News Published Dec 29, 2016Learn how distributed DBs (Cassandra, MongoD...</td>\n",
       "      <td>Learn how distributed DBs solve the problem of scaling persistent storage, but introduce latency as data size increases and become I/O bound.</td>\n",
       "      <td>DataLayer Conference: Boost the performance of your distributed database</td>\n",
       "      <td>Live</td>\n",
       "      <td>3</td>\n",
       "    </tr>\n",
       "    <tr>\n",
       "      <th>4</th>\n",
       "      <td>Skip navigation Sign in SearchLoading...\\r\\n\\r\\nClose Yeah, keep it Undo CloseTHIS VIDEO IS UNAVAILABLE.\\r\\nWATCH QUEUE\\r\\nQUEUE\\r\\nWatch Queue Queue * Remove all\\r\\n * Disconnect\\r\\n\\r\\nThe next video is starting stop 1. Loading...\\r\\n\\r\\nWatch ...</td>\n",
       "      <td>This video demonstrates the power of IBM DataScience Experience using a simple New York State Restaurant Inspections data scenario.</td>\n",
       "      <td>Analyze NY Restaurant data using Spark in DSX</td>\n",
       "      <td>Live</td>\n",
       "      <td>4</td>\n",
       "    </tr>\n",
       "  </tbody>\n",
       "</table>\n",
       "</div>"
      ],
      "text/plain": [
       "                                                                                                                                                                                                                                                    doc_body  \\\n",
       "0  Skip navigation Sign in SearchLoading...\\r\\n\\r\\nClose Yeah, keep it Undo CloseTHIS VIDEO IS UNAVAILABLE.\\r\\nWATCH QUEUE\\r\\nQUEUE\\r\\nWatch Queue Queue * Remove all\\r\\n * Disconnect\\r\\n\\r\\nThe next video is starting stop 1. Loading...\\r\\n\\r\\nWatch ...   \n",
       "1  No Free Hunch Navigation * kaggle.com\\r\\n\\r\\n * kaggle.com\\r\\n\\r\\nCommunicating data science: A guide to presenting your work 4COMMUNICATING DATA SCIENCE: A GUIDE TO PRESENTING YOUR WORK\\r\\nMegan Risdal | 06.29.2016\\r\\n\\r\\nSee the forest, see the...   \n",
       "2  ☰ * Login\\r\\n * Sign Up\\r\\n\\r\\n * Learning Paths\\r\\n * Courses * Our Courses\\r\\n    * Partner Courses\\r\\n   \\r\\n   \\r\\n * Badges * Our Badges\\r\\n    * BDU Badge Program\\r\\n   \\r\\n   \\r\\n * Watson Student Advisor\\r\\n\\r\\n * \\r\\n\\r\\nBLOG\\r\\nWelcome ...   \n",
       "3  DATALAYER: HIGH THROUGHPUT, LOW LATENCY AT SCALE - BOOST THE PERFORMANCE OF YOUR\\r\\nDISTRIBUTED DATABASE\\r\\nShare on Twitter Share on Facebook Share on Google+ Vote on Hacker News Published Dec 29, 2016Learn how distributed DBs (Cassandra, MongoD...   \n",
       "4  Skip navigation Sign in SearchLoading...\\r\\n\\r\\nClose Yeah, keep it Undo CloseTHIS VIDEO IS UNAVAILABLE.\\r\\nWATCH QUEUE\\r\\nQUEUE\\r\\nWatch Queue Queue * Remove all\\r\\n * Disconnect\\r\\n\\r\\nThe next video is starting stop 1. Loading...\\r\\n\\r\\nWatch ...   \n",
       "\n",
       "                                                                                                                                                                                          doc_description  \\\n",
       "0                                                                                                                                  Detect bad readings in real time using Python and Streaming Analytics.   \n",
       "1  See the forest, see the trees. Here lies the challenge in both performing and presenting an analysis. As data scientists, analysts, and machine learning engineers faced with fulfilling business obj…   \n",
       "2                                                                                                                                                   Here’s this week’s news in Data Science and Big Data.   \n",
       "3                                                           Learn how distributed DBs solve the problem of scaling persistent storage, but introduce latency as data size increases and become I/O bound.   \n",
       "4                                                                    This video demonstrates the power of IBM DataScience Experience using a simple New York State Restaurant Inspections data scenario.    \n",
       "\n",
       "                                                              doc_full_name  \\\n",
       "0                Detect Malfunctioning IoT Sensors with Streaming Analytics   \n",
       "1               Communicating data science: A guide to presenting your work   \n",
       "2                                This Week in Data Science (April 18, 2017)   \n",
       "3  DataLayer Conference: Boost the performance of your distributed database   \n",
       "4                             Analyze NY Restaurant data using Spark in DSX   \n",
       "\n",
       "  doc_status  article_id  \n",
       "0       Live           0  \n",
       "1       Live           1  \n",
       "2       Live           2  \n",
       "3       Live           3  \n",
       "4       Live           4  "
      ]
     },
     "execution_count": 3,
     "metadata": {},
     "output_type": "execute_result"
    }
   ],
   "source": [
    "pd.options.display.max_colwidth = 250\n",
    "# Show df_content to get an idea of the data\n",
    "df_content.head()\n"
   ]
  },
  {
   "cell_type": "code",
   "execution_count": 6,
   "metadata": {},
   "outputs": [
    {
     "data": {
      "text/plain": [
       "doc_status\n",
       "Live    1056\n",
       "Name: count, dtype: int64"
      ]
     },
     "execution_count": 6,
     "metadata": {},
     "output_type": "execute_result"
    }
   ],
   "source": [
    "df_content['doc_status'].value_counts()"
   ]
  },
  {
   "cell_type": "code",
   "execution_count": 8,
   "metadata": {},
   "outputs": [
    {
     "data": {
      "text/plain": [
       "1"
      ]
     },
     "execution_count": 8,
     "metadata": {},
     "output_type": "execute_result"
    }
   ],
   "source": [
    "df_content['doc_status'].nunique()"
   ]
  },
  {
   "cell_type": "code",
   "execution_count": 10,
   "metadata": {},
   "outputs": [
    {
     "data": {
      "text/plain": [
       "(1056, 5)"
      ]
     },
     "execution_count": 10,
     "metadata": {},
     "output_type": "execute_result"
    }
   ],
   "source": [
    "df_content.shape"
   ]
  },
  {
   "cell_type": "code",
   "execution_count": 12,
   "metadata": {},
   "outputs": [
    {
     "data": {
      "text/plain": [
       "(45993, 3)"
      ]
     },
     "execution_count": 12,
     "metadata": {},
     "output_type": "execute_result"
    }
   ],
   "source": [
    "df.shape"
   ]
  },
  {
   "cell_type": "markdown",
   "metadata": {},
   "source": [
    "### <a class=\"anchor\" id=\"Exploratory-Data-Analysis\">Part I : Exploratory Data Analysis</a>\n",
    "\n",
    "Use the dictionary and cells below to provide some insight into the descriptive statistics of the data.\n",
    "\n",
    "`1.` What is the distribution of how many articles a user interacts with in the dataset?  Provide a visual and descriptive statistics to assist with giving a look at the number of times each user interacts with an article.  "
   ]
  },
  {
   "cell_type": "code",
   "execution_count": 15,
   "metadata": {},
   "outputs": [
    {
     "data": {
      "text/html": [
       "<div>\n",
       "<style scoped>\n",
       "    .dataframe tbody tr th:only-of-type {\n",
       "        vertical-align: middle;\n",
       "    }\n",
       "\n",
       "    .dataframe tbody tr th {\n",
       "        vertical-align: top;\n",
       "    }\n",
       "\n",
       "    .dataframe thead th {\n",
       "        text-align: right;\n",
       "    }\n",
       "</style>\n",
       "<table border=\"1\" class=\"dataframe\">\n",
       "  <thead>\n",
       "    <tr style=\"text-align: right;\">\n",
       "      <th></th>\n",
       "      <th>article_id</th>\n",
       "      <th>title</th>\n",
       "      <th>email</th>\n",
       "    </tr>\n",
       "  </thead>\n",
       "  <tbody>\n",
       "    <tr>\n",
       "      <th>0</th>\n",
       "      <td>1430.0</td>\n",
       "      <td>using pixiedust for fast, flexible, and easier data analysis and experimentation</td>\n",
       "      <td>ef5f11f77ba020cd36e1105a00ab868bbdbf7fe7</td>\n",
       "    </tr>\n",
       "    <tr>\n",
       "      <th>1</th>\n",
       "      <td>1314.0</td>\n",
       "      <td>healthcare python streaming application demo</td>\n",
       "      <td>083cbdfa93c8444beaa4c5f5e0f5f9198e4f9e0b</td>\n",
       "    </tr>\n",
       "    <tr>\n",
       "      <th>2</th>\n",
       "      <td>1429.0</td>\n",
       "      <td>use deep learning for image classification</td>\n",
       "      <td>b96a4f2e92d8572034b1e9b28f9ac673765cd074</td>\n",
       "    </tr>\n",
       "    <tr>\n",
       "      <th>3</th>\n",
       "      <td>1338.0</td>\n",
       "      <td>ml optimization using cognitive assistant</td>\n",
       "      <td>06485706b34a5c9bf2a0ecdac41daf7e7654ceb7</td>\n",
       "    </tr>\n",
       "    <tr>\n",
       "      <th>4</th>\n",
       "      <td>1276.0</td>\n",
       "      <td>deploy your python model as a restful api</td>\n",
       "      <td>f01220c46fc92c6e6b161b1849de11faacd7ccb2</td>\n",
       "    </tr>\n",
       "  </tbody>\n",
       "</table>\n",
       "</div>"
      ],
      "text/plain": [
       "   article_id  \\\n",
       "0      1430.0   \n",
       "1      1314.0   \n",
       "2      1429.0   \n",
       "3      1338.0   \n",
       "4      1276.0   \n",
       "\n",
       "                                                                              title  \\\n",
       "0  using pixiedust for fast, flexible, and easier data analysis and experimentation   \n",
       "1                                      healthcare python streaming application demo   \n",
       "2                                        use deep learning for image classification   \n",
       "3                                         ml optimization using cognitive assistant   \n",
       "4                                         deploy your python model as a restful api   \n",
       "\n",
       "                                      email  \n",
       "0  ef5f11f77ba020cd36e1105a00ab868bbdbf7fe7  \n",
       "1  083cbdfa93c8444beaa4c5f5e0f5f9198e4f9e0b  \n",
       "2  b96a4f2e92d8572034b1e9b28f9ac673765cd074  \n",
       "3  06485706b34a5c9bf2a0ecdac41daf7e7654ceb7  \n",
       "4  f01220c46fc92c6e6b161b1849de11faacd7ccb2  "
      ]
     },
     "execution_count": 15,
     "metadata": {},
     "output_type": "execute_result"
    }
   ],
   "source": [
    "df.head()"
   ]
  },
  {
   "cell_type": "code",
   "execution_count": 17,
   "metadata": {},
   "outputs": [],
   "source": [
    "user_article_interactions = df.groupby('email')['article_id'].count()\n"
   ]
  },
  {
   "cell_type": "code",
   "execution_count": 19,
   "metadata": {},
   "outputs": [
    {
     "data": {
      "image/png": "[encoded data removed]",
      "text/plain": [
       "<Figure size 1000x600 with 1 Axes>"
      ]
     },
     "metadata": {},
     "output_type": "display_data"
    }
   ],
   "source": [
    "import matplotlib.pyplot as plt\n",
    "import seaborn as sns\n",
    "\n",
    "# Plot the distribution of article interactions per user\n",
    "plt.figure(figsize=(10, 6))\n",
    "\n",
    "# Create a histogram of user interactions\n",
    "sns.histplot(user_article_interactions, bins=30, kde=False)\n",
    "\n",
    "# Customize the plot\n",
    "plt.title('Distribution of Number of Article Interactions per User')\n",
    "plt.xlabel('Number of Article Interactions')\n",
    "plt.ylabel('Frequency of Users')\n",
    "plt.grid(True)\n",
    "\n",
    "plt.show()"
   ]
  },
  {
   "cell_type": "code",
   "execution_count": 20,
   "metadata": {},
   "outputs": [
    {
     "name": "stdout",
     "output_type": "stream",
     "text": [
      "user article interstions median 3.0\n",
      "user article interactions maximum value 364\n"
     ]
    }
   ],
   "source": [
    "# Fill in the median and maximum number of user_article interactios below\n",
    "print(f\"user article interstions median {user_article_interactions.median()}\")\n",
    "print(f\"user article interactions maximum value {user_article_interactions.max()}\")\n",
    "# 50% of individuals interact with ____ number of articles or fewer.\n",
    "# The maximum number of user-article interactions by any 1 user is ______."
   ]
  },
  {
   "cell_type": "markdown",
   "metadata": {},
   "source": [
    "`2.` Explore and remove duplicate articles from the **df_content** dataframe.  "
   ]
  },
  {
   "cell_type": "code",
   "execution_count": 24,
   "metadata": {},
   "outputs": [
    {
     "data": {
      "text/plain": [
       "0"
      ]
     },
     "execution_count": 24,
     "metadata": {},
     "output_type": "execute_result"
    }
   ],
   "source": [
    "# Find and explore duplicate articles\n",
    "df_content.duplicated().sum()"
   ]
  },
  {
   "cell_type": "code",
   "execution_count": 26,
   "metadata": {},
   "outputs": [
    {
     "data": {
      "text/html": [
       "<div>\n",
       "<style scoped>\n",
       "    .dataframe tbody tr th:only-of-type {\n",
       "        vertical-align: middle;\n",
       "    }\n",
       "\n",
       "    .dataframe tbody tr th {\n",
       "        vertical-align: top;\n",
       "    }\n",
       "\n",
       "    .dataframe thead th {\n",
       "        text-align: right;\n",
       "    }\n",
       "</style>\n",
       "<table border=\"1\" class=\"dataframe\">\n",
       "  <thead>\n",
       "    <tr style=\"text-align: right;\">\n",
       "      <th></th>\n",
       "      <th>doc_body</th>\n",
       "      <th>doc_description</th>\n",
       "      <th>doc_full_name</th>\n",
       "      <th>doc_status</th>\n",
       "      <th>article_id</th>\n",
       "    </tr>\n",
       "  </thead>\n",
       "  <tbody>\n",
       "    <tr>\n",
       "      <th>365</th>\n",
       "      <td>Follow Sign in / Sign up Home About Insight Data Science Data Engineering Health Data AI 5 * Share\\r\\n * 5\\r\\n * \\r\\n * \\r\\n\\r\\nNever miss a story from Insight Data , when you sign up for Medium. Learn more Never miss a story from Insight Data Ge...</td>\n",
       "      <td>During the seven-week Insight Data Engineering Fellows Program recent grads and experienced software engineers learn the latest open source technologies by building a data platform to handle large…</td>\n",
       "      <td>Graph-based machine learning</td>\n",
       "      <td>Live</td>\n",
       "      <td>50</td>\n",
       "    </tr>\n",
       "    <tr>\n",
       "      <th>692</th>\n",
       "      <td>Homepage Follow Sign in / Sign up Homepage * Home\\r\\n * Data Science Experience\\r\\n * Data Catalog\\r\\n * \\r\\n * Watson Data Platform\\r\\n * \\r\\n\\r\\nSusanna Tai Blocked Unblock Follow Following Offering Manager, Watson Data Platform | Data Catalog ...</td>\n",
       "      <td>One of the earliest documented catalogs was compiled at the great library of Alexandria in the third century BC, to help scholars manage, understand and access its vast collection of literature…</td>\n",
       "      <td>How smart catalogs can turn the big data flood into an ocean of opportunity</td>\n",
       "      <td>Live</td>\n",
       "      <td>221</td>\n",
       "    </tr>\n",
       "    <tr>\n",
       "      <th>761</th>\n",
       "      <td>Homepage Follow Sign in Get started Homepage * Home\\r\\n * Data Science Experience\\r\\n * Data Catalog\\r\\n * IBM Data Refinery\\r\\n * \\r\\n * Watson Data Platform\\r\\n * \\r\\n\\r\\nSourav Mazumder Blocked Unblock Follow Following Nov 27\\r\\n--------------...</td>\n",
       "      <td>Today’s world of data science leverages data from various sources. Commonly, these sources are Hadoop File System, Enterprise Data Warehouse, Relational Database systems, Enterprise file systems, etc…</td>\n",
       "      <td>Using Apache Spark as a parallel processing framework for accessing REST based data services</td>\n",
       "      <td>Live</td>\n",
       "      <td>398</td>\n",
       "    </tr>\n",
       "    <tr>\n",
       "      <th>970</th>\n",
       "      <td>This video shows you how to construct queries to access the primary index through the API.Visit http://www.cloudant.com/sign-up to sign up for a free Cloudant account.</td>\n",
       "      <td>This video shows you how to construct queries to access the primary index through the API</td>\n",
       "      <td>Use the Primary Index</td>\n",
       "      <td>Live</td>\n",
       "      <td>577</td>\n",
       "    </tr>\n",
       "    <tr>\n",
       "      <th>971</th>\n",
       "      <td>Homepage Follow Sign in Get started * Home\\r\\n * Data Science Experience\\r\\n * Data Catalog\\r\\n * IBM Data Refinery\\r\\n * \\r\\n * Watson Data Platform\\r\\n * \\r\\n\\r\\nCarmen Ruppach Blocked Unblock Follow Following Offering Manager for Data Refinery...</td>\n",
       "      <td>If you are like most data scientists, you are probably spending a lot of time to cleanse, shape and prepare your data before you can actually start with the more enjoyable part of building and…</td>\n",
       "      <td>Self-service data preparation with IBM Data Refinery</td>\n",
       "      <td>Live</td>\n",
       "      <td>232</td>\n",
       "    </tr>\n",
       "  </tbody>\n",
       "</table>\n",
       "</div>"
      ],
      "text/plain": [
       "                                                                                                                                                                                                                                                      doc_body  \\\n",
       "365  Follow Sign in / Sign up Home About Insight Data Science Data Engineering Health Data AI 5 * Share\\r\\n * 5\\r\\n * \\r\\n * \\r\\n\\r\\nNever miss a story from Insight Data , when you sign up for Medium. Learn more Never miss a story from Insight Data Ge...   \n",
       "692  Homepage Follow Sign in / Sign up Homepage * Home\\r\\n * Data Science Experience\\r\\n * Data Catalog\\r\\n * \\r\\n * Watson Data Platform\\r\\n * \\r\\n\\r\\nSusanna Tai Blocked Unblock Follow Following Offering Manager, Watson Data Platform | Data Catalog ...   \n",
       "761  Homepage Follow Sign in Get started Homepage * Home\\r\\n * Data Science Experience\\r\\n * Data Catalog\\r\\n * IBM Data Refinery\\r\\n * \\r\\n * Watson Data Platform\\r\\n * \\r\\n\\r\\nSourav Mazumder Blocked Unblock Follow Following Nov 27\\r\\n--------------...   \n",
       "970                                                                                    This video shows you how to construct queries to access the primary index through the API.Visit http://www.cloudant.com/sign-up to sign up for a free Cloudant account.   \n",
       "971  Homepage Follow Sign in Get started * Home\\r\\n * Data Science Experience\\r\\n * Data Catalog\\r\\n * IBM Data Refinery\\r\\n * \\r\\n * Watson Data Platform\\r\\n * \\r\\n\\r\\nCarmen Ruppach Blocked Unblock Follow Following Offering Manager for Data Refinery...   \n",
       "\n",
       "                                                                                                                                                                                              doc_description  \\\n",
       "365     During the seven-week Insight Data Engineering Fellows Program recent grads and experienced software engineers learn the latest open source technologies by building a data platform to handle large…   \n",
       "692        One of the earliest documented catalogs was compiled at the great library of Alexandria in the third century BC, to help scholars manage, understand and access its vast collection of literature…   \n",
       "761  Today’s world of data science leverages data from various sources. Commonly, these sources are Hadoop File System, Enterprise Data Warehouse, Relational Database systems, Enterprise file systems, etc…   \n",
       "970                                                                                                                 This video shows you how to construct queries to access the primary index through the API   \n",
       "971         If you are like most data scientists, you are probably spending a lot of time to cleanse, shape and prepare your data before you can actually start with the more enjoyable part of building and…   \n",
       "\n",
       "                                                                                    doc_full_name  \\\n",
       "365                                                                  Graph-based machine learning   \n",
       "692                   How smart catalogs can turn the big data flood into an ocean of opportunity   \n",
       "761  Using Apache Spark as a parallel processing framework for accessing REST based data services   \n",
       "970                                                                         Use the Primary Index   \n",
       "971                                          Self-service data preparation with IBM Data Refinery   \n",
       "\n",
       "    doc_status  article_id  \n",
       "365       Live          50  \n",
       "692       Live         221  \n",
       "761       Live         398  \n",
       "970       Live         577  \n",
       "971       Live         232  "
      ]
     },
     "execution_count": 26,
     "metadata": {},
     "output_type": "execute_result"
    }
   ],
   "source": [
    "df_content[df_content['article_id'].duplicated()]"
   ]
  },
  {
   "cell_type": "code",
   "execution_count": 28,
   "metadata": {},
   "outputs": [
    {
     "data": {
      "text/html": [
       "<div>\n",
       "<style scoped>\n",
       "    .dataframe tbody tr th:only-of-type {\n",
       "        vertical-align: middle;\n",
       "    }\n",
       "\n",
       "    .dataframe tbody tr th {\n",
       "        vertical-align: top;\n",
       "    }\n",
       "\n",
       "    .dataframe thead th {\n",
       "        text-align: right;\n",
       "    }\n",
       "</style>\n",
       "<table border=\"1\" class=\"dataframe\">\n",
       "  <thead>\n",
       "    <tr style=\"text-align: right;\">\n",
       "      <th></th>\n",
       "      <th>doc_body</th>\n",
       "      <th>doc_description</th>\n",
       "      <th>doc_full_name</th>\n",
       "      <th>doc_status</th>\n",
       "      <th>article_id</th>\n",
       "    </tr>\n",
       "  </thead>\n",
       "  <tbody>\n",
       "    <tr>\n",
       "      <th>50</th>\n",
       "      <td>Follow Sign in / Sign up Home About Insight Data Science Data Engineering Health Data AI Never miss a story from Insight Data , when you sign up for Medium. Learn more Never miss a story from Insight Data Get updates Get updates Sebastien Dery Bl...</td>\n",
       "      <td>Community Detection at Scale</td>\n",
       "      <td>Graph-based machine learning</td>\n",
       "      <td>Live</td>\n",
       "      <td>50</td>\n",
       "    </tr>\n",
       "    <tr>\n",
       "      <th>365</th>\n",
       "      <td>Follow Sign in / Sign up Home About Insight Data Science Data Engineering Health Data AI 5 * Share\\r\\n * 5\\r\\n * \\r\\n * \\r\\n\\r\\nNever miss a story from Insight Data , when you sign up for Medium. Learn more Never miss a story from Insight Data Ge...</td>\n",
       "      <td>During the seven-week Insight Data Engineering Fellows Program recent grads and experienced software engineers learn the latest open source technologies by building a data platform to handle large…</td>\n",
       "      <td>Graph-based machine learning</td>\n",
       "      <td>Live</td>\n",
       "      <td>50</td>\n",
       "    </tr>\n",
       "  </tbody>\n",
       "</table>\n",
       "</div>"
      ],
      "text/plain": [
       "                                                                                                                                                                                                                                                      doc_body  \\\n",
       "50   Follow Sign in / Sign up Home About Insight Data Science Data Engineering Health Data AI Never miss a story from Insight Data , when you sign up for Medium. Learn more Never miss a story from Insight Data Get updates Get updates Sebastien Dery Bl...   \n",
       "365  Follow Sign in / Sign up Home About Insight Data Science Data Engineering Health Data AI 5 * Share\\r\\n * 5\\r\\n * \\r\\n * \\r\\n\\r\\nNever miss a story from Insight Data , when you sign up for Medium. Learn more Never miss a story from Insight Data Ge...   \n",
       "\n",
       "                                                                                                                                                                                           doc_description  \\\n",
       "50                                                                                                                                                                            Community Detection at Scale   \n",
       "365  During the seven-week Insight Data Engineering Fellows Program recent grads and experienced software engineers learn the latest open source technologies by building a data platform to handle large…   \n",
       "\n",
       "                    doc_full_name doc_status  article_id  \n",
       "50   Graph-based machine learning       Live          50  \n",
       "365  Graph-based machine learning       Live          50  "
      ]
     },
     "execution_count": 28,
     "metadata": {},
     "output_type": "execute_result"
    }
   ],
   "source": [
    "df_content[df_content['article_id']==50]"
   ]
  },
  {
   "cell_type": "code",
   "execution_count": 30,
   "metadata": {},
   "outputs": [],
   "source": [
    "# Remove any rows that have the same article_id - only keep the first\n",
    "df_content=df_content.drop_duplicates(subset=['article_id'], keep='first')\n"
   ]
  },
  {
   "cell_type": "code",
   "execution_count": 32,
   "metadata": {},
   "outputs": [
    {
     "data": {
      "text/html": [
       "<div>\n",
       "<style scoped>\n",
       "    .dataframe tbody tr th:only-of-type {\n",
       "        vertical-align: middle;\n",
       "    }\n",
       "\n",
       "    .dataframe tbody tr th {\n",
       "        vertical-align: top;\n",
       "    }\n",
       "\n",
       "    .dataframe thead th {\n",
       "        text-align: right;\n",
       "    }\n",
       "</style>\n",
       "<table border=\"1\" class=\"dataframe\">\n",
       "  <thead>\n",
       "    <tr style=\"text-align: right;\">\n",
       "      <th></th>\n",
       "      <th>doc_body</th>\n",
       "      <th>doc_description</th>\n",
       "      <th>doc_full_name</th>\n",
       "      <th>doc_status</th>\n",
       "      <th>article_id</th>\n",
       "    </tr>\n",
       "  </thead>\n",
       "  <tbody>\n",
       "    <tr>\n",
       "      <th>50</th>\n",
       "      <td>Follow Sign in / Sign up Home About Insight Data Science Data Engineering Health Data AI Never miss a story from Insight Data , when you sign up for Medium. Learn more Never miss a story from Insight Data Get updates Get updates Sebastien Dery Bl...</td>\n",
       "      <td>Community Detection at Scale</td>\n",
       "      <td>Graph-based machine learning</td>\n",
       "      <td>Live</td>\n",
       "      <td>50</td>\n",
       "    </tr>\n",
       "  </tbody>\n",
       "</table>\n",
       "</div>"
      ],
      "text/plain": [
       "                                                                                                                                                                                                                                                     doc_body  \\\n",
       "50  Follow Sign in / Sign up Home About Insight Data Science Data Engineering Health Data AI Never miss a story from Insight Data , when you sign up for Medium. Learn more Never miss a story from Insight Data Get updates Get updates Sebastien Dery Bl...   \n",
       "\n",
       "                 doc_description                 doc_full_name doc_status  \\\n",
       "50  Community Detection at Scale  Graph-based machine learning       Live   \n",
       "\n",
       "    article_id  \n",
       "50          50  "
      ]
     },
     "execution_count": 32,
     "metadata": {},
     "output_type": "execute_result"
    }
   ],
   "source": [
    "df_content[df_content['article_id']==50]"
   ]
  },
  {
   "cell_type": "code",
   "execution_count": 34,
   "metadata": {},
   "outputs": [
    {
     "data": {
      "text/html": [
       "<div>\n",
       "<style scoped>\n",
       "    .dataframe tbody tr th:only-of-type {\n",
       "        vertical-align: middle;\n",
       "    }\n",
       "\n",
       "    .dataframe tbody tr th {\n",
       "        vertical-align: top;\n",
       "    }\n",
       "\n",
       "    .dataframe thead th {\n",
       "        text-align: right;\n",
       "    }\n",
       "</style>\n",
       "<table border=\"1\" class=\"dataframe\">\n",
       "  <thead>\n",
       "    <tr style=\"text-align: right;\">\n",
       "      <th></th>\n",
       "      <th>article_id</th>\n",
       "      <th>title</th>\n",
       "      <th>email</th>\n",
       "    </tr>\n",
       "  </thead>\n",
       "  <tbody>\n",
       "    <tr>\n",
       "      <th>1543</th>\n",
       "      <td>9.0</td>\n",
       "      <td>3992    using apache spark to predict attack vectors a...\\nName: title, dtype: object</td>\n",
       "      <td>a30342a74966e5ab9724e35cdd21922dd62027a9</td>\n",
       "    </tr>\n",
       "    <tr>\n",
       "      <th>25727</th>\n",
       "      <td>9.0</td>\n",
       "      <td>3992    using apache spark to predict attack vectors a...\\nName: title, dtype: object</td>\n",
       "      <td>df35805092d0322ed12feef3558b515d0311c690</td>\n",
       "    </tr>\n",
       "    <tr>\n",
       "      <th>26174</th>\n",
       "      <td>9.0</td>\n",
       "      <td>3992    using apache spark to predict attack vectors a...\\nName: title, dtype: object</td>\n",
       "      <td>31dcc3d2fa8aec069b369ee92d8a526bd1f26b80</td>\n",
       "    </tr>\n",
       "    <tr>\n",
       "      <th>28755</th>\n",
       "      <td>9.0</td>\n",
       "      <td>3992    using apache spark to predict attack vectors a...\\nName: title, dtype: object</td>\n",
       "      <td>14a9a6763eaab9103bb29bdcad4c6c8777981cc7</td>\n",
       "    </tr>\n",
       "    <tr>\n",
       "      <th>29748</th>\n",
       "      <td>9.0</td>\n",
       "      <td>3992    using apache spark to predict attack vectors a...\\nName: title, dtype: object</td>\n",
       "      <td>c10c55ea873ca4f39e779a2c4673ac8b801b85d8</td>\n",
       "    </tr>\n",
       "    <tr>\n",
       "      <th>30318</th>\n",
       "      <td>9.0</td>\n",
       "      <td>3992    using apache spark to predict attack vectors a...\\nName: title, dtype: object</td>\n",
       "      <td>e04510c72f3e96ac354b29eb5b7479fc555509ce</td>\n",
       "    </tr>\n",
       "    <tr>\n",
       "      <th>33790</th>\n",
       "      <td>9.0</td>\n",
       "      <td>3992    using apache spark to predict attack vectors a...\\nName: title, dtype: object</td>\n",
       "      <td>b1f493c95ba234d783e017bc0981cd99f7098d00</td>\n",
       "    </tr>\n",
       "    <tr>\n",
       "      <th>35263</th>\n",
       "      <td>9.0</td>\n",
       "      <td>3992    using apache spark to predict attack vectors a...\\nName: title, dtype: object</td>\n",
       "      <td>e4a3baee5dc356156ca48ff2fc1b97f8b3899bc4</td>\n",
       "    </tr>\n",
       "    <tr>\n",
       "      <th>38805</th>\n",
       "      <td>9.0</td>\n",
       "      <td>3992    using apache spark to predict attack vectors a...\\nName: title, dtype: object</td>\n",
       "      <td>e6d693a1c9251cea3b3b5543eebcb624925193d6</td>\n",
       "    </tr>\n",
       "    <tr>\n",
       "      <th>40269</th>\n",
       "      <td>9.0</td>\n",
       "      <td>3992    using apache spark to predict attack vectors a...\\nName: title, dtype: object</td>\n",
       "      <td>de28dbec92ca4c4ec24caf59576beb1beea1c49d</td>\n",
       "    </tr>\n",
       "  </tbody>\n",
       "</table>\n",
       "</div>"
      ],
      "text/plain": [
       "       article_id  \\\n",
       "1543          9.0   \n",
       "25727         9.0   \n",
       "26174         9.0   \n",
       "28755         9.0   \n",
       "29748         9.0   \n",
       "30318         9.0   \n",
       "33790         9.0   \n",
       "35263         9.0   \n",
       "38805         9.0   \n",
       "40269         9.0   \n",
       "\n",
       "                                                                                       title  \\\n",
       "1543   3992    using apache spark to predict attack vectors a...\\nName: title, dtype: object   \n",
       "25727  3992    using apache spark to predict attack vectors a...\\nName: title, dtype: object   \n",
       "26174  3992    using apache spark to predict attack vectors a...\\nName: title, dtype: object   \n",
       "28755  3992    using apache spark to predict attack vectors a...\\nName: title, dtype: object   \n",
       "29748  3992    using apache spark to predict attack vectors a...\\nName: title, dtype: object   \n",
       "30318  3992    using apache spark to predict attack vectors a...\\nName: title, dtype: object   \n",
       "33790  3992    using apache spark to predict attack vectors a...\\nName: title, dtype: object   \n",
       "35263  3992    using apache spark to predict attack vectors a...\\nName: title, dtype: object   \n",
       "38805  3992    using apache spark to predict attack vectors a...\\nName: title, dtype: object   \n",
       "40269  3992    using apache spark to predict attack vectors a...\\nName: title, dtype: object   \n",
       "\n",
       "                                          email  \n",
       "1543   a30342a74966e5ab9724e35cdd21922dd62027a9  \n",
       "25727  df35805092d0322ed12feef3558b515d0311c690  \n",
       "26174  31dcc3d2fa8aec069b369ee92d8a526bd1f26b80  \n",
       "28755  14a9a6763eaab9103bb29bdcad4c6c8777981cc7  \n",
       "29748  c10c55ea873ca4f39e779a2c4673ac8b801b85d8  \n",
       "30318  e04510c72f3e96ac354b29eb5b7479fc555509ce  \n",
       "33790  b1f493c95ba234d783e017bc0981cd99f7098d00  \n",
       "35263  e4a3baee5dc356156ca48ff2fc1b97f8b3899bc4  \n",
       "38805  e6d693a1c9251cea3b3b5543eebcb624925193d6  \n",
       "40269  de28dbec92ca4c4ec24caf59576beb1beea1c49d  "
      ]
     },
     "execution_count": 34,
     "metadata": {},
     "output_type": "execute_result"
    }
   ],
   "source": [
    "df[df['article_id']==9]"
   ]
  },
  {
   "cell_type": "markdown",
   "metadata": {},
   "source": [
    "`3.` Use the cells below to find:\n",
    "\n",
    "**a.** The number of unique articles that have an interaction with a user.  \n",
    "**b.** The number of unique articles in the dataset (whether they have any interactions or not).<br>\n",
    "**c.** The number of unique users in the dataset. (excluding null values) <br>\n",
    "**d.** The number of user-article interactions in the dataset."
   ]
  },
  {
   "cell_type": "code",
   "execution_count": 37,
   "metadata": {},
   "outputs": [],
   "source": [
    "# The number of unique articles that have at least one interaction\n",
    "unique_articles=df['article_id'].nunique()\n",
    "# The number of unique articles on the IBM platform\n",
    "total_articles=df_content.shape[0]\n",
    "# The number of unique users\n",
    "unique_users=df['email'].nunique()\n",
    "# The number of user-article interactions\n",
    "user_article_intersactions=df.shape[0]"
   ]
  },
  {
   "cell_type": "markdown",
   "metadata": {},
   "source": [
    "`4.` Use the cells below to find the most viewed **article_id**, as well as how often it was viewed.  After talking to the company leaders, the `email_mapper` function was deemed a reasonable way to map users to ids.  There were a small number of null values, and it was found that all of these null values likely belonged to a single user (which is how they are stored using the function below)."
   ]
  },
  {
   "cell_type": "code",
   "execution_count": 40,
   "metadata": {
    "scrolled": true
   },
   "outputs": [],
   "source": [
    "most_viewed_articles=df.groupby('article_id')['email'].count().sort_values(ascending=False)"
   ]
  },
  {
   "cell_type": "code",
   "execution_count": 42,
   "metadata": {},
   "outputs": [
    {
     "name": "stdout",
     "output_type": "stream",
     "text": [
      "1429.0\n",
      "937\n"
     ]
    }
   ],
   "source": [
    " # The most viewed article in the dataset as a string with one value following the decimal \n",
    "print(most_viewed_articles.index[0])\n",
    "# The most viewed article in the dataset was viewed how many times?\n",
    "print(most_viewed_articles.values[0])"
   ]
  },
  {
   "cell_type": "code",
   "execution_count": 44,
   "metadata": {},
   "outputs": [
    {
     "data": {
      "text/html": [
       "<div>\n",
       "<style scoped>\n",
       "    .dataframe tbody tr th:only-of-type {\n",
       "        vertical-align: middle;\n",
       "    }\n",
       "\n",
       "    .dataframe tbody tr th {\n",
       "        vertical-align: top;\n",
       "    }\n",
       "\n",
       "    .dataframe thead th {\n",
       "        text-align: right;\n",
       "    }\n",
       "</style>\n",
       "<table border=\"1\" class=\"dataframe\">\n",
       "  <thead>\n",
       "    <tr style=\"text-align: right;\">\n",
       "      <th></th>\n",
       "      <th>article_id</th>\n",
       "      <th>title</th>\n",
       "      <th>user_id</th>\n",
       "    </tr>\n",
       "  </thead>\n",
       "  <tbody>\n",
       "    <tr>\n",
       "      <th>0</th>\n",
       "      <td>1430.0</td>\n",
       "      <td>using pixiedust for fast, flexible, and easier data analysis and experimentation</td>\n",
       "      <td>1</td>\n",
       "    </tr>\n",
       "    <tr>\n",
       "      <th>1</th>\n",
       "      <td>1314.0</td>\n",
       "      <td>healthcare python streaming application demo</td>\n",
       "      <td>2</td>\n",
       "    </tr>\n",
       "    <tr>\n",
       "      <th>2</th>\n",
       "      <td>1429.0</td>\n",
       "      <td>use deep learning for image classification</td>\n",
       "      <td>3</td>\n",
       "    </tr>\n",
       "    <tr>\n",
       "      <th>3</th>\n",
       "      <td>1338.0</td>\n",
       "      <td>ml optimization using cognitive assistant</td>\n",
       "      <td>4</td>\n",
       "    </tr>\n",
       "    <tr>\n",
       "      <th>4</th>\n",
       "      <td>1276.0</td>\n",
       "      <td>deploy your python model as a restful api</td>\n",
       "      <td>5</td>\n",
       "    </tr>\n",
       "  </tbody>\n",
       "</table>\n",
       "</div>"
      ],
      "text/plain": [
       "   article_id  \\\n",
       "0      1430.0   \n",
       "1      1314.0   \n",
       "2      1429.0   \n",
       "3      1338.0   \n",
       "4      1276.0   \n",
       "\n",
       "                                                                              title  \\\n",
       "0  using pixiedust for fast, flexible, and easier data analysis and experimentation   \n",
       "1                                      healthcare python streaming application demo   \n",
       "2                                        use deep learning for image classification   \n",
       "3                                         ml optimization using cognitive assistant   \n",
       "4                                         deploy your python model as a restful api   \n",
       "\n",
       "   user_id  \n",
       "0        1  \n",
       "1        2  \n",
       "2        3  \n",
       "3        4  \n",
       "4        5  "
      ]
     },
     "execution_count": 44,
     "metadata": {},
     "output_type": "execute_result"
    }
   ],
   "source": [
    "## No need to change the code here - this will be helpful for later parts of the notebook\n",
    "# Run this cell to map the user email to a user_id column and remove the email column\n",
    "\n",
    "def email_mapper():\n",
    "    coded_dict = dict()\n",
    "    cter = 1\n",
    "    email_encoded = []\n",
    "    \n",
    "    for val in df['email']:\n",
    "        if val not in coded_dict:\n",
    "            coded_dict[val] = cter\n",
    "            cter+=1\n",
    "        \n",
    "        email_encoded.append(coded_dict[val])\n",
    "    return email_encoded\n",
    "\n",
    "email_encoded = email_mapper()\n",
    "del df['email']\n",
    "df['user_id'] = email_encoded\n",
    "\n",
    "# show header\n",
    "df.head()"
   ]
  },
  {
   "cell_type": "code",
   "execution_count": 46,
   "metadata": {},
   "outputs": [
    {
     "name": "stdout",
     "output_type": "stream",
     "text": [
      "<class 'pandas.core.frame.DataFrame'>\n",
      "Index: 1051 entries, 0 to 1055\n",
      "Data columns (total 5 columns):\n",
      " #   Column           Non-Null Count  Dtype \n",
      "---  ------           --------------  ----- \n",
      " 0   doc_body         1037 non-null   object\n",
      " 1   doc_description  1048 non-null   object\n",
      " 2   doc_full_name    1051 non-null   object\n",
      " 3   doc_status       1051 non-null   object\n",
      " 4   article_id       1051 non-null   int64 \n",
      "dtypes: int64(1), object(4)\n",
      "memory usage: 49.3+ KB\n"
     ]
    }
   ],
   "source": [
    "df_content.info()"
   ]
  },
  {
   "cell_type": "markdown",
   "metadata": {},
   "source": [
    "# <a class=\"anchor\" id=\"Rank\">Part II: Rank-Based Recommendations</a>\n",
    "\n",
    "Unlike in the earlier lessons, we don't actually have ratings for whether a user liked an article or not.  We only know that a user has interacted with an article.  In these cases, the popularity of an article can really only be based on how often an article was interacted with.\n",
    "\n",
    "`1.` Fill in the function below to return the **n** top articles ordered with most interactions as the top. Test your function using the tests below."
   ]
  },
  {
   "cell_type": "code",
   "execution_count": 49,
   "metadata": {},
   "outputs": [],
   "source": [
    "def get_top_articles(n, df=df):\n",
    "    '''\n",
    "    INPUT:\n",
    "    n - (int) the number of top articles to return\n",
    "    df - (pandas dataframe) df as defined at the top of the notebook \n",
    "    \n",
    "    OUTPUT:\n",
    "    top_articles - (list) A list of the top 'n' article titles \n",
    "    \n",
    "    '''\n",
    "    # Group by article_id, count the interactions, sort them, and get top 'n' article ids\n",
    "    top_articles_id=df.groupby('article_id')['user_id'].count().sort_values(ascending=False).head(n).index.to_list()  # output : [1429,1330,1431]\n",
    "    top_articles=[]\n",
    "    # Get the titles for the top article ids\n",
    "    for article_id in top_articles_id:\n",
    "        top_articles.append(np.array(df[df['article_id']==article_id]['title'].unique())[0])\n",
    "    return top_articles_id,top_articles # Return the top article titles from df (not df_content)\n",
    "\n"
   ]
  },
  {
   "cell_type": "code",
   "execution_count": 51,
   "metadata": {},
   "outputs": [
    {
     "name": "stdout",
     "output_type": "stream",
     "text": [
      "[1429.0, 1330.0, 1431.0, 1427.0, 1364.0]\n"
     ]
    }
   ],
   "source": [
    "top_5 = get_top_articles(5)[0]\n",
    "print(top_5)"
   ]
  },
  {
   "cell_type": "markdown",
   "metadata": {},
   "source": [
    "### <a class=\"anchor\" id=\"User-User\">Part III: User-User Based Collaborative Filtering</a>\n",
    "\n",
    "\n",
    "`1.` Use the function below to reformat the **df** dataframe to be shaped with users as the rows and articles as the columns.  \n",
    "\n",
    "* Each **user** should only appear in each **row** once.\n",
    "\n",
    "\n",
    "* Each **article** should only show up in one **column**.  \n",
    "\n",
    "\n",
    "* **If a user has interacted with an article, then place a 1 where the user-row meets for that article-column**.  It does not matter how many times a user has interacted with the article, all entries where a user has interacted with an article should be a 1.  \n",
    "\n",
    "\n",
    "* **If a user has not interacted with an item, then place a zero where the user-row meets for that article-column**. \n",
    "\n",
    "Use the tests to make sure the basic structure of your matrix matches what is expected by the solution."
   ]
  },
  {
   "cell_type": "code",
   "execution_count": 54,
   "metadata": {},
   "outputs": [
    {
     "name": "stderr",
     "output_type": "stream",
     "text": [
      "C:\\Users\\Moustafa Abdel-sttar\\AppData\\Local\\Temp\\ipykernel_7088\\61778194.py:15: FutureWarning: Downcasting behavior in `replace` is deprecated and will be removed in a future version. To retain the old behavior, explicitly call `result.infer_objects(copy=False)`. To opt-in to the future behavior, set `pd.set_option('future.no_silent_downcasting', True)`\n",
      "  user_item=df.groupby(['user_id','article_id']).max().unstack(fill_value=0).replace(to_replace=r'.*', value=1, regex=True)\n"
     ]
    }
   ],
   "source": [
    "# create the user-article matrix with 1's and 0's\n",
    "\n",
    "def create_user_item_matrix(df):\n",
    "    '''\n",
    "    INPUT:\n",
    "    df - pandas dataframe with article_id, title, user_id columns\n",
    "    \n",
    "    OUTPUT:\n",
    "    user_item - user item matrix \n",
    "    \n",
    "    Description:\n",
    "    Return a matrix with user ids as rows and article ids on the columns with 1 values where a user interacted with \n",
    "    an article and a 0 otherwise\n",
    "    '''\n",
    "    user_item=df.groupby(['user_id','article_id']).max().unstack(fill_value=0).replace(to_replace=r'.*', value=1, regex=True)\n",
    "    \n",
    "    return user_item # return the user_item matrix \n",
    "\n",
    "user_item = create_user_item_matrix(df)"
   ]
  },
  {
   "cell_type": "code",
   "execution_count": 56,
   "metadata": {
    "scrolled": true
   },
   "outputs": [
    {
     "data": {
      "text/html": [
       "<div>\n",
       "<style scoped>\n",
       "    .dataframe tbody tr th:only-of-type {\n",
       "        vertical-align: middle;\n",
       "    }\n",
       "\n",
       "    .dataframe tbody tr th {\n",
       "        vertical-align: top;\n",
       "    }\n",
       "\n",
       "    .dataframe thead tr th {\n",
       "        text-align: left;\n",
       "    }\n",
       "\n",
       "    .dataframe thead tr:last-of-type th {\n",
       "        text-align: right;\n",
       "    }\n",
       "</style>\n",
       "<table border=\"1\" class=\"dataframe\">\n",
       "  <thead>\n",
       "    <tr>\n",
       "      <th></th>\n",
       "      <th colspan=\"21\" halign=\"left\">title</th>\n",
       "    </tr>\n",
       "    <tr>\n",
       "      <th>article_id</th>\n",
       "      <th>0.0</th>\n",
       "      <th>2.0</th>\n",
       "      <th>4.0</th>\n",
       "      <th>8.0</th>\n",
       "      <th>9.0</th>\n",
       "      <th>12.0</th>\n",
       "      <th>14.0</th>\n",
       "      <th>15.0</th>\n",
       "      <th>16.0</th>\n",
       "      <th>18.0</th>\n",
       "      <th>...</th>\n",
       "      <th>1434.0</th>\n",
       "      <th>1435.0</th>\n",
       "      <th>1436.0</th>\n",
       "      <th>1437.0</th>\n",
       "      <th>1439.0</th>\n",
       "      <th>1440.0</th>\n",
       "      <th>1441.0</th>\n",
       "      <th>1442.0</th>\n",
       "      <th>1443.0</th>\n",
       "      <th>1444.0</th>\n",
       "    </tr>\n",
       "    <tr>\n",
       "      <th>user_id</th>\n",
       "      <th></th>\n",
       "      <th></th>\n",
       "      <th></th>\n",
       "      <th></th>\n",
       "      <th></th>\n",
       "      <th></th>\n",
       "      <th></th>\n",
       "      <th></th>\n",
       "      <th></th>\n",
       "      <th></th>\n",
       "      <th></th>\n",
       "      <th></th>\n",
       "      <th></th>\n",
       "      <th></th>\n",
       "      <th></th>\n",
       "      <th></th>\n",
       "      <th></th>\n",
       "      <th></th>\n",
       "      <th></th>\n",
       "      <th></th>\n",
       "      <th></th>\n",
       "    </tr>\n",
       "  </thead>\n",
       "  <tbody>\n",
       "    <tr>\n",
       "      <th>1</th>\n",
       "      <td>0</td>\n",
       "      <td>0</td>\n",
       "      <td>0</td>\n",
       "      <td>0</td>\n",
       "      <td>0</td>\n",
       "      <td>0</td>\n",
       "      <td>0</td>\n",
       "      <td>0</td>\n",
       "      <td>0</td>\n",
       "      <td>0</td>\n",
       "      <td>...</td>\n",
       "      <td>0</td>\n",
       "      <td>0</td>\n",
       "      <td>1</td>\n",
       "      <td>0</td>\n",
       "      <td>1</td>\n",
       "      <td>0</td>\n",
       "      <td>0</td>\n",
       "      <td>0</td>\n",
       "      <td>0</td>\n",
       "      <td>0</td>\n",
       "    </tr>\n",
       "    <tr>\n",
       "      <th>2</th>\n",
       "      <td>0</td>\n",
       "      <td>0</td>\n",
       "      <td>0</td>\n",
       "      <td>0</td>\n",
       "      <td>0</td>\n",
       "      <td>0</td>\n",
       "      <td>0</td>\n",
       "      <td>0</td>\n",
       "      <td>0</td>\n",
       "      <td>0</td>\n",
       "      <td>...</td>\n",
       "      <td>0</td>\n",
       "      <td>0</td>\n",
       "      <td>0</td>\n",
       "      <td>0</td>\n",
       "      <td>0</td>\n",
       "      <td>0</td>\n",
       "      <td>0</td>\n",
       "      <td>0</td>\n",
       "      <td>0</td>\n",
       "      <td>0</td>\n",
       "    </tr>\n",
       "    <tr>\n",
       "      <th>3</th>\n",
       "      <td>0</td>\n",
       "      <td>0</td>\n",
       "      <td>0</td>\n",
       "      <td>0</td>\n",
       "      <td>0</td>\n",
       "      <td>1</td>\n",
       "      <td>0</td>\n",
       "      <td>0</td>\n",
       "      <td>0</td>\n",
       "      <td>0</td>\n",
       "      <td>...</td>\n",
       "      <td>0</td>\n",
       "      <td>0</td>\n",
       "      <td>1</td>\n",
       "      <td>0</td>\n",
       "      <td>0</td>\n",
       "      <td>0</td>\n",
       "      <td>0</td>\n",
       "      <td>0</td>\n",
       "      <td>0</td>\n",
       "      <td>0</td>\n",
       "    </tr>\n",
       "    <tr>\n",
       "      <th>4</th>\n",
       "      <td>0</td>\n",
       "      <td>0</td>\n",
       "      <td>0</td>\n",
       "      <td>0</td>\n",
       "      <td>0</td>\n",
       "      <td>0</td>\n",
       "      <td>0</td>\n",
       "      <td>0</td>\n",
       "      <td>0</td>\n",
       "      <td>0</td>\n",
       "      <td>...</td>\n",
       "      <td>0</td>\n",
       "      <td>0</td>\n",
       "      <td>0</td>\n",
       "      <td>0</td>\n",
       "      <td>0</td>\n",
       "      <td>0</td>\n",
       "      <td>0</td>\n",
       "      <td>0</td>\n",
       "      <td>0</td>\n",
       "      <td>0</td>\n",
       "    </tr>\n",
       "    <tr>\n",
       "      <th>5</th>\n",
       "      <td>0</td>\n",
       "      <td>0</td>\n",
       "      <td>0</td>\n",
       "      <td>0</td>\n",
       "      <td>0</td>\n",
       "      <td>0</td>\n",
       "      <td>0</td>\n",
       "      <td>0</td>\n",
       "      <td>0</td>\n",
       "      <td>0</td>\n",
       "      <td>...</td>\n",
       "      <td>0</td>\n",
       "      <td>0</td>\n",
       "      <td>0</td>\n",
       "      <td>0</td>\n",
       "      <td>0</td>\n",
       "      <td>0</td>\n",
       "      <td>0</td>\n",
       "      <td>0</td>\n",
       "      <td>0</td>\n",
       "      <td>0</td>\n",
       "    </tr>\n",
       "    <tr>\n",
       "      <th>...</th>\n",
       "      <td>...</td>\n",
       "      <td>...</td>\n",
       "      <td>...</td>\n",
       "      <td>...</td>\n",
       "      <td>...</td>\n",
       "      <td>...</td>\n",
       "      <td>...</td>\n",
       "      <td>...</td>\n",
       "      <td>...</td>\n",
       "      <td>...</td>\n",
       "      <td>...</td>\n",
       "      <td>...</td>\n",
       "      <td>...</td>\n",
       "      <td>...</td>\n",
       "      <td>...</td>\n",
       "      <td>...</td>\n",
       "      <td>...</td>\n",
       "      <td>...</td>\n",
       "      <td>...</td>\n",
       "      <td>...</td>\n",
       "      <td>...</td>\n",
       "    </tr>\n",
       "    <tr>\n",
       "      <th>5145</th>\n",
       "      <td>0</td>\n",
       "      <td>0</td>\n",
       "      <td>0</td>\n",
       "      <td>0</td>\n",
       "      <td>0</td>\n",
       "      <td>0</td>\n",
       "      <td>0</td>\n",
       "      <td>0</td>\n",
       "      <td>0</td>\n",
       "      <td>0</td>\n",
       "      <td>...</td>\n",
       "      <td>0</td>\n",
       "      <td>0</td>\n",
       "      <td>0</td>\n",
       "      <td>0</td>\n",
       "      <td>0</td>\n",
       "      <td>0</td>\n",
       "      <td>0</td>\n",
       "      <td>0</td>\n",
       "      <td>0</td>\n",
       "      <td>0</td>\n",
       "    </tr>\n",
       "    <tr>\n",
       "      <th>5146</th>\n",
       "      <td>0</td>\n",
       "      <td>0</td>\n",
       "      <td>0</td>\n",
       "      <td>0</td>\n",
       "      <td>0</td>\n",
       "      <td>0</td>\n",
       "      <td>0</td>\n",
       "      <td>0</td>\n",
       "      <td>0</td>\n",
       "      <td>0</td>\n",
       "      <td>...</td>\n",
       "      <td>0</td>\n",
       "      <td>0</td>\n",
       "      <td>0</td>\n",
       "      <td>0</td>\n",
       "      <td>0</td>\n",
       "      <td>0</td>\n",
       "      <td>0</td>\n",
       "      <td>0</td>\n",
       "      <td>0</td>\n",
       "      <td>0</td>\n",
       "    </tr>\n",
       "    <tr>\n",
       "      <th>5147</th>\n",
       "      <td>0</td>\n",
       "      <td>0</td>\n",
       "      <td>0</td>\n",
       "      <td>0</td>\n",
       "      <td>0</td>\n",
       "      <td>0</td>\n",
       "      <td>0</td>\n",
       "      <td>0</td>\n",
       "      <td>0</td>\n",
       "      <td>0</td>\n",
       "      <td>...</td>\n",
       "      <td>0</td>\n",
       "      <td>0</td>\n",
       "      <td>0</td>\n",
       "      <td>0</td>\n",
       "      <td>0</td>\n",
       "      <td>0</td>\n",
       "      <td>0</td>\n",
       "      <td>0</td>\n",
       "      <td>0</td>\n",
       "      <td>0</td>\n",
       "    </tr>\n",
       "    <tr>\n",
       "      <th>5148</th>\n",
       "      <td>0</td>\n",
       "      <td>0</td>\n",
       "      <td>0</td>\n",
       "      <td>0</td>\n",
       "      <td>0</td>\n",
       "      <td>0</td>\n",
       "      <td>0</td>\n",
       "      <td>0</td>\n",
       "      <td>0</td>\n",
       "      <td>0</td>\n",
       "      <td>...</td>\n",
       "      <td>0</td>\n",
       "      <td>0</td>\n",
       "      <td>0</td>\n",
       "      <td>0</td>\n",
       "      <td>0</td>\n",
       "      <td>0</td>\n",
       "      <td>0</td>\n",
       "      <td>0</td>\n",
       "      <td>0</td>\n",
       "      <td>0</td>\n",
       "    </tr>\n",
       "    <tr>\n",
       "      <th>5149</th>\n",
       "      <td>0</td>\n",
       "      <td>0</td>\n",
       "      <td>0</td>\n",
       "      <td>0</td>\n",
       "      <td>0</td>\n",
       "      <td>0</td>\n",
       "      <td>0</td>\n",
       "      <td>0</td>\n",
       "      <td>1</td>\n",
       "      <td>0</td>\n",
       "      <td>...</td>\n",
       "      <td>0</td>\n",
       "      <td>0</td>\n",
       "      <td>0</td>\n",
       "      <td>0</td>\n",
       "      <td>0</td>\n",
       "      <td>0</td>\n",
       "      <td>0</td>\n",
       "      <td>0</td>\n",
       "      <td>0</td>\n",
       "      <td>0</td>\n",
       "    </tr>\n",
       "  </tbody>\n",
       "</table>\n",
       "<p>5149 rows × 714 columns</p>\n",
       "</div>"
      ],
      "text/plain": [
       "            title                                                          \\\n",
       "article_id 0.0    2.0    4.0    8.0    9.0    12.0   14.0   15.0   16.0     \n",
       "user_id                                                                     \n",
       "1               0      0      0      0      0      0      0      0      0   \n",
       "2               0      0      0      0      0      0      0      0      0   \n",
       "3               0      0      0      0      0      1      0      0      0   \n",
       "4               0      0      0      0      0      0      0      0      0   \n",
       "5               0      0      0      0      0      0      0      0      0   \n",
       "...           ...    ...    ...    ...    ...    ...    ...    ...    ...   \n",
       "5145            0      0      0      0      0      0      0      0      0   \n",
       "5146            0      0      0      0      0      0      0      0      0   \n",
       "5147            0      0      0      0      0      0      0      0      0   \n",
       "5148            0      0      0      0      0      0      0      0      0   \n",
       "5149            0      0      0      0      0      0      0      0      1   \n",
       "\n",
       "                   ...                                                   \\\n",
       "article_id 18.0    ... 1434.0 1435.0 1436.0 1437.0 1439.0 1440.0 1441.0   \n",
       "user_id            ...                                                    \n",
       "1               0  ...      0      0      1      0      1      0      0   \n",
       "2               0  ...      0      0      0      0      0      0      0   \n",
       "3               0  ...      0      0      1      0      0      0      0   \n",
       "4               0  ...      0      0      0      0      0      0      0   \n",
       "5               0  ...      0      0      0      0      0      0      0   \n",
       "...           ...  ...    ...    ...    ...    ...    ...    ...    ...   \n",
       "5145            0  ...      0      0      0      0      0      0      0   \n",
       "5146            0  ...      0      0      0      0      0      0      0   \n",
       "5147            0  ...      0      0      0      0      0      0      0   \n",
       "5148            0  ...      0      0      0      0      0      0      0   \n",
       "5149            0  ...      0      0      0      0      0      0      0   \n",
       "\n",
       "                                 \n",
       "article_id 1442.0 1443.0 1444.0  \n",
       "user_id                          \n",
       "1               0      0      0  \n",
       "2               0      0      0  \n",
       "3               0      0      0  \n",
       "4               0      0      0  \n",
       "5               0      0      0  \n",
       "...           ...    ...    ...  \n",
       "5145            0      0      0  \n",
       "5146            0      0      0  \n",
       "5147            0      0      0  \n",
       "5148            0      0      0  \n",
       "5149            0      0      0  \n",
       "\n",
       "[5149 rows x 714 columns]"
      ]
     },
     "execution_count": 56,
     "metadata": {},
     "output_type": "execute_result"
    }
   ],
   "source": [
    "user_item"
   ]
  },
  {
   "cell_type": "code",
   "execution_count": 58,
   "metadata": {},
   "outputs": [
    {
     "name": "stdout",
     "output_type": "stream",
     "text": [
      "You have passed our quick tests!  Please proceed!\n"
     ]
    }
   ],
   "source": [
    "## Tests: You should just need to run this cell.  Don't change the code.\n",
    "assert user_item.shape[0] == 5149, \"Oops!  The number of users in the user-article matrix doesn't look right.\"\n",
    "assert user_item.shape[1] == 714, \"Oops!  The number of articles in the user-article matrix doesn't look right.\"\n",
    "assert user_item.sum(axis=1)[1] == 36, \"Oops!  The number of articles seen by user 1 doesn't look right.\"\n",
    "print(\"You have passed our quick tests!  Please proceed!\")"
   ]
  },
  {
   "cell_type": "markdown",
   "metadata": {},
   "source": [
    "`2.` Complete the function below which should take a user_id and provide an ordered list of the most similar users to that user (from most similar to least similar).  The returned result should not contain the provided user_id, as we know that each user is similar to him/herself. Because the results for each user here are binary, it (perhaps) makes sense to compute similarity as the dot product of two users. \n",
    "\n",
    "Use the tests to test your function."
   ]
  },
  {
   "cell_type": "code",
   "execution_count": 61,
   "metadata": {},
   "outputs": [],
   "source": [
    "def find_similar_users(user_id, user_item=user_item):\n",
    "    '''\n",
    "    INPUT:\n",
    "    user_id - (int) a user_id\n",
    "    user_item - (pandas dataframe) matrix of users by articles: \n",
    "                1's when a user has interacted with an article, 0 otherwise\n",
    "    \n",
    "    OUTPUT:\n",
    "    similar_users - (list) an ordered list where the closest users (largest dot product users)\n",
    "                    are listed first\n",
    "    \n",
    "    Description:\n",
    "    Computes the similarity of every pair of users based on the dot product\n",
    "    Returns an ordered\n",
    "    \n",
    "    '''\n",
    "    user_vector = user_item.loc[user_id] # return : a Series of the given user_id\n",
    "    dot_products = user_item.dot(user_vector)  # return : the dot product (similarity) between the given user_id and every other user\n",
    "    most_similar_users=dot_products.sort_values(ascending=False).index.to_list() # return : a sorted list of users based on the magnitude of the dot product (how similar)\n",
    "    # compute similarity of each user to the provided user\n",
    "    # sort by similarity\n",
    "    # create list of just the ids\n",
    "   \n",
    "    # remove the own user's id\n",
    "    return most_similar_users # return a list of the users in order from most to least similar\n",
    "        "
   ]
  },
  {
   "cell_type": "code",
   "execution_count": 63,
   "metadata": {},
   "outputs": [
    {
     "name": "stdout",
     "output_type": "stream",
     "text": [
      "The 10 most similar users to user 1 are: [1, 3933, 23, 3782, 203, 4459, 3870, 131, 4201, 46]\n",
      "The 5 most similar users to user 3933 are: [1, 3933, 23, 3782, 203]\n",
      "The 3 most similar users to user 46 are: [46, 4201, 3782]\n"
     ]
    }
   ],
   "source": [
    "# Do a spot check of your function\n",
    "print(\"The 10 most similar users to user 1 are: {}\".format(find_similar_users(1)[:10]))\n",
    "print(\"The 5 most similar users to user 3933 are: {}\".format(find_similar_users(3933)[:5]))\n",
    "print(\"The 3 most similar users to user 46 are: {}\".format(find_similar_users(46)[:3]))"
   ]
  },
  {
   "cell_type": "markdown",
   "metadata": {},
   "source": [
    "`3.` Now that you have a function that provides the most similar users to each user, you will want to use these users to find articles you can recommend.  Complete the functions below to return the articles you would recommend to each user. "
   ]
  },
  {
   "cell_type": "code",
   "execution_count": 66,
   "metadata": {},
   "outputs": [
    {
     "name": "stdout",
     "output_type": "stream",
     "text": [
      "<class 'pandas.core.frame.DataFrame'>\n",
      "RangeIndex: 45993 entries, 0 to 45992\n",
      "Data columns (total 3 columns):\n",
      " #   Column      Non-Null Count  Dtype  \n",
      "---  ------      --------------  -----  \n",
      " 0   article_id  45993 non-null  float64\n",
      " 1   title       45993 non-null  object \n",
      " 2   user_id     45993 non-null  int64  \n",
      "dtypes: float64(1), int64(1), object(1)\n",
      "memory usage: 1.1+ MB\n"
     ]
    }
   ],
   "source": [
    "df.info()"
   ]
  },
  {
   "cell_type": "code",
   "execution_count": 68,
   "metadata": {},
   "outputs": [],
   "source": [
    "df['article_id']=df['article_id'].astype(str)"
   ]
  },
  {
   "cell_type": "code",
   "execution_count": 70,
   "metadata": {},
   "outputs": [
    {
     "name": "stdout",
     "output_type": "stream",
     "text": [
      "<class 'pandas.core.frame.DataFrame'>\n",
      "RangeIndex: 45993 entries, 0 to 45992\n",
      "Data columns (total 3 columns):\n",
      " #   Column      Non-Null Count  Dtype \n",
      "---  ------      --------------  ----- \n",
      " 0   article_id  45993 non-null  object\n",
      " 1   title       45993 non-null  object\n",
      " 2   user_id     45993 non-null  int64 \n",
      "dtypes: int64(1), object(2)\n",
      "memory usage: 1.1+ MB\n"
     ]
    }
   ],
   "source": [
    "df.info()"
   ]
  },
  {
   "cell_type": "code",
   "execution_count": 72,
   "metadata": {},
   "outputs": [],
   "source": [
    "def get_article_names(article_ids, df=df):\n",
    "    '''\n",
    "    INPUT:\n",
    "    article_ids - (list) a list of article ids\n",
    "    df - (pandas dataframe) df as defined at the top of the notebook\n",
    "    \n",
    "    OUTPUT:\n",
    "    article_names - (list) a list of article names associated with the list of article ids \n",
    "                    (this is identified by the title column)\n",
    "    '''\n",
    "    # Your code here\n",
    "    article_names=[]\n",
    "    article_names = df[df['article_id'].isin(article_ids)].sort_values(by='article_id').groupby('article_id')['title'].first().tolist() # takes an article_ids of int or floats\n",
    "    return article_names# Return the article names associated with list of article ids\n",
    "\n",
    "\n",
    "def get_user_articles(user_id, user_item=user_item):\n",
    "    '''\n",
    "    INPUT:\n",
    "    user_id - (int) a user id\n",
    "    user_item - (pandas dataframe) matrix of users by articles: \n",
    "                1's when a user has interacted with an article, 0 otherwise\n",
    "    \n",
    "    OUTPUT:\n",
    "    article_ids - (list) a list of the article ids seen by the user\n",
    "    article_names - (list) a list of article names associated with the list of article ids \n",
    "                    (this is identified by the doc_full_name column in df_content)\n",
    "    \n",
    "    Description:\n",
    "    Provides a list of the article_ids and article titles that have been seen by a user\n",
    "    '''\n",
    "    # Your code here\n",
    "    user_vector = user_item.loc[user_id] # return : a Series for the given user_id\n",
    "    article_set = user_vector[user_vector == 1].index.tolist() # return: read articles for the given user_id [('title', 43.0),('title', 109.0)]\n",
    "    article_ids = [value for _, value in article_set]    # return : read articles ids without the title word [43.0,109.0]\n",
    "    article_ids_str=list(map(str,article_ids)) # return: ['43.0','109.0']\n",
    "    article_names = get_article_names(article_ids_str) #return: ['access db2 warehouse on cloud and db2 with python',tensorflow quick tips']\n",
    "\n",
    "    return article_ids_str, article_names # return the ids and names\n",
    "\n",
    "\n",
    "def user_user_recs(user_id, m=10):\n",
    "    '''\n",
    "    INPUT:\n",
    "    user_id - (int) a user id\n",
    "    m - (int) the number of recommendations you want for the user\n",
    "    \n",
    "    OUTPUT:\n",
    "    recs - (list) a list of recommendations for the user\n",
    "    \n",
    "    Description:\n",
    "    Loops through the users based on closeness to the input user_id\n",
    "    For each user - finds articles the user hasn't seen before and provides them as recs\n",
    "    Does this until m recommendations are found\n",
    "    \n",
    "    Notes:\n",
    "    Users who are the same closeness are chosen arbitrarily as the 'next' user\n",
    "    \n",
    "    For the user where the number of recommended articles starts below m \n",
    "    and ends exceeding m, the last items are chosen arbitrarily\n",
    "    \n",
    "    \n",
    "    '''\n",
    "    # Your code here\n",
    "    articles_read = get_user_articles(user_id)[0] #return: a list of the articles ids for the given user_id AS Strings\n",
    "    closest_neighbors = find_similar_users(user_id)#return: a list of the users ids for the given user_id AS integrs \n",
    "    recs = np.array([])\n",
    "    for neighbor in closest_neighbors:\n",
    "        neigh_likes = get_user_articles(neighbor)[0]\n",
    "        new_recs = np.setdiff1d(neigh_likes, articles_read, assume_unique=True)#return: a list of articles that the neighbor has liked but the user hasn't read yet\n",
    "        recs = np.unique(np.concatenate([new_recs, recs], axis=0))\n",
    "        \n",
    "        \n",
    "        if len(recs) >= m:\n",
    "            break\n",
    "\n",
    "    \n",
    "    recommendations = get_article_names(recs[:m])\n",
    "    return recommendations\n",
    "    \n",
    "    #return recs # return your recommendations for this user_id    "
   ]
  },
  {
   "cell_type": "code",
   "execution_count": 74,
   "metadata": {},
   "outputs": [
    {
     "data": {
      "text/plain": [
       "['the greatest public datasets for ai – startup grind',\n",
       " 'working interactively with rstudio and notebooks in dsx',\n",
       " 'experience iot with coursera',\n",
       " 'deep learning with tensorflow course by big data university',\n",
       " 'graph-based machine learning',\n",
       " 'data visualization: the importance of excluding unnecessary details']"
      ]
     },
     "execution_count": 74,
     "metadata": {},
     "output_type": "execute_result"
    }
   ],
   "source": [
    "get_article_names(['18.0',\n",
    " '20.0',\n",
    " '29.0',\n",
    " '43.0',\n",
    " '50.0',\n",
    " '62.0'])"
   ]
  },
  {
   "cell_type": "code",
   "execution_count": 76,
   "metadata": {},
   "outputs": [
    {
     "data": {
      "text/plain": [
       "(['43.0',\n",
       "  '109.0',\n",
       "  '151.0',\n",
       "  '268.0',\n",
       "  '310.0',\n",
       "  '329.0',\n",
       "  '346.0',\n",
       "  '390.0',\n",
       "  '494.0',\n",
       "  '525.0',\n",
       "  '585.0',\n",
       "  '626.0',\n",
       "  '668.0',\n",
       "  '732.0',\n",
       "  '768.0',\n",
       "  '910.0',\n",
       "  '968.0',\n",
       "  '981.0',\n",
       "  '1052.0',\n",
       "  '1170.0',\n",
       "  '1183.0',\n",
       "  '1185.0',\n",
       "  '1232.0',\n",
       "  '1293.0',\n",
       "  '1305.0',\n",
       "  '1363.0',\n",
       "  '1368.0',\n",
       "  '1391.0',\n",
       "  '1400.0',\n",
       "  '1406.0',\n",
       "  '1427.0',\n",
       "  '1429.0',\n",
       "  '1430.0',\n",
       "  '1431.0',\n",
       "  '1436.0',\n",
       "  '1439.0'],\n",
       " ['access db2 warehouse on cloud and db2 with python',\n",
       "  'tensorflow quick tips',\n",
       "  'apache spark lab, part 1: basic concepts',\n",
       "  'categorize urban density',\n",
       "  'classify tumors with machine learning',\n",
       "  'country statistics: life expectancy at birth',\n",
       "  'finding optimal locations of new store using decision optimization',\n",
       "  'gosales transactions for naive bayes model',\n",
       "  'predict loan applicant behavior with tensorflow neural networking',\n",
       "  'putting a human face on machine learning',\n",
       "  'sudoku',\n",
       "  'uci ml repository: chronic kidney disease data set',\n",
       "  'uci: iris',\n",
       "  'use xgboost, scikit-learn & ibm watson machine learning apis',\n",
       "  'use deep learning for image classification',\n",
       "  'using pixiedust for fast, flexible, and easier data analysis and experimentation',\n",
       "  'visualize car data with brunel',\n",
       "  'welcome to pixiedust',\n",
       "  'working with ibm cloud object storage in r',\n",
       "  'jupyter notebook tutorial',\n",
       "  'sector correlations shiny app',\n",
       "  'time series prediction using recurrent neural networks (lstms)',\n",
       "  'introduction to market basket analysis in\\xa0python',\n",
       "  'fighting gerrymandering: using data science to draw fairer congressional districts',\n",
       "  'introducing ibm watson studio ',\n",
       "  'deep learning with tensorflow course by big data university',\n",
       "  'python for loops explained (python for data science basics #5)',\n",
       "  'new shiny cheat sheet and video tutorial',\n",
       "  'tidyverse practice: mapping large european cities',\n",
       "  'analyze db2 warehouse on cloud data in rstudio in dsx',\n",
       "  'shiny: a data scientist’s best friend',\n",
       "  'rapidly build machine learning flows with dsx',\n",
       "  'python if statements explained (python for data science basics #4)',\n",
       "  'working with ibm cloud object storage in python',\n",
       "  'shiny 0.13.0',\n",
       "  'super fast string matching in python'])"
      ]
     },
     "execution_count": 76,
     "metadata": {},
     "output_type": "execute_result"
    }
   ],
   "source": [
    "get_user_articles(1)"
   ]
  },
  {
   "cell_type": "code",
   "execution_count": 78,
   "metadata": {},
   "outputs": [
    {
     "data": {
      "text/plain": [
       "['using deep learning to reconstruct high-resolution audio',\n",
       " 'access postgresql with r',\n",
       " 'adolescent fertility rate (births per 1,000 women ages 15-19), worldwide',\n",
       " 'analyze energy consumption in buildings',\n",
       " 'analyze open data sets with spark & pixiedust',\n",
       " 'analyze open data sets with pandas dataframes',\n",
       " 'apache spark lab, part 1: basic concepts',\n",
       " 'apache spark lab, part 3: machine learning',\n",
       " 'classify tumors with machine learning',\n",
       " 'country statistics: stock of broad money']"
      ]
     },
     "execution_count": 78,
     "metadata": {},
     "output_type": "execute_result"
    }
   ],
   "source": [
    "user_user_recs(user_id=29)"
   ]
  },
  {
   "cell_type": "code",
   "execution_count": 80,
   "metadata": {},
   "outputs": [],
   "source": [
    "#count=0\n",
    "#recs = np.array([])\n",
    "#for neighbor in closest_5_neigh:\n",
    "    #print(neighbor)\n",
    "    #neigh_likes = get_user_articles(neighbor)[0]\n",
    "    #print(neigh_likes)\n",
    "    #new_recs = np.setdiff1d(neigh_likes, articles_read, assume_unique=True)\n",
    "    #recs = np.unique(np.concatenate([new_recs, recs], axis=0))\n",
    "    #print(new_recs)\n",
    "#print(recs)"
   ]
  },
  {
   "cell_type": "code",
   "execution_count": 82,
   "metadata": {},
   "outputs": [
    {
     "name": "stdout",
     "output_type": "stream",
     "text": [
      "If this is all you see, you passed all of our tests!  Nice job!\n"
     ]
    }
   ],
   "source": [
    "# Test your functions here - No need to change this code - just run this cell\n",
    "assert set(get_article_names(['1024.0', '1176.0', '1305.0', '1314.0', '1422.0', '1427.0'])) == set(['using deep learning to reconstruct high-resolution audio', 'build a python app on the streaming analytics service', 'gosales transactions for naive bayes model', 'healthcare python streaming application demo', 'use r dataframes & ibm watson natural language understanding', 'use xgboost, scikit-learn & ibm watson machine learning apis']), \"Oops! Your the get_article_names function doesn't work quite how we expect.\"\n",
    "assert set(get_article_names(['1320.0', '232.0', '844.0'])) == set(['housing (2015): united states demographic measures','self-service data preparation with ibm data refinery','use the cloudant-spark connector in python notebook']), \"Oops! Your the get_article_names function doesn't work quite how we expect.\"\n",
    "assert set(get_user_articles(20)[0]) == set(['1320.0', '232.0', '844.0'])\n",
    "assert set(get_user_articles(20)[1]) == set(['housing (2015): united states demographic measures', 'self-service data preparation with ibm data refinery','use the cloudant-spark connector in python notebook'])\n",
    "assert set(get_user_articles(2)[0]) == set(['1024.0', '1176.0', '1305.0', '1314.0', '1422.0', '1427.0'])\n",
    "assert set(get_user_articles(2)[1]) == set(['using deep learning to reconstruct high-resolution audio', 'build a python app on the streaming analytics service', 'gosales transactions for naive bayes model', 'healthcare python streaming application demo', 'use r dataframes & ibm watson natural language understanding', 'use xgboost, scikit-learn & ibm watson machine learning apis'])\n",
    "print(\"If this is all you see, you passed all of our tests!  Nice job!\")"
   ]
  },
  {
   "cell_type": "markdown",
   "metadata": {},
   "source": [
    "`4.` Now we are going to improve the consistency of the **user_user_recs** function from above.  \n",
    "\n",
    "* Instead of arbitrarily choosing when we obtain users who are all the same closeness to a given user - choose the users that have the most total article interactions before choosing those with fewer article interactions.\n",
    "\n",
    "\n",
    "* Instead of arbitrarily choosing articles from the user where the number of recommended articles starts below m and ends exceeding m, choose articles with the articles with the most total interactions before choosing those with fewer total interactions. This ranking should be  what would be obtained from the **top_articles** function you wrote earlier."
   ]
  },
  {
   "cell_type": "code",
   "execution_count": 85,
   "metadata": {},
   "outputs": [],
   "source": [
    "def get_top_sorted_users(user_id, df=df, user_item=user_item):\n",
    "    '''\n",
    "    INPUT:\n",
    "    user_id - (int)\n",
    "    df - (pandas dataframe) df as defined at the top of the notebook \n",
    "    user_item - (pandas dataframe) matrix of users by articles: \n",
    "            1's when a user has interacted with an article, 0 otherwise\n",
    "    \n",
    "            \n",
    "    OUTPUT:\n",
    "    neighbors_df - (pandas dataframe) a dataframe with:\n",
    "                    neighbor_id - is a neighbor user_id\n",
    "                    similarity - measure of the similarity of each user to the provided user_id\n",
    "                    num_interactions - the number of articles viewed by the user - if a u\n",
    "                    \n",
    "    Other Details - sort the neighbors_df by the similarity and then by number of interactions where \n",
    "                    highest of each is higher in the dataframe\n",
    "     \n",
    "    '''\n",
    "    # Your code here\n",
    "    user_vector = user_item.loc[user_id]\n",
    "    dot_products = user_item.dot(user_vector)\n",
    "\n",
    "# Get article counts for each user\n",
    "    article_counts = {}\n",
    "    for user in dot_products.index:\n",
    "        article_ids, _ = get_user_articles(user)  # Assuming this returns both ids and names\n",
    "        article_counts[user] = len(article_ids)\n",
    "    neighbors_df = pd.DataFrame({\n",
    "    'neighbor_id': dot_products.index,\n",
    "    'similarity': dot_products.values,\n",
    "    'num_interactions': [article_counts[user] for user in dot_products.index]})\n",
    "    neighbors_df= neighbors_df.sort_values(by=['similarity', 'num_interactions'], ascending=[False, False]).set_index('neighbor_id')\n",
    "\n",
    "    return neighbors_df # Return the dataframe specified in the doc_string\n",
    "\n",
    "\n",
    "def user_user_recs_part2(user_id, m=10):\n",
    "    '''\n",
    "    INPUT:\n",
    "    user_id - (int) a user id\n",
    "    m - (int) the number of recommendations you want for the user\n",
    "    \n",
    "    OUTPUT:\n",
    "    recs - (list) a list of recommendations for the user by article id\n",
    "    rec_names - (list) a list of recommendations for the user by article title\n",
    "    \n",
    "    Description:\n",
    "    Loops through the users based on closeness to the input user_id\n",
    "    For each user - finds articles the user hasn't seen before and provides them as recs\n",
    "    Does this until m recommendations are found\n",
    "    \n",
    "    Notes:\n",
    "    * Choose the users that have the most total article interactions \n",
    "    before choosing those with fewer article interactions.\n",
    "\n",
    "    * Choose articles with the articles with the most total interactions \n",
    "    before choosing those with fewer total interactions. \n",
    "   \n",
    "    '''\n",
    "    # Your code here\n",
    "    articles_read = get_user_articles(user_id)[0]\n",
    "    well_sorted_neighbors=get_top_sorted_users(user_id).index.tolist()\n",
    "    recs = np.array([])\n",
    "    for neighbor in well_sorted_neighbors:\n",
    "        neigh_likes = get_user_articles(neighbor)[0]\n",
    "        new_recs = np.setdiff1d(neigh_likes, articles_read, assume_unique=True)\n",
    "        recs = np.unique(np.concatenate([new_recs, recs], axis=0))\n",
    "        if len(recs) >= m:\n",
    "            break\n",
    "    \n",
    "\n",
    "    \n",
    "    rec_names = get_article_names(recs[:m])\n",
    "\n",
    "\n",
    "\n",
    "    \n",
    "    return recs[:m], rec_names\n"
   ]
  },
  {
   "cell_type": "code",
   "execution_count": 87,
   "metadata": {},
   "outputs": [
    {
     "data": {
      "text/plain": [
       "[2, 49, 3764, 98, 3697, 3782, 38, 21, 23, 5083]"
      ]
     },
     "execution_count": 87,
     "metadata": {},
     "output_type": "execute_result"
    }
   ],
   "source": [
    "find_similar_users(2)[:10]"
   ]
  },
  {
   "cell_type": "code",
   "execution_count": 89,
   "metadata": {},
   "outputs": [
    {
     "data": {
      "text/html": [
       "<div>\n",
       "<style scoped>\n",
       "    .dataframe tbody tr th:only-of-type {\n",
       "        vertical-align: middle;\n",
       "    }\n",
       "\n",
       "    .dataframe tbody tr th {\n",
       "        vertical-align: top;\n",
       "    }\n",
       "\n",
       "    .dataframe thead th {\n",
       "        text-align: right;\n",
       "    }\n",
       "</style>\n",
       "<table border=\"1\" class=\"dataframe\">\n",
       "  <thead>\n",
       "    <tr style=\"text-align: right;\">\n",
       "      <th></th>\n",
       "      <th>similarity</th>\n",
       "      <th>num_interactions</th>\n",
       "    </tr>\n",
       "    <tr>\n",
       "      <th>neighbor_id</th>\n",
       "      <th></th>\n",
       "      <th></th>\n",
       "    </tr>\n",
       "  </thead>\n",
       "  <tbody>\n",
       "    <tr>\n",
       "      <th>2</th>\n",
       "      <td>6</td>\n",
       "      <td>6</td>\n",
       "    </tr>\n",
       "    <tr>\n",
       "      <th>49</th>\n",
       "      <td>5</td>\n",
       "      <td>101</td>\n",
       "    </tr>\n",
       "    <tr>\n",
       "      <th>3697</th>\n",
       "      <td>5</td>\n",
       "      <td>100</td>\n",
       "    </tr>\n",
       "    <tr>\n",
       "      <th>98</th>\n",
       "      <td>5</td>\n",
       "      <td>97</td>\n",
       "    </tr>\n",
       "    <tr>\n",
       "      <th>3764</th>\n",
       "      <td>5</td>\n",
       "      <td>97</td>\n",
       "    </tr>\n",
       "    <tr>\n",
       "      <th>23</th>\n",
       "      <td>4</td>\n",
       "      <td>135</td>\n",
       "    </tr>\n",
       "    <tr>\n",
       "      <th>3782</th>\n",
       "      <td>4</td>\n",
       "      <td>135</td>\n",
       "    </tr>\n",
       "    <tr>\n",
       "      <th>4785</th>\n",
       "      <td>4</td>\n",
       "      <td>62</td>\n",
       "    </tr>\n",
       "    <tr>\n",
       "      <th>21</th>\n",
       "      <td>4</td>\n",
       "      <td>61</td>\n",
       "    </tr>\n",
       "    <tr>\n",
       "      <th>290</th>\n",
       "      <td>4</td>\n",
       "      <td>58</td>\n",
       "    </tr>\n",
       "  </tbody>\n",
       "</table>\n",
       "</div>"
      ],
      "text/plain": [
       "             similarity  num_interactions\n",
       "neighbor_id                              \n",
       "2                     6                 6\n",
       "49                    5               101\n",
       "3697                  5               100\n",
       "98                    5                97\n",
       "3764                  5                97\n",
       "23                    4               135\n",
       "3782                  4               135\n",
       "4785                  4                62\n",
       "21                    4                61\n",
       "290                   4                58"
      ]
     },
     "execution_count": 89,
     "metadata": {},
     "output_type": "execute_result"
    }
   ],
   "source": [
    "get_top_sorted_users(2).head(10)"
   ]
  },
  {
   "cell_type": "code",
   "execution_count": 90,
   "metadata": {},
   "outputs": [
    {
     "data": {
      "text/plain": [
       "['mapping points with folium',\n",
       " 'a comparison of logistic regression and naive bayes ',\n",
       " 'access mysql with python',\n",
       " 'tidy up your jupyter notebooks with scripts',\n",
       " 'analyze accident reports on amazon emr spark',\n",
       " 'analyze energy consumption in buildings',\n",
       " 'analyze open data sets with spark & pixiedust',\n",
       " 'analyze open data sets with pandas dataframes',\n",
       " 'analyze precipitation data',\n",
       " 'analyzing data by using the sparkling.data library features']"
      ]
     },
     "execution_count": 90,
     "metadata": {},
     "output_type": "execute_result"
    }
   ],
   "source": [
    "user_user_recs(2)"
   ]
  },
  {
   "cell_type": "code",
   "execution_count": 91,
   "metadata": {},
   "outputs": [
    {
     "data": {
      "text/plain": [
       "['mapping points with folium',\n",
       " 'a comparison of logistic regression and naive bayes ',\n",
       " 'access mysql with python',\n",
       " 'tidy up your jupyter notebooks with scripts',\n",
       " 'analyze accident reports on amazon emr spark',\n",
       " 'analyze energy consumption in buildings',\n",
       " 'analyze open data sets with spark & pixiedust',\n",
       " 'analyze open data sets with pandas dataframes',\n",
       " 'analyze precipitation data',\n",
       " 'analyzing data by using the sparkling.data library features']"
      ]
     },
     "execution_count": 91,
     "metadata": {},
     "output_type": "execute_result"
    }
   ],
   "source": [
    "user_user_recs_part2(2)[1]"
   ]
  },
  {
   "cell_type": "code",
   "execution_count": 95,
   "metadata": {},
   "outputs": [
    {
     "name": "stdout",
     "output_type": "stream",
     "text": [
      "The top 10 recommendations for user 20 are the following article ids:\n",
      "['1014.0' '1059.0' '109.0' '111.0' '1157.0' '1162.0' '1164.0' '1172.0'\n",
      " '1186.0' '12.0']\n",
      "\n",
      "The top 10 recommendations for user 20 are the following article names:\n",
      "['1448    i ranked every intro to data science course on...\\nName: title, dtype: object', 'airbnb data for analytics: amsterdam calendar', 'tensorflow quick tips', 'tidy up your jupyter notebooks with scripts', 'airbnb data for analytics: washington d.c. listings', 'analyze energy consumption in buildings', 'analyze open data sets with pandas dataframes', 'apache spark lab, part 3: machine learning', 'connect to db2 warehouse on cloud and db2 using scala', 'timeseries data analysis of iot events by using jupyter notebook']\n"
     ]
    }
   ],
   "source": [
    "# Quick spot check - don't change this code - just use it to test your functions\n",
    "rec_ids, rec_names = user_user_recs_part2(20, 10)\n",
    "print(\"The top 10 recommendations for user 20 are the following article ids:\")\n",
    "print(rec_ids)\n",
    "print()\n",
    "print(\"The top 10 recommendations for user 20 are the following article names:\")\n",
    "print(rec_names)"
   ]
  },
  {
   "cell_type": "markdown",
   "metadata": {},
   "source": [
    "`5.` Use your functions from above to correctly fill in the solutions to the dictionary below.  Then test your dictionary against the solution.  Provide the code you need to answer each following the comments below."
   ]
  },
  {
   "cell_type": "code",
   "execution_count": 97,
   "metadata": {},
   "outputs": [],
   "source": [
    "neighbors_df = get_top_sorted_users(1)"
   ]
  },
  {
   "cell_type": "code",
   "execution_count": 98,
   "metadata": {},
   "outputs": [],
   "source": [
    "neighbors_df_2 = get_top_sorted_users(131)"
   ]
  },
  {
   "cell_type": "code",
   "execution_count": 99,
   "metadata": {},
   "outputs": [],
   "source": [
    "### Tests with a dictionary of results\n",
    "user1_most_sim =user1_most_sim = neighbors_df[neighbors_df.index != 1].iloc[0].name # Find the user that is most similar to user 1 \n",
    "user131_10th_sim = neighbors_df_2[neighbors_df.index != 1].iloc[10].name# Find the 10th most similar user to user 131"
   ]
  },
  {
   "cell_type": "code",
   "execution_count": 100,
   "metadata": {},
   "outputs": [],
   "source": [
    "## Dictionary Test Here\n",
    "sol_5_dict = {\n",
    "    'The user that is most similar to user 1.': 3933, \n",
    "    'The user that is the 10th most similar to user 131': 242,\n",
    "}\n",
    "\n",
    "#t.sol_5_test(sol_5_dict)"
   ]
  },
  {
   "cell_type": "markdown",
   "metadata": {},
   "source": [
    "`6.` If we were given a new user, which of the above functions would you be able to use to make recommendations?  Explain.  Can you think of a better way we might make recommendations?  Use the cell below to explain a better method for new users."
   ]
  },
  {
   "cell_type": "markdown",
   "metadata": {},
   "source": [
    "Rank-Based Recommendation for New Users: Since collaborative filtering relies on interaction history, we can recommend popular articles to new users based on overall article interaction counts (e.g., most viewed or liked articles). This ensures recommendations without needing user-specific data.\n",
    "\n",
    "Content-Based or Hybrid Approach: Alternatively, we could use content-based filtering, recommending articles based on the user's preferences or interests. A hybrid method could combine both popular articles and user-specific content preferences, gradually incorporating collaborative filtering as the user interacts more."
   ]
  },
  {
   "cell_type": "markdown",
   "metadata": {},
   "source": [
    "`7.` Using your existing functions, provide the top 10 recommended articles you would provide for the a new user below.  You can test your function against our thoughts to make sure we are all on the same page with how we might make a recommendation."
   ]
  },
  {
   "cell_type": "code",
   "execution_count": 109,
   "metadata": {},
   "outputs": [
    {
     "data": {
      "text/plain": [
       "{'1162.0',\n",
       " '1170.0',\n",
       " '1293.0',\n",
       " '1304.0',\n",
       " '1314.0',\n",
       " '1330.0',\n",
       " '1364.0',\n",
       " '1427.0',\n",
       " '1429.0',\n",
       " '1431.0'}"
      ]
     },
     "execution_count": 109,
     "metadata": {},
     "output_type": "execute_result"
    }
   ],
   "source": [
    "new_user = '0.0'\n",
    "\n",
    "# What would your recommendations be for this new user '0.0'?  As a new user, they have no observed articles.\n",
    "# Provide a list of the top 10 article ids you would give to \n",
    "new_user_recs= set(get_top_articles(10)[0])# Your recommendations here\n",
    "new_user_recs"
   ]
  },
  {
   "cell_type": "code",
   "execution_count": 111,
   "metadata": {},
   "outputs": [
    {
     "name": "stdout",
     "output_type": "stream",
     "text": [
      "That's right!  Nice job!\n"
     ]
    }
   ],
   "source": [
    "assert set(new_user_recs) == set(['1314.0','1429.0','1293.0','1427.0','1162.0','1364.0','1304.0','1170.0','1431.0','1330.0']), \"Oops!  It makes sense that in this case we would want to recommend the most popular articles, because we don't know anything about these users.\"\n",
    "\n",
    "print(\"That's right!  Nice job!\")"
   ]
  },
  {
   "cell_type": "markdown",
   "metadata": {},
   "source": [
    "### <a class=\"anchor\" id=\"Content-Recs\">Part IV: Content Based Recommendations (EXTRA - NOT REQUIRED)</a>\n",
    "\n",
    "Another method we might use to make recommendations is to perform a ranking of the highest ranked articles associated with some term.  You might consider content to be the **doc_body**, **doc_description**, or **doc_full_name**.  There isn't one way to create a content based recommendation, especially considering that each of these columns hold content related information.  \n",
    "\n",
    "`1.` Use the function body below to create a content based recommender.  Since there isn't one right answer for this recommendation tactic, no test functions are provided.  Feel free to change the function inputs if you decide you want to try a method that requires more input values.  The input values are currently set with one idea in mind that you may use to make content based recommendations.  One additional idea is that you might want to choose the most popular recommendations that meet your 'content criteria', but again, there is a lot of flexibility in how you might make these recommendations.\n",
    "\n",
    "### This part is NOT REQUIRED to pass this project.  However, you may choose to take this on as an extra way to show off your skills."
   ]
  },
  {
   "cell_type": "code",
   "execution_count": 114,
   "metadata": {},
   "outputs": [],
   "source": [
    "df_content['combined_content'] = df_content['doc_description'] + \" \" + df_content['doc_full_name']\n"
   ]
  },
  {
   "cell_type": "code",
   "execution_count": 116,
   "metadata": {},
   "outputs": [
    {
     "data": {
      "text/html": [
       "<div>\n",
       "<style scoped>\n",
       "    .dataframe tbody tr th:only-of-type {\n",
       "        vertical-align: middle;\n",
       "    }\n",
       "\n",
       "    .dataframe tbody tr th {\n",
       "        vertical-align: top;\n",
       "    }\n",
       "\n",
       "    .dataframe thead th {\n",
       "        text-align: right;\n",
       "    }\n",
       "</style>\n",
       "<table border=\"1\" class=\"dataframe\">\n",
       "  <thead>\n",
       "    <tr style=\"text-align: right;\">\n",
       "      <th></th>\n",
       "      <th>doc_body</th>\n",
       "      <th>doc_description</th>\n",
       "      <th>doc_full_name</th>\n",
       "      <th>doc_status</th>\n",
       "      <th>article_id</th>\n",
       "      <th>combined_content</th>\n",
       "    </tr>\n",
       "  </thead>\n",
       "  <tbody>\n",
       "    <tr>\n",
       "      <th>0</th>\n",
       "      <td>Skip navigation Sign in SearchLoading...\\r\\n\\r\\nClose Yeah, keep it Undo CloseTHIS VIDEO IS UNAVAILABLE.\\r\\nWATCH QUEUE\\r\\nQUEUE\\r\\nWatch Queue Queue * Remove all\\r\\n * Disconnect\\r\\n\\r\\nThe next video is starting stop 1. Loading...\\r\\n\\r\\nWatch ...</td>\n",
       "      <td>Detect bad readings in real time using Python and Streaming Analytics.</td>\n",
       "      <td>Detect Malfunctioning IoT Sensors with Streaming Analytics</td>\n",
       "      <td>Live</td>\n",
       "      <td>0</td>\n",
       "      <td>Detect bad readings in real time using Python and Streaming Analytics. Detect Malfunctioning IoT Sensors with Streaming Analytics</td>\n",
       "    </tr>\n",
       "    <tr>\n",
       "      <th>1</th>\n",
       "      <td>No Free Hunch Navigation * kaggle.com\\r\\n\\r\\n * kaggle.com\\r\\n\\r\\nCommunicating data science: A guide to presenting your work 4COMMUNICATING DATA SCIENCE: A GUIDE TO PRESENTING YOUR WORK\\r\\nMegan Risdal | 06.29.2016\\r\\n\\r\\nSee the forest, see the...</td>\n",
       "      <td>See the forest, see the trees. Here lies the challenge in both performing and presenting an analysis. As data scientists, analysts, and machine learning engineers faced with fulfilling business obj…</td>\n",
       "      <td>Communicating data science: A guide to presenting your work</td>\n",
       "      <td>Live</td>\n",
       "      <td>1</td>\n",
       "      <td>See the forest, see the trees. Here lies the challenge in both performing and presenting an analysis. As data scientists, analysts, and machine learning engineers faced with fulfilling business obj… Communicating data science: A guide to presenti...</td>\n",
       "    </tr>\n",
       "    <tr>\n",
       "      <th>2</th>\n",
       "      <td>☰ * Login\\r\\n * Sign Up\\r\\n\\r\\n * Learning Paths\\r\\n * Courses * Our Courses\\r\\n    * Partner Courses\\r\\n   \\r\\n   \\r\\n * Badges * Our Badges\\r\\n    * BDU Badge Program\\r\\n   \\r\\n   \\r\\n * Watson Student Advisor\\r\\n\\r\\n * \\r\\n\\r\\nBLOG\\r\\nWelcome ...</td>\n",
       "      <td>Here’s this week’s news in Data Science and Big Data.</td>\n",
       "      <td>This Week in Data Science (April 18, 2017)</td>\n",
       "      <td>Live</td>\n",
       "      <td>2</td>\n",
       "      <td>Here’s this week’s news in Data Science and Big Data. This Week in Data Science (April 18, 2017)</td>\n",
       "    </tr>\n",
       "    <tr>\n",
       "      <th>3</th>\n",
       "      <td>DATALAYER: HIGH THROUGHPUT, LOW LATENCY AT SCALE - BOOST THE PERFORMANCE OF YOUR\\r\\nDISTRIBUTED DATABASE\\r\\nShare on Twitter Share on Facebook Share on Google+ Vote on Hacker News Published Dec 29, 2016Learn how distributed DBs (Cassandra, MongoD...</td>\n",
       "      <td>Learn how distributed DBs solve the problem of scaling persistent storage, but introduce latency as data size increases and become I/O bound.</td>\n",
       "      <td>DataLayer Conference: Boost the performance of your distributed database</td>\n",
       "      <td>Live</td>\n",
       "      <td>3</td>\n",
       "      <td>Learn how distributed DBs solve the problem of scaling persistent storage, but introduce latency as data size increases and become I/O bound. DataLayer Conference: Boost the performance of your distributed database</td>\n",
       "    </tr>\n",
       "    <tr>\n",
       "      <th>4</th>\n",
       "      <td>Skip navigation Sign in SearchLoading...\\r\\n\\r\\nClose Yeah, keep it Undo CloseTHIS VIDEO IS UNAVAILABLE.\\r\\nWATCH QUEUE\\r\\nQUEUE\\r\\nWatch Queue Queue * Remove all\\r\\n * Disconnect\\r\\n\\r\\nThe next video is starting stop 1. Loading...\\r\\n\\r\\nWatch ...</td>\n",
       "      <td>This video demonstrates the power of IBM DataScience Experience using a simple New York State Restaurant Inspections data scenario.</td>\n",
       "      <td>Analyze NY Restaurant data using Spark in DSX</td>\n",
       "      <td>Live</td>\n",
       "      <td>4</td>\n",
       "      <td>This video demonstrates the power of IBM DataScience Experience using a simple New York State Restaurant Inspections data scenario.  Analyze NY Restaurant data using Spark in DSX</td>\n",
       "    </tr>\n",
       "    <tr>\n",
       "      <th>5</th>\n",
       "      <td>Compose is all about immediacy. You want a new database - you can have it in seconds. You want your database metrics - they're just a click away in your dashboard. And, for MongoDB and Redis, we've also provided immediate access to the database t...</td>\n",
       "      <td>Using Compose's PostgreSQL data browser.</td>\n",
       "      <td>Browsing PostgreSQL Data with Compose</td>\n",
       "      <td>Live</td>\n",
       "      <td>5</td>\n",
       "      <td>Using Compose's PostgreSQL data browser. Browsing PostgreSQL Data with Compose</td>\n",
       "    </tr>\n",
       "    <tr>\n",
       "      <th>6</th>\n",
       "      <td>UPGRADING YOUR POSTGRESQL TO 9.5Share on Twitter Share on Facebook Share on Google+ Vote on Hacker News Published Apr 26, 2016Upgrading your PostgreSQL deployment to version 9.5 is now possible through theCompose console. Working out how to perfo...</td>\n",
       "      <td>Upgrading your PostgreSQL deployment to version 9.5 is now possible through the Compose console. Working out how to perform this upgrade safely and reliably has been an interesting process because from version 9.4 to 9.5 is a PostgreSQL major upg...</td>\n",
       "      <td>Upgrading your PostgreSQL to 9.5</td>\n",
       "      <td>Live</td>\n",
       "      <td>6</td>\n",
       "      <td>Upgrading your PostgreSQL deployment to version 9.5 is now possible through the Compose console. Working out how to perform this upgrade safely and reliably has been an interesting process because from version 9.4 to 9.5 is a PostgreSQL major upg...</td>\n",
       "    </tr>\n",
       "    <tr>\n",
       "      <th>7</th>\n",
       "      <td>Follow Sign in / Sign up 135 8 * Share\\r\\n * 135\\r\\n * \\r\\n * \\r\\n\\r\\nNever miss a story from Several People Are Coding , when you sign up for Medium. Learn more Never miss a story from Several People Are Coding Get updates Get updates Ronnie Blo...</td>\n",
       "      <td>For a company like Slack that strives to be as data-driven as possible, understanding how our users use our product is essential. The Data Engineering team at Slack works to provide an ecosystem to…</td>\n",
       "      <td>Data Wrangling at Slack</td>\n",
       "      <td>Live</td>\n",
       "      <td>7</td>\n",
       "      <td>For a company like Slack that strives to be as data-driven as possible, understanding how our users use our product is essential. The Data Engineering team at Slack works to provide an ecosystem to… Data Wrangling at Slack</td>\n",
       "    </tr>\n",
       "    <tr>\n",
       "      <th>8</th>\n",
       "      <td>* Host\\r\\n * Competitions\\r\\n * Datasets\\r\\n * Kernels\\r\\n * Jobs\\r\\n * Community ▾ * User Rankings\\r\\n    * Forum\\r\\n    * Blog\\r\\n    * Wiki\\r\\n   \\r\\n   \\r\\n * \\r\\n\\r\\n * Sign up\\r\\n * Login\\r\\n\\r\\nLog in\\r\\nwith — Remember me? Forgot your Use...</td>\n",
       "      <td>Kaggle is your home for data science. Learn new skills, build your career, collaborate with other data scientists, and compete in world-class machine learning challenges.</td>\n",
       "      <td>Data Science Bowl 2017</td>\n",
       "      <td>Live</td>\n",
       "      <td>8</td>\n",
       "      <td>Kaggle is your home for data science. Learn new skills, build your career, collaborate with other data scientists, and compete in world-class machine learning challenges. Data Science Bowl 2017</td>\n",
       "    </tr>\n",
       "    <tr>\n",
       "      <th>9</th>\n",
       "      <td>THE GRADIENT FLOW\\r\\nDATA / TECHNOLOGY / CULTURE\\r\\nMenu Search Skip to content * Home\\r\\n * About\\r\\n * Calendar\\r\\n * Contact\\r\\n * Hardcore Data Science and Data Engineering\\r\\n * The Data Show\\r\\n * Webcasts\\r\\n\\r\\nSearch for:USING APACHE SPA...</td>\n",
       "      <td>[A version of this post appears on the O’Reilly Radar.] The O’Reilly Data Show podcast: Fang Yu on data science in security, unsupervised learning, and Apache Spark. Subscribe to the O’Reilly…</td>\n",
       "      <td>Using Apache Spark to predict attack vectors among billions of users and trillions of events</td>\n",
       "      <td>Live</td>\n",
       "      <td>9</td>\n",
       "      <td>[A version of this post appears on the O’Reilly Radar.] The O’Reilly Data Show podcast: Fang Yu on data science in security, unsupervised learning, and Apache Spark. Subscribe to the O’Reilly… Using Apache Spark to predict attack vectors among bi...</td>\n",
       "    </tr>\n",
       "    <tr>\n",
       "      <th>10</th>\n",
       "      <td>OFFLINE-FIRST IOS APPS WITH SWIFT &amp; PART 1: THE DATASTOREJason H. Smith / January 25, 2016This walk-through is a sequel to Apple’s well-known iOS programmingintroduction, Start Developing iOS Apps (Swift) . Apple’s introduction walks us through t...</td>\n",
       "      <td>Apple's sample app, Food Tracker, taught you iOS. Now, take it further and sync data between devices, through the cloud, with an offline-first design.</td>\n",
       "      <td>Offline-First iOS Apps with Swift &amp; Cloudant Sync; Part 1: The Datastore</td>\n",
       "      <td>Live</td>\n",
       "      <td>10</td>\n",
       "      <td>Apple's sample app, Food Tracker, taught you iOS. Now, take it further and sync data between devices, through the cloud, with an offline-first design. Offline-First iOS Apps with Swift &amp; Cloudant Sync; Part 1: The Datastore</td>\n",
       "    </tr>\n",
       "    <tr>\n",
       "      <th>11</th>\n",
       "      <td>Warehousing data from Cloudant to dashDB greatly enhances your options to analyze that data. Now, we have extended this capability to include GeoJSON documents. An ever increasing number of mobile and internet-of-things (IOT) applications capture...</td>\n",
       "      <td>Replicating data to a relational dashDB database greatly enhances your options to analyze that data. In addition to the ability to query the warehouse with SQL, you can use the power of the statistical R language to do the analysis. Now, we have ...</td>\n",
       "      <td>Warehousing GeoJSON documents</td>\n",
       "      <td>Live</td>\n",
       "      <td>11</td>\n",
       "      <td>Replicating data to a relational dashDB database greatly enhances your options to analyze that data. In addition to the ability to query the warehouse with SQL, you can use the power of the statistical R language to do the analysis. Now, we have ...</td>\n",
       "    </tr>\n",
       "    <tr>\n",
       "      <th>12</th>\n",
       "      <td>Skip to main content IBM developerWorks / Developer Centers Sign In | Register Toggle navigation * Sign in\\r\\n * \\r\\n\\r\\nCreate New RecipeRECIPE\\r\\nLearn moreLOADING...\\r\\n\\r\\nIBM\\r\\nLovesRecipes@IoTF\\r\\n\\r\\nTIMESERIES DATA ANALYSIS OF IOT EVENTS...</td>\n",
       "      <td>This recipe showcases how one can analyze the historical time series data, captured on the IBM Watson IoT platform, in a Jupyter Notebook using Spark SQL and Pandas DataFrames. Also, use the pre-installed matplotlib library to visualize results.</td>\n",
       "      <td>Timeseries Data Analysis of IoT events by using Jupyter Notebook</td>\n",
       "      <td>Live</td>\n",
       "      <td>12</td>\n",
       "      <td>This recipe showcases how one can analyze the historical time series data, captured on the IBM Watson IoT platform, in a Jupyter Notebook using Spark SQL and Pandas DataFrames. Also, use the pre-installed matplotlib library to visualize results. ...</td>\n",
       "    </tr>\n",
       "    <tr>\n",
       "      <th>13</th>\n",
       "      <td>Maureen McElaney Blocked Unblock Follow Following dev advocate at @IBM Watson Data Platform. founder of @GDIBurlington. executive\\r\\nfellow at @BTVIgnite. content here is mine. Website: http://mcelaney.me/ Apr 24\\r\\n------------------------------...</td>\n",
       "      <td>There’s a reason you’ve been hearing a lot about data science notebooks lately: data scientists are in high demand, and the Python programming language is widely used. In particular, Jupyter…</td>\n",
       "      <td>Bridging the Gap Between Python and Scala Jupyter Notebooks</td>\n",
       "      <td>Live</td>\n",
       "      <td>13</td>\n",
       "      <td>There’s a reason you’ve been hearing a lot about data science notebooks lately: data scientists are in high demand, and the Python programming language is widely used. In particular, Jupyter… Bridging the Gap Between Python and Scala Jupyter Note...</td>\n",
       "    </tr>\n",
       "    <tr>\n",
       "      <th>14</th>\n",
       "      <td>Raj Singh Blocked Unblock Follow Following Developer Advocate and Open Data Lead at IBM Watson Data Platform Aug 15\\r\\n--------------------------------------------------------------------------------\\r\\n\\r\\nGOT ZIP CODE DATA? PREP IT FOR ANALYTIC...</td>\n",
       "      <td>Who are those people lurking behind the statistics in your data? Whether you are looking at retail shoppers, insurance policy holders, banking customers or political constituents, the more you can…</td>\n",
       "      <td>Got zip code data? Prep it for analytics. – IBM Watson Data Lab – Medium</td>\n",
       "      <td>Live</td>\n",
       "      <td>14</td>\n",
       "      <td>Who are those people lurking behind the statistics in your data? Whether you are looking at retail shoppers, insurance policy holders, banking customers or political constituents, the more you can… Got zip code data? Prep it for analytics. – IBM ...</td>\n",
       "    </tr>\n",
       "    <tr>\n",
       "      <th>15</th>\n",
       "      <td>* Home\\r\\n * Community\\r\\n * Projects\\r\\n * Blog\\r\\n * About\\r\\n * Advisory Council\\r\\n * Resources * Code\\r\\n    * Contributions\\r\\n    * University\\r\\n    * IBM Design\\r\\n    * Apache SystemML\\r\\n    * Apache Spark™\\r\\n   \\r\\n   \\r\\n\\r\\nSPARK.T...</td>\n",
       "      <td>Early methods to integrate machine learning using Naive Bayes and custom sinks.</td>\n",
       "      <td>Apache Spark™ 2.0: Extend Structured Streaming for Spark ML</td>\n",
       "      <td>Live</td>\n",
       "      <td>15</td>\n",
       "      <td>Early methods to integrate machine learning using Naive Bayes and custom sinks. Apache Spark™ 2.0: Extend Structured Streaming for Spark ML</td>\n",
       "    </tr>\n",
       "    <tr>\n",
       "      <th>16</th>\n",
       "      <td>* Home\\r\\n * Research\\r\\n * Partnerships and Chairs\\r\\n * Staff\\r\\n * Books\\r\\n * Articles\\r\\n * Videos\\r\\n * Presentations\\r\\n * Contact Information\\r\\n * Subscribe to our Newsletter\\r\\n * 中文\\r\\n\\r\\n * Marketing Analytics\\r\\n * Credit Risk Analy...</td>\n",
       "      <td>The performance of supervised predictive models is characterized by the generalization error, that is, the error, obtained on datasets different from the one used to train the model.</td>\n",
       "      <td>Higher-order Logistic Regression for Large Datasets</td>\n",
       "      <td>Live</td>\n",
       "      <td>16</td>\n",
       "      <td>The performance of supervised predictive models is characterized by the generalization error, that is, the error, obtained on datasets different from the one used to train the model. Higher-order Logistic Regression for Large Datasets</td>\n",
       "    </tr>\n",
       "    <tr>\n",
       "      <th>17</th>\n",
       "      <td>Enterprise Pricing Articles Sign in Free 30-Day TrialCOMPOSE FOR MYSQL NOW FOR YOU\\r\\nShare on Twitter Share on Facebook Share on Google+ Vote on Hacker News Published Oct 12, 2016Compose is pleased to bring a new database onto our platform in th...</td>\n",
       "      <td>We've always considered MySQL as a potential Compose database, but had to wait for the arrival of a high availability solution that worked well enough that we could deliver it to Compose users. That solution came in the form of MySQL InnoDB Cluster.</td>\n",
       "      <td>Compose for MySQL now for you</td>\n",
       "      <td>Live</td>\n",
       "      <td>17</td>\n",
       "      <td>We've always considered MySQL as a potential Compose database, but had to wait for the arrival of a high availability solution that worked well enough that we could deliver it to Compose users. That solution came in the form of MySQL InnoDB Clust...</td>\n",
       "    </tr>\n",
       "    <tr>\n",
       "      <th>18</th>\n",
       "      <td>Homepage Follow Sign in / Sign up * Home\\r\\n * Big Ideas\\r\\n * Founder Stories\\r\\n * Startup Culture\\r\\n * Growth &amp; Scale\\r\\n * Venture Capital\\r\\n * \\r\\n * Global Conference\\r\\n * \\r\\n\\r\\nLuke de Oliveira Blocked Unblock Follow Following Deep le...</td>\n",
       "      <td>It has never been easier to build AI or machine learning-based systems than it is today. The ubiquity of cutting edge open-source tools such as TensorFlow, Torch, and Spark, coupled with the…</td>\n",
       "      <td>The Greatest Public Datasets for AI – Startup Grind</td>\n",
       "      <td>Live</td>\n",
       "      <td>18</td>\n",
       "      <td>It has never been easier to build AI or machine learning-based systems than it is today. The ubiquity of cutting edge open-source tools such as TensorFlow, Torch, and Spark, coupled with the… The Greatest Public Datasets for AI – Startup Grind</td>\n",
       "    </tr>\n",
       "    <tr>\n",
       "      <th>19</th>\n",
       "      <td>METRICS MAVEN: MODE D'EMPLOI - FINDING THE MODE IN POSTGRESQL\\r\\nShare on Twitter Share on Facebook Share on Google+ Vote on Hacker News Published Dec 6, 2016In our Metrics Maven series, Compose's data scientist shares database features,\\r\\ntips,...</td>\n",
       "      <td>In our Metrics Maven series, Compose's data scientist shares database features, tips, tricks, and code you can use to get the metrics you need from your data. In this article, we'll have a look at mode to round out our series on mean, median, and...</td>\n",
       "      <td>Finding the Mode in PostgreSQL</td>\n",
       "      <td>Live</td>\n",
       "      <td>19</td>\n",
       "      <td>In our Metrics Maven series, Compose's data scientist shares database features, tips, tricks, and code you can use to get the metrics you need from your data. In this article, we'll have a look at mode to round out our series on mean, median, and...</td>\n",
       "    </tr>\n",
       "  </tbody>\n",
       "</table>\n",
       "</div>"
      ],
      "text/plain": [
       "                                                                                                                                                                                                                                                     doc_body  \\\n",
       "0   Skip navigation Sign in SearchLoading...\\r\\n\\r\\nClose Yeah, keep it Undo CloseTHIS VIDEO IS UNAVAILABLE.\\r\\nWATCH QUEUE\\r\\nQUEUE\\r\\nWatch Queue Queue * Remove all\\r\\n * Disconnect\\r\\n\\r\\nThe next video is starting stop 1. Loading...\\r\\n\\r\\nWatch ...   \n",
       "1   No Free Hunch Navigation * kaggle.com\\r\\n\\r\\n * kaggle.com\\r\\n\\r\\nCommunicating data science: A guide to presenting your work 4COMMUNICATING DATA SCIENCE: A GUIDE TO PRESENTING YOUR WORK\\r\\nMegan Risdal | 06.29.2016\\r\\n\\r\\nSee the forest, see the...   \n",
       "2   ☰ * Login\\r\\n * Sign Up\\r\\n\\r\\n * Learning Paths\\r\\n * Courses * Our Courses\\r\\n    * Partner Courses\\r\\n   \\r\\n   \\r\\n * Badges * Our Badges\\r\\n    * BDU Badge Program\\r\\n   \\r\\n   \\r\\n * Watson Student Advisor\\r\\n\\r\\n * \\r\\n\\r\\nBLOG\\r\\nWelcome ...   \n",
       "3   DATALAYER: HIGH THROUGHPUT, LOW LATENCY AT SCALE - BOOST THE PERFORMANCE OF YOUR\\r\\nDISTRIBUTED DATABASE\\r\\nShare on Twitter Share on Facebook Share on Google+ Vote on Hacker News Published Dec 29, 2016Learn how distributed DBs (Cassandra, MongoD...   \n",
       "4   Skip navigation Sign in SearchLoading...\\r\\n\\r\\nClose Yeah, keep it Undo CloseTHIS VIDEO IS UNAVAILABLE.\\r\\nWATCH QUEUE\\r\\nQUEUE\\r\\nWatch Queue Queue * Remove all\\r\\n * Disconnect\\r\\n\\r\\nThe next video is starting stop 1. Loading...\\r\\n\\r\\nWatch ...   \n",
       "5   Compose is all about immediacy. You want a new database - you can have it in seconds. You want your database metrics - they're just a click away in your dashboard. And, for MongoDB and Redis, we've also provided immediate access to the database t...   \n",
       "6   UPGRADING YOUR POSTGRESQL TO 9.5Share on Twitter Share on Facebook Share on Google+ Vote on Hacker News Published Apr 26, 2016Upgrading your PostgreSQL deployment to version 9.5 is now possible through theCompose console. Working out how to perfo...   \n",
       "7   Follow Sign in / Sign up 135 8 * Share\\r\\n * 135\\r\\n * \\r\\n * \\r\\n\\r\\nNever miss a story from Several People Are Coding , when you sign up for Medium. Learn more Never miss a story from Several People Are Coding Get updates Get updates Ronnie Blo...   \n",
       "8   * Host\\r\\n * Competitions\\r\\n * Datasets\\r\\n * Kernels\\r\\n * Jobs\\r\\n * Community ▾ * User Rankings\\r\\n    * Forum\\r\\n    * Blog\\r\\n    * Wiki\\r\\n   \\r\\n   \\r\\n * \\r\\n\\r\\n * Sign up\\r\\n * Login\\r\\n\\r\\nLog in\\r\\nwith — Remember me? Forgot your Use...   \n",
       "9   THE GRADIENT FLOW\\r\\nDATA / TECHNOLOGY / CULTURE\\r\\nMenu Search Skip to content * Home\\r\\n * About\\r\\n * Calendar\\r\\n * Contact\\r\\n * Hardcore Data Science and Data Engineering\\r\\n * The Data Show\\r\\n * Webcasts\\r\\n\\r\\nSearch for:USING APACHE SPA...   \n",
       "10  OFFLINE-FIRST IOS APPS WITH SWIFT & PART 1: THE DATASTOREJason H. Smith / January 25, 2016This walk-through is a sequel to Apple’s well-known iOS programmingintroduction, Start Developing iOS Apps (Swift) . Apple’s introduction walks us through t...   \n",
       "11  Warehousing data from Cloudant to dashDB greatly enhances your options to analyze that data. Now, we have extended this capability to include GeoJSON documents. An ever increasing number of mobile and internet-of-things (IOT) applications capture...   \n",
       "12  Skip to main content IBM developerWorks / Developer Centers Sign In | Register Toggle navigation * Sign in\\r\\n * \\r\\n\\r\\nCreate New RecipeRECIPE\\r\\nLearn moreLOADING...\\r\\n\\r\\nIBM\\r\\nLovesRecipes@IoTF\\r\\n\\r\\nTIMESERIES DATA ANALYSIS OF IOT EVENTS...   \n",
       "13  Maureen McElaney Blocked Unblock Follow Following dev advocate at @IBM Watson Data Platform. founder of @GDIBurlington. executive\\r\\nfellow at @BTVIgnite. content here is mine. Website: http://mcelaney.me/ Apr 24\\r\\n------------------------------...   \n",
       "14  Raj Singh Blocked Unblock Follow Following Developer Advocate and Open Data Lead at IBM Watson Data Platform Aug 15\\r\\n--------------------------------------------------------------------------------\\r\\n\\r\\nGOT ZIP CODE DATA? PREP IT FOR ANALYTIC...   \n",
       "15  * Home\\r\\n * Community\\r\\n * Projects\\r\\n * Blog\\r\\n * About\\r\\n * Advisory Council\\r\\n * Resources * Code\\r\\n    * Contributions\\r\\n    * University\\r\\n    * IBM Design\\r\\n    * Apache SystemML\\r\\n    * Apache Spark™\\r\\n   \\r\\n   \\r\\n\\r\\nSPARK.T...   \n",
       "16  * Home\\r\\n * Research\\r\\n * Partnerships and Chairs\\r\\n * Staff\\r\\n * Books\\r\\n * Articles\\r\\n * Videos\\r\\n * Presentations\\r\\n * Contact Information\\r\\n * Subscribe to our Newsletter\\r\\n * 中文\\r\\n\\r\\n * Marketing Analytics\\r\\n * Credit Risk Analy...   \n",
       "17  Enterprise Pricing Articles Sign in Free 30-Day TrialCOMPOSE FOR MYSQL NOW FOR YOU\\r\\nShare on Twitter Share on Facebook Share on Google+ Vote on Hacker News Published Oct 12, 2016Compose is pleased to bring a new database onto our platform in th...   \n",
       "18  Homepage Follow Sign in / Sign up * Home\\r\\n * Big Ideas\\r\\n * Founder Stories\\r\\n * Startup Culture\\r\\n * Growth & Scale\\r\\n * Venture Capital\\r\\n * \\r\\n * Global Conference\\r\\n * \\r\\n\\r\\nLuke de Oliveira Blocked Unblock Follow Following Deep le...   \n",
       "19  METRICS MAVEN: MODE D'EMPLOI - FINDING THE MODE IN POSTGRESQL\\r\\nShare on Twitter Share on Facebook Share on Google+ Vote on Hacker News Published Dec 6, 2016In our Metrics Maven series, Compose's data scientist shares database features,\\r\\ntips,...   \n",
       "\n",
       "                                                                                                                                                                                                                                              doc_description  \\\n",
       "0                                                                                                                                                                                      Detect bad readings in real time using Python and Streaming Analytics.   \n",
       "1                                                      See the forest, see the trees. Here lies the challenge in both performing and presenting an analysis. As data scientists, analysts, and machine learning engineers faced with fulfilling business obj…   \n",
       "2                                                                                                                                                                                                       Here’s this week’s news in Data Science and Big Data.   \n",
       "3                                                                                                               Learn how distributed DBs solve the problem of scaling persistent storage, but introduce latency as data size increases and become I/O bound.   \n",
       "4                                                                                                                        This video demonstrates the power of IBM DataScience Experience using a simple New York State Restaurant Inspections data scenario.    \n",
       "5                                                                                                                                                                                                                    Using Compose's PostgreSQL data browser.   \n",
       "6   Upgrading your PostgreSQL deployment to version 9.5 is now possible through the Compose console. Working out how to perform this upgrade safely and reliably has been an interesting process because from version 9.4 to 9.5 is a PostgreSQL major upg...   \n",
       "7                                                      For a company like Slack that strives to be as data-driven as possible, understanding how our users use our product is essential. The Data Engineering team at Slack works to provide an ecosystem to…   \n",
       "8                                                                                  Kaggle is your home for data science. Learn new skills, build your career, collaborate with other data scientists, and compete in world-class machine learning challenges.   \n",
       "9                                                            [A version of this post appears on the O’Reilly Radar.] The O’Reilly Data Show podcast: Fang Yu on data science in security, unsupervised learning, and Apache Spark. Subscribe to the O’Reilly…   \n",
       "10                                                                                                     Apple's sample app, Food Tracker, taught you iOS. Now, take it further and sync data between devices, through the cloud, with an offline-first design.   \n",
       "11  Replicating data to a relational dashDB database greatly enhances your options to analyze that data. In addition to the ability to query the warehouse with SQL, you can use the power of the statistical R language to do the analysis. Now, we have ...   \n",
       "12     This recipe showcases how one can analyze the historical time series data, captured on the IBM Watson IoT platform, in a Jupyter Notebook using Spark SQL and Pandas DataFrames. Also, use the pre-installed matplotlib library to visualize results.    \n",
       "13                                                            There’s a reason you’ve been hearing a lot about data science notebooks lately: data scientists are in high demand, and the Python programming language is widely used. In particular, Jupyter…   \n",
       "14                                                      Who are those people lurking behind the statistics in your data? Whether you are looking at retail shoppers, insurance policy holders, banking customers or political constituents, the more you can…   \n",
       "15                                                                                                                                                                            Early methods to integrate machine learning using Naive Bayes and custom sinks.   \n",
       "16                                                                     The performance of supervised predictive models is characterized by the generalization error, that is, the error, obtained on datasets different from the one used to train the model.   \n",
       "17  We've always considered MySQL as a potential Compose database, but had to wait for the arrival of a high availability solution that worked well enough that we could deliver it to Compose users. That solution came in the form of MySQL InnoDB Cluster.   \n",
       "18                                                            It has never been easier to build AI or machine learning-based systems than it is today. The ubiquity of cutting edge open-source tools such as TensorFlow, Torch, and Spark, coupled with the…   \n",
       "19  In our Metrics Maven series, Compose's data scientist shares database features, tips, tricks, and code you can use to get the metrics you need from your data. In this article, we'll have a look at mode to round out our series on mean, median, and...   \n",
       "\n",
       "                                                                                   doc_full_name  \\\n",
       "0                                     Detect Malfunctioning IoT Sensors with Streaming Analytics   \n",
       "1                                    Communicating data science: A guide to presenting your work   \n",
       "2                                                     This Week in Data Science (April 18, 2017)   \n",
       "3                       DataLayer Conference: Boost the performance of your distributed database   \n",
       "4                                                  Analyze NY Restaurant data using Spark in DSX   \n",
       "5                                                          Browsing PostgreSQL Data with Compose   \n",
       "6                                                               Upgrading your PostgreSQL to 9.5   \n",
       "7                                                                        Data Wrangling at Slack   \n",
       "8                                                                         Data Science Bowl 2017   \n",
       "9   Using Apache Spark to predict attack vectors among billions of users and trillions of events   \n",
       "10                      Offline-First iOS Apps with Swift & Cloudant Sync; Part 1: The Datastore   \n",
       "11                                                                 Warehousing GeoJSON documents   \n",
       "12                              Timeseries Data Analysis of IoT events by using Jupyter Notebook   \n",
       "13                                   Bridging the Gap Between Python and Scala Jupyter Notebooks   \n",
       "14                      Got zip code data? Prep it for analytics. – IBM Watson Data Lab – Medium   \n",
       "15                                   Apache Spark™ 2.0: Extend Structured Streaming for Spark ML   \n",
       "16                                           Higher-order Logistic Regression for Large Datasets   \n",
       "17                                                                 Compose for MySQL now for you   \n",
       "18                                           The Greatest Public Datasets for AI – Startup Grind   \n",
       "19                                                                Finding the Mode in PostgreSQL   \n",
       "\n",
       "   doc_status  article_id  \\\n",
       "0        Live           0   \n",
       "1        Live           1   \n",
       "2        Live           2   \n",
       "3        Live           3   \n",
       "4        Live           4   \n",
       "5        Live           5   \n",
       "6        Live           6   \n",
       "7        Live           7   \n",
       "8        Live           8   \n",
       "9        Live           9   \n",
       "10       Live          10   \n",
       "11       Live          11   \n",
       "12       Live          12   \n",
       "13       Live          13   \n",
       "14       Live          14   \n",
       "15       Live          15   \n",
       "16       Live          16   \n",
       "17       Live          17   \n",
       "18       Live          18   \n",
       "19       Live          19   \n",
       "\n",
       "                                                                                                                                                                                                                                             combined_content  \n",
       "0                                                                                                                           Detect bad readings in real time using Python and Streaming Analytics. Detect Malfunctioning IoT Sensors with Streaming Analytics  \n",
       "1   See the forest, see the trees. Here lies the challenge in both performing and presenting an analysis. As data scientists, analysts, and machine learning engineers faced with fulfilling business obj… Communicating data science: A guide to presenti...  \n",
       "2                                                                                                                                                            Here’s this week’s news in Data Science and Big Data. This Week in Data Science (April 18, 2017)  \n",
       "3                                      Learn how distributed DBs solve the problem of scaling persistent storage, but introduce latency as data size increases and become I/O bound. DataLayer Conference: Boost the performance of your distributed database  \n",
       "4                                                                          This video demonstrates the power of IBM DataScience Experience using a simple New York State Restaurant Inspections data scenario.  Analyze NY Restaurant data using Spark in DSX  \n",
       "5                                                                                                                                                                              Using Compose's PostgreSQL data browser. Browsing PostgreSQL Data with Compose  \n",
       "6   Upgrading your PostgreSQL deployment to version 9.5 is now possible through the Compose console. Working out how to perform this upgrade safely and reliably has been an interesting process because from version 9.4 to 9.5 is a PostgreSQL major upg...  \n",
       "7                              For a company like Slack that strives to be as data-driven as possible, understanding how our users use our product is essential. The Data Engineering team at Slack works to provide an ecosystem to… Data Wrangling at Slack  \n",
       "8                                                           Kaggle is your home for data science. Learn new skills, build your career, collaborate with other data scientists, and compete in world-class machine learning challenges. Data Science Bowl 2017  \n",
       "9   [A version of this post appears on the O’Reilly Radar.] The O’Reilly Data Show podcast: Fang Yu on data science in security, unsupervised learning, and Apache Spark. Subscribe to the O’Reilly… Using Apache Spark to predict attack vectors among bi...  \n",
       "10                            Apple's sample app, Food Tracker, taught you iOS. Now, take it further and sync data between devices, through the cloud, with an offline-first design. Offline-First iOS Apps with Swift & Cloudant Sync; Part 1: The Datastore  \n",
       "11  Replicating data to a relational dashDB database greatly enhances your options to analyze that data. In addition to the ability to query the warehouse with SQL, you can use the power of the statistical R language to do the analysis. Now, we have ...  \n",
       "12  This recipe showcases how one can analyze the historical time series data, captured on the IBM Watson IoT platform, in a Jupyter Notebook using Spark SQL and Pandas DataFrames. Also, use the pre-installed matplotlib library to visualize results. ...  \n",
       "13  There’s a reason you’ve been hearing a lot about data science notebooks lately: data scientists are in high demand, and the Python programming language is widely used. In particular, Jupyter… Bridging the Gap Between Python and Scala Jupyter Note...  \n",
       "14  Who are those people lurking behind the statistics in your data? Whether you are looking at retail shoppers, insurance policy holders, banking customers or political constituents, the more you can… Got zip code data? Prep it for analytics. – IBM ...  \n",
       "15                                                                                                                Early methods to integrate machine learning using Naive Bayes and custom sinks. Apache Spark™ 2.0: Extend Structured Streaming for Spark ML  \n",
       "16                 The performance of supervised predictive models is characterized by the generalization error, that is, the error, obtained on datasets different from the one used to train the model. Higher-order Logistic Regression for Large Datasets  \n",
       "17  We've always considered MySQL as a potential Compose database, but had to wait for the arrival of a high availability solution that worked well enough that we could deliver it to Compose users. That solution came in the form of MySQL InnoDB Clust...  \n",
       "18        It has never been easier to build AI or machine learning-based systems than it is today. The ubiquity of cutting edge open-source tools such as TensorFlow, Torch, and Spark, coupled with the… The Greatest Public Datasets for AI – Startup Grind  \n",
       "19  In our Metrics Maven series, Compose's data scientist shares database features, tips, tricks, and code you can use to get the metrics you need from your data. In this article, we'll have a look at mode to round out our series on mean, median, and...  "
      ]
     },
     "execution_count": 116,
     "metadata": {},
     "output_type": "execute_result"
    }
   ],
   "source": [
    "df_content.head(20)"
   ]
  },
  {
   "cell_type": "code",
   "execution_count": 118,
   "metadata": {},
   "outputs": [
    {
     "name": "stdout",
     "output_type": "stream",
     "text": [
      "<class 'pandas.core.frame.DataFrame'>\n",
      "Index: 1051 entries, 0 to 1055\n",
      "Data columns (total 6 columns):\n",
      " #   Column            Non-Null Count  Dtype \n",
      "---  ------            --------------  ----- \n",
      " 0   doc_body          1037 non-null   object\n",
      " 1   doc_description   1048 non-null   object\n",
      " 2   doc_full_name     1051 non-null   object\n",
      " 3   doc_status        1051 non-null   object\n",
      " 4   article_id        1051 non-null   int64 \n",
      " 5   combined_content  1048 non-null   object\n",
      "dtypes: int64(1), object(5)\n",
      "memory usage: 57.5+ KB\n"
     ]
    }
   ],
   "source": [
    "df_content.info()"
   ]
  },
  {
   "cell_type": "code",
   "execution_count": 120,
   "metadata": {},
   "outputs": [],
   "source": [
    "import nltk\n",
    "from nltk.tokenize import word_tokenize\n",
    "from nltk.stem.wordnet import WordNetLemmatizer\n",
    "import re\n",
    "from nltk.corpus import stopwords\n",
    "from nltk.stem.porter import PorterStemmer\n",
    "from sklearn.feature_extraction.text import TfidfVectorizer\n",
    "from sklearn.metrics.pairwise import cosine_similarity\n",
    "from sklearn.metrics.pairwise import linear_kernel"
   ]
  },
  {
   "cell_type": "code",
   "execution_count": 121,
   "metadata": {},
   "outputs": [],
   "source": [
    "def tokenize(text):\n",
    "   \n",
    "    if not isinstance(text, str):  # Check if the input is a string\n",
    "        return ''  # Return an empty string for non-string values\n",
    "    text=text.lower()\n",
    "    text=re.sub(r'[^a-zA-Z]',\" \",text)\n",
    "    \n",
    "    #tokenize text\n",
    "    tokens=word_tokenize(text)\n",
    "    \n",
    "    # Removing stop words\n",
    "    tokens = [t for t in tokens if t not in stopwords.words(\"english\")]\n",
    "    \n",
    "    #Lemmitizer then stemming\n",
    "    \"\"\"\" Here I used stemming as it gave better results by inspecting we can try to change it after the model\n",
    "    and see if there's a difference \"\"\"\n",
    "    #tokens=[WordNetLemmatizer().lemmatize(t) for t in tokens]\n",
    "    tokens=[PorterStemmer().stem(t) for t in tokens]\n",
    "    \n",
    "    return ' '.join(tokens)  # Join tokens back into a single string for vectorization"
   ]
  },
  {
   "cell_type": "code",
   "execution_count": 124,
   "metadata": {},
   "outputs": [],
   "source": [
    "df_content['combined_content'] = df_content['combined_content'].apply(tokenize)"
   ]
  },
  {
   "cell_type": "code",
   "execution_count": 126,
   "metadata": {},
   "outputs": [
    {
     "data": {
      "text/html": [
       "<div>\n",
       "<style scoped>\n",
       "    .dataframe tbody tr th:only-of-type {\n",
       "        vertical-align: middle;\n",
       "    }\n",
       "\n",
       "    .dataframe tbody tr th {\n",
       "        vertical-align: top;\n",
       "    }\n",
       "\n",
       "    .dataframe thead th {\n",
       "        text-align: right;\n",
       "    }\n",
       "</style>\n",
       "<table border=\"1\" class=\"dataframe\">\n",
       "  <thead>\n",
       "    <tr style=\"text-align: right;\">\n",
       "      <th></th>\n",
       "      <th>doc_body</th>\n",
       "      <th>doc_description</th>\n",
       "      <th>doc_full_name</th>\n",
       "      <th>doc_status</th>\n",
       "      <th>article_id</th>\n",
       "      <th>combined_content</th>\n",
       "    </tr>\n",
       "  </thead>\n",
       "  <tbody>\n",
       "    <tr>\n",
       "      <th>0</th>\n",
       "      <td>Skip navigation Sign in SearchLoading...\\r\\n\\r\\nClose Yeah, keep it Undo CloseTHIS VIDEO IS UNAVAILABLE.\\r\\nWATCH QUEUE\\r\\nQUEUE\\r\\nWatch Queue Queue * Remove all\\r\\n * Disconnect\\r\\n\\r\\nThe next video is starting stop 1. Loading...\\r\\n\\r\\nWatch ...</td>\n",
       "      <td>Detect bad readings in real time using Python and Streaming Analytics.</td>\n",
       "      <td>Detect Malfunctioning IoT Sensors with Streaming Analytics</td>\n",
       "      <td>Live</td>\n",
       "      <td>0</td>\n",
       "      <td>detect bad read real time use python stream analyt detect malfunct iot sensor stream analyt</td>\n",
       "    </tr>\n",
       "    <tr>\n",
       "      <th>1</th>\n",
       "      <td>No Free Hunch Navigation * kaggle.com\\r\\n\\r\\n * kaggle.com\\r\\n\\r\\nCommunicating data science: A guide to presenting your work 4COMMUNICATING DATA SCIENCE: A GUIDE TO PRESENTING YOUR WORK\\r\\nMegan Risdal | 06.29.2016\\r\\n\\r\\nSee the forest, see the...</td>\n",
       "      <td>See the forest, see the trees. Here lies the challenge in both performing and presenting an analysis. As data scientists, analysts, and machine learning engineers faced with fulfilling business obj…</td>\n",
       "      <td>Communicating data science: A guide to presenting your work</td>\n",
       "      <td>Live</td>\n",
       "      <td>1</td>\n",
       "      <td>see forest see tree lie challeng perform present analysi data scientist analyst machin learn engin face fulfil busi obj commun data scienc guid present work</td>\n",
       "    </tr>\n",
       "    <tr>\n",
       "      <th>2</th>\n",
       "      <td>☰ * Login\\r\\n * Sign Up\\r\\n\\r\\n * Learning Paths\\r\\n * Courses * Our Courses\\r\\n    * Partner Courses\\r\\n   \\r\\n   \\r\\n * Badges * Our Badges\\r\\n    * BDU Badge Program\\r\\n   \\r\\n   \\r\\n * Watson Student Advisor\\r\\n\\r\\n * \\r\\n\\r\\nBLOG\\r\\nWelcome ...</td>\n",
       "      <td>Here’s this week’s news in Data Science and Big Data.</td>\n",
       "      <td>This Week in Data Science (April 18, 2017)</td>\n",
       "      <td>Live</td>\n",
       "      <td>2</td>\n",
       "      <td>week news data scienc big data week data scienc april</td>\n",
       "    </tr>\n",
       "    <tr>\n",
       "      <th>3</th>\n",
       "      <td>DATALAYER: HIGH THROUGHPUT, LOW LATENCY AT SCALE - BOOST THE PERFORMANCE OF YOUR\\r\\nDISTRIBUTED DATABASE\\r\\nShare on Twitter Share on Facebook Share on Google+ Vote on Hacker News Published Dec 29, 2016Learn how distributed DBs (Cassandra, MongoD...</td>\n",
       "      <td>Learn how distributed DBs solve the problem of scaling persistent storage, but introduce latency as data size increases and become I/O bound.</td>\n",
       "      <td>DataLayer Conference: Boost the performance of your distributed database</td>\n",
       "      <td>Live</td>\n",
       "      <td>3</td>\n",
       "      <td>learn distribut db solv problem scale persist storag introduc latenc data size increas becom bound datalay confer boost perform distribut databas</td>\n",
       "    </tr>\n",
       "    <tr>\n",
       "      <th>4</th>\n",
       "      <td>Skip navigation Sign in SearchLoading...\\r\\n\\r\\nClose Yeah, keep it Undo CloseTHIS VIDEO IS UNAVAILABLE.\\r\\nWATCH QUEUE\\r\\nQUEUE\\r\\nWatch Queue Queue * Remove all\\r\\n * Disconnect\\r\\n\\r\\nThe next video is starting stop 1. Loading...\\r\\n\\r\\nWatch ...</td>\n",
       "      <td>This video demonstrates the power of IBM DataScience Experience using a simple New York State Restaurant Inspections data scenario.</td>\n",
       "      <td>Analyze NY Restaurant data using Spark in DSX</td>\n",
       "      <td>Live</td>\n",
       "      <td>4</td>\n",
       "      <td>video demonstr power ibm datasci experi use simpl new york state restaur inspect data scenario analyz ny restaur data use spark dsx</td>\n",
       "    </tr>\n",
       "    <tr>\n",
       "      <th>5</th>\n",
       "      <td>Compose is all about immediacy. You want a new database - you can have it in seconds. You want your database metrics - they're just a click away in your dashboard. And, for MongoDB and Redis, we've also provided immediate access to the database t...</td>\n",
       "      <td>Using Compose's PostgreSQL data browser.</td>\n",
       "      <td>Browsing PostgreSQL Data with Compose</td>\n",
       "      <td>Live</td>\n",
       "      <td>5</td>\n",
       "      <td>use compos postgresql data browser brows postgresql data compos</td>\n",
       "    </tr>\n",
       "    <tr>\n",
       "      <th>6</th>\n",
       "      <td>UPGRADING YOUR POSTGRESQL TO 9.5Share on Twitter Share on Facebook Share on Google+ Vote on Hacker News Published Apr 26, 2016Upgrading your PostgreSQL deployment to version 9.5 is now possible through theCompose console. Working out how to perfo...</td>\n",
       "      <td>Upgrading your PostgreSQL deployment to version 9.5 is now possible through the Compose console. Working out how to perform this upgrade safely and reliably has been an interesting process because from version 9.4 to 9.5 is a PostgreSQL major upg...</td>\n",
       "      <td>Upgrading your PostgreSQL to 9.5</td>\n",
       "      <td>Live</td>\n",
       "      <td>6</td>\n",
       "      <td>upgrad postgresql deploy version possibl compos consol work perform upgrad safe reliabl interest process version postgresql major upgrad upgrad postgresql</td>\n",
       "    </tr>\n",
       "    <tr>\n",
       "      <th>7</th>\n",
       "      <td>Follow Sign in / Sign up 135 8 * Share\\r\\n * 135\\r\\n * \\r\\n * \\r\\n\\r\\nNever miss a story from Several People Are Coding , when you sign up for Medium. Learn more Never miss a story from Several People Are Coding Get updates Get updates Ronnie Blo...</td>\n",
       "      <td>For a company like Slack that strives to be as data-driven as possible, understanding how our users use our product is essential. The Data Engineering team at Slack works to provide an ecosystem to…</td>\n",
       "      <td>Data Wrangling at Slack</td>\n",
       "      <td>Live</td>\n",
       "      <td>7</td>\n",
       "      <td>compani like slack strive data driven possibl understand user use product essenti data engin team slack work provid ecosystem data wrangl slack</td>\n",
       "    </tr>\n",
       "    <tr>\n",
       "      <th>8</th>\n",
       "      <td>* Host\\r\\n * Competitions\\r\\n * Datasets\\r\\n * Kernels\\r\\n * Jobs\\r\\n * Community ▾ * User Rankings\\r\\n    * Forum\\r\\n    * Blog\\r\\n    * Wiki\\r\\n   \\r\\n   \\r\\n * \\r\\n\\r\\n * Sign up\\r\\n * Login\\r\\n\\r\\nLog in\\r\\nwith — Remember me? Forgot your Use...</td>\n",
       "      <td>Kaggle is your home for data science. Learn new skills, build your career, collaborate with other data scientists, and compete in world-class machine learning challenges.</td>\n",
       "      <td>Data Science Bowl 2017</td>\n",
       "      <td>Live</td>\n",
       "      <td>8</td>\n",
       "      <td>kaggl home data scienc learn new skill build career collabor data scientist compet world class machin learn challeng data scienc bowl</td>\n",
       "    </tr>\n",
       "    <tr>\n",
       "      <th>9</th>\n",
       "      <td>THE GRADIENT FLOW\\r\\nDATA / TECHNOLOGY / CULTURE\\r\\nMenu Search Skip to content * Home\\r\\n * About\\r\\n * Calendar\\r\\n * Contact\\r\\n * Hardcore Data Science and Data Engineering\\r\\n * The Data Show\\r\\n * Webcasts\\r\\n\\r\\nSearch for:USING APACHE SPA...</td>\n",
       "      <td>[A version of this post appears on the O’Reilly Radar.] The O’Reilly Data Show podcast: Fang Yu on data science in security, unsupervised learning, and Apache Spark. Subscribe to the O’Reilly…</td>\n",
       "      <td>Using Apache Spark to predict attack vectors among billions of users and trillions of events</td>\n",
       "      <td>Live</td>\n",
       "      <td>9</td>\n",
       "      <td>version post appear reilli radar reilli data show podcast fang yu data scienc secur unsupervis learn apach spark subscrib reilli use apach spark predict attack vector among billion user trillion event</td>\n",
       "    </tr>\n",
       "    <tr>\n",
       "      <th>10</th>\n",
       "      <td>OFFLINE-FIRST IOS APPS WITH SWIFT &amp; PART 1: THE DATASTOREJason H. Smith / January 25, 2016This walk-through is a sequel to Apple’s well-known iOS programmingintroduction, Start Developing iOS Apps (Swift) . Apple’s introduction walks us through t...</td>\n",
       "      <td>Apple's sample app, Food Tracker, taught you iOS. Now, take it further and sync data between devices, through the cloud, with an offline-first design.</td>\n",
       "      <td>Offline-First iOS Apps with Swift &amp; Cloudant Sync; Part 1: The Datastore</td>\n",
       "      <td>Live</td>\n",
       "      <td>10</td>\n",
       "      <td>appl sampl app food tracker taught io take sync data devic cloud offlin first design offlin first io app swift cloudant sync part datastor</td>\n",
       "    </tr>\n",
       "    <tr>\n",
       "      <th>11</th>\n",
       "      <td>Warehousing data from Cloudant to dashDB greatly enhances your options to analyze that data. Now, we have extended this capability to include GeoJSON documents. An ever increasing number of mobile and internet-of-things (IOT) applications capture...</td>\n",
       "      <td>Replicating data to a relational dashDB database greatly enhances your options to analyze that data. In addition to the ability to query the warehouse with SQL, you can use the power of the statistical R language to do the analysis. Now, we have ...</td>\n",
       "      <td>Warehousing GeoJSON documents</td>\n",
       "      <td>Live</td>\n",
       "      <td>11</td>\n",
       "      <td>replic data relat dashdb databas greatli enhanc option analyz data addit abil queri warehous sql use power statist r languag analysi extend cloudant wareh capabl includ geojson document ever increas number mobil internet thing iot applic captur s...</td>\n",
       "    </tr>\n",
       "    <tr>\n",
       "      <th>12</th>\n",
       "      <td>Skip to main content IBM developerWorks / Developer Centers Sign In | Register Toggle navigation * Sign in\\r\\n * \\r\\n\\r\\nCreate New RecipeRECIPE\\r\\nLearn moreLOADING...\\r\\n\\r\\nIBM\\r\\nLovesRecipes@IoTF\\r\\n\\r\\nTIMESERIES DATA ANALYSIS OF IOT EVENTS...</td>\n",
       "      <td>This recipe showcases how one can analyze the historical time series data, captured on the IBM Watson IoT platform, in a Jupyter Notebook using Spark SQL and Pandas DataFrames. Also, use the pre-installed matplotlib library to visualize results.</td>\n",
       "      <td>Timeseries Data Analysis of IoT events by using Jupyter Notebook</td>\n",
       "      <td>Live</td>\n",
       "      <td>12</td>\n",
       "      <td>recip showcas one analyz histor time seri data captur ibm watson iot platform jupyt notebook use spark sql panda datafram also use pre instal matplotlib librari visual result timeseri data analysi iot event use jupyt notebook</td>\n",
       "    </tr>\n",
       "    <tr>\n",
       "      <th>13</th>\n",
       "      <td>Maureen McElaney Blocked Unblock Follow Following dev advocate at @IBM Watson Data Platform. founder of @GDIBurlington. executive\\r\\nfellow at @BTVIgnite. content here is mine. Website: http://mcelaney.me/ Apr 24\\r\\n------------------------------...</td>\n",
       "      <td>There’s a reason you’ve been hearing a lot about data science notebooks lately: data scientists are in high demand, and the Python programming language is widely used. In particular, Jupyter…</td>\n",
       "      <td>Bridging the Gap Between Python and Scala Jupyter Notebooks</td>\n",
       "      <td>Live</td>\n",
       "      <td>13</td>\n",
       "      <td>reason hear lot data scienc notebook late data scientist high demand python program languag wide use particular jupyt bridg gap python scala jupyt notebook</td>\n",
       "    </tr>\n",
       "    <tr>\n",
       "      <th>14</th>\n",
       "      <td>Raj Singh Blocked Unblock Follow Following Developer Advocate and Open Data Lead at IBM Watson Data Platform Aug 15\\r\\n--------------------------------------------------------------------------------\\r\\n\\r\\nGOT ZIP CODE DATA? PREP IT FOR ANALYTIC...</td>\n",
       "      <td>Who are those people lurking behind the statistics in your data? Whether you are looking at retail shoppers, insurance policy holders, banking customers or political constituents, the more you can…</td>\n",
       "      <td>Got zip code data? Prep it for analytics. – IBM Watson Data Lab – Medium</td>\n",
       "      <td>Live</td>\n",
       "      <td>14</td>\n",
       "      <td>peopl lurk behind statist data whether look retail shopper insur polici holder bank custom polit constitu got zip code data prep analyt ibm watson data lab medium</td>\n",
       "    </tr>\n",
       "    <tr>\n",
       "      <th>15</th>\n",
       "      <td>* Home\\r\\n * Community\\r\\n * Projects\\r\\n * Blog\\r\\n * About\\r\\n * Advisory Council\\r\\n * Resources * Code\\r\\n    * Contributions\\r\\n    * University\\r\\n    * IBM Design\\r\\n    * Apache SystemML\\r\\n    * Apache Spark™\\r\\n   \\r\\n   \\r\\n\\r\\nSPARK.T...</td>\n",
       "      <td>Early methods to integrate machine learning using Naive Bayes and custom sinks.</td>\n",
       "      <td>Apache Spark™ 2.0: Extend Structured Streaming for Spark ML</td>\n",
       "      <td>Live</td>\n",
       "      <td>15</td>\n",
       "      <td>earli method integr machin learn use naiv bay custom sink apach spark extend structur stream spark ml</td>\n",
       "    </tr>\n",
       "    <tr>\n",
       "      <th>16</th>\n",
       "      <td>* Home\\r\\n * Research\\r\\n * Partnerships and Chairs\\r\\n * Staff\\r\\n * Books\\r\\n * Articles\\r\\n * Videos\\r\\n * Presentations\\r\\n * Contact Information\\r\\n * Subscribe to our Newsletter\\r\\n * 中文\\r\\n\\r\\n * Marketing Analytics\\r\\n * Credit Risk Analy...</td>\n",
       "      <td>The performance of supervised predictive models is characterized by the generalization error, that is, the error, obtained on datasets different from the one used to train the model.</td>\n",
       "      <td>Higher-order Logistic Regression for Large Datasets</td>\n",
       "      <td>Live</td>\n",
       "      <td>16</td>\n",
       "      <td>perform supervis predict model character gener error error obtain dataset differ one use train model higher order logist regress larg dataset</td>\n",
       "    </tr>\n",
       "    <tr>\n",
       "      <th>17</th>\n",
       "      <td>Enterprise Pricing Articles Sign in Free 30-Day TrialCOMPOSE FOR MYSQL NOW FOR YOU\\r\\nShare on Twitter Share on Facebook Share on Google+ Vote on Hacker News Published Oct 12, 2016Compose is pleased to bring a new database onto our platform in th...</td>\n",
       "      <td>We've always considered MySQL as a potential Compose database, but had to wait for the arrival of a high availability solution that worked well enough that we could deliver it to Compose users. That solution came in the form of MySQL InnoDB Cluster.</td>\n",
       "      <td>Compose for MySQL now for you</td>\n",
       "      <td>Live</td>\n",
       "      <td>17</td>\n",
       "      <td>alway consid mysql potenti compos databas wait arriv high avail solut work well enough could deliv compos user solut came form mysql innodb cluster compos mysql</td>\n",
       "    </tr>\n",
       "    <tr>\n",
       "      <th>18</th>\n",
       "      <td>Homepage Follow Sign in / Sign up * Home\\r\\n * Big Ideas\\r\\n * Founder Stories\\r\\n * Startup Culture\\r\\n * Growth &amp; Scale\\r\\n * Venture Capital\\r\\n * \\r\\n * Global Conference\\r\\n * \\r\\n\\r\\nLuke de Oliveira Blocked Unblock Follow Following Deep le...</td>\n",
       "      <td>It has never been easier to build AI or machine learning-based systems than it is today. The ubiquity of cutting edge open-source tools such as TensorFlow, Torch, and Spark, coupled with the…</td>\n",
       "      <td>The Greatest Public Datasets for AI – Startup Grind</td>\n",
       "      <td>Live</td>\n",
       "      <td>18</td>\n",
       "      <td>never easier build ai machin learn base system today ubiqu cut edg open sourc tool tensorflow torch spark coupl greatest public dataset ai startup grind</td>\n",
       "    </tr>\n",
       "    <tr>\n",
       "      <th>19</th>\n",
       "      <td>METRICS MAVEN: MODE D'EMPLOI - FINDING THE MODE IN POSTGRESQL\\r\\nShare on Twitter Share on Facebook Share on Google+ Vote on Hacker News Published Dec 6, 2016In our Metrics Maven series, Compose's data scientist shares database features,\\r\\ntips,...</td>\n",
       "      <td>In our Metrics Maven series, Compose's data scientist shares database features, tips, tricks, and code you can use to get the metrics you need from your data. In this article, we'll have a look at mode to round out our series on mean, median, and...</td>\n",
       "      <td>Finding the Mode in PostgreSQL</td>\n",
       "      <td>Live</td>\n",
       "      <td>19</td>\n",
       "      <td>metric maven seri compos data scientist share databas featur tip trick code use get metric need data articl look mode round seri mean median mode find mode postgresql</td>\n",
       "    </tr>\n",
       "  </tbody>\n",
       "</table>\n",
       "</div>"
      ],
      "text/plain": [
       "                                                                                                                                                                                                                                                     doc_body  \\\n",
       "0   Skip navigation Sign in SearchLoading...\\r\\n\\r\\nClose Yeah, keep it Undo CloseTHIS VIDEO IS UNAVAILABLE.\\r\\nWATCH QUEUE\\r\\nQUEUE\\r\\nWatch Queue Queue * Remove all\\r\\n * Disconnect\\r\\n\\r\\nThe next video is starting stop 1. Loading...\\r\\n\\r\\nWatch ...   \n",
       "1   No Free Hunch Navigation * kaggle.com\\r\\n\\r\\n * kaggle.com\\r\\n\\r\\nCommunicating data science: A guide to presenting your work 4COMMUNICATING DATA SCIENCE: A GUIDE TO PRESENTING YOUR WORK\\r\\nMegan Risdal | 06.29.2016\\r\\n\\r\\nSee the forest, see the...   \n",
       "2   ☰ * Login\\r\\n * Sign Up\\r\\n\\r\\n * Learning Paths\\r\\n * Courses * Our Courses\\r\\n    * Partner Courses\\r\\n   \\r\\n   \\r\\n * Badges * Our Badges\\r\\n    * BDU Badge Program\\r\\n   \\r\\n   \\r\\n * Watson Student Advisor\\r\\n\\r\\n * \\r\\n\\r\\nBLOG\\r\\nWelcome ...   \n",
       "3   DATALAYER: HIGH THROUGHPUT, LOW LATENCY AT SCALE - BOOST THE PERFORMANCE OF YOUR\\r\\nDISTRIBUTED DATABASE\\r\\nShare on Twitter Share on Facebook Share on Google+ Vote on Hacker News Published Dec 29, 2016Learn how distributed DBs (Cassandra, MongoD...   \n",
       "4   Skip navigation Sign in SearchLoading...\\r\\n\\r\\nClose Yeah, keep it Undo CloseTHIS VIDEO IS UNAVAILABLE.\\r\\nWATCH QUEUE\\r\\nQUEUE\\r\\nWatch Queue Queue * Remove all\\r\\n * Disconnect\\r\\n\\r\\nThe next video is starting stop 1. Loading...\\r\\n\\r\\nWatch ...   \n",
       "5   Compose is all about immediacy. You want a new database - you can have it in seconds. You want your database metrics - they're just a click away in your dashboard. And, for MongoDB and Redis, we've also provided immediate access to the database t...   \n",
       "6   UPGRADING YOUR POSTGRESQL TO 9.5Share on Twitter Share on Facebook Share on Google+ Vote on Hacker News Published Apr 26, 2016Upgrading your PostgreSQL deployment to version 9.5 is now possible through theCompose console. Working out how to perfo...   \n",
       "7   Follow Sign in / Sign up 135 8 * Share\\r\\n * 135\\r\\n * \\r\\n * \\r\\n\\r\\nNever miss a story from Several People Are Coding , when you sign up for Medium. Learn more Never miss a story from Several People Are Coding Get updates Get updates Ronnie Blo...   \n",
       "8   * Host\\r\\n * Competitions\\r\\n * Datasets\\r\\n * Kernels\\r\\n * Jobs\\r\\n * Community ▾ * User Rankings\\r\\n    * Forum\\r\\n    * Blog\\r\\n    * Wiki\\r\\n   \\r\\n   \\r\\n * \\r\\n\\r\\n * Sign up\\r\\n * Login\\r\\n\\r\\nLog in\\r\\nwith — Remember me? Forgot your Use...   \n",
       "9   THE GRADIENT FLOW\\r\\nDATA / TECHNOLOGY / CULTURE\\r\\nMenu Search Skip to content * Home\\r\\n * About\\r\\n * Calendar\\r\\n * Contact\\r\\n * Hardcore Data Science and Data Engineering\\r\\n * The Data Show\\r\\n * Webcasts\\r\\n\\r\\nSearch for:USING APACHE SPA...   \n",
       "10  OFFLINE-FIRST IOS APPS WITH SWIFT & PART 1: THE DATASTOREJason H. Smith / January 25, 2016This walk-through is a sequel to Apple’s well-known iOS programmingintroduction, Start Developing iOS Apps (Swift) . Apple’s introduction walks us through t...   \n",
       "11  Warehousing data from Cloudant to dashDB greatly enhances your options to analyze that data. Now, we have extended this capability to include GeoJSON documents. An ever increasing number of mobile and internet-of-things (IOT) applications capture...   \n",
       "12  Skip to main content IBM developerWorks / Developer Centers Sign In | Register Toggle navigation * Sign in\\r\\n * \\r\\n\\r\\nCreate New RecipeRECIPE\\r\\nLearn moreLOADING...\\r\\n\\r\\nIBM\\r\\nLovesRecipes@IoTF\\r\\n\\r\\nTIMESERIES DATA ANALYSIS OF IOT EVENTS...   \n",
       "13  Maureen McElaney Blocked Unblock Follow Following dev advocate at @IBM Watson Data Platform. founder of @GDIBurlington. executive\\r\\nfellow at @BTVIgnite. content here is mine. Website: http://mcelaney.me/ Apr 24\\r\\n------------------------------...   \n",
       "14  Raj Singh Blocked Unblock Follow Following Developer Advocate and Open Data Lead at IBM Watson Data Platform Aug 15\\r\\n--------------------------------------------------------------------------------\\r\\n\\r\\nGOT ZIP CODE DATA? PREP IT FOR ANALYTIC...   \n",
       "15  * Home\\r\\n * Community\\r\\n * Projects\\r\\n * Blog\\r\\n * About\\r\\n * Advisory Council\\r\\n * Resources * Code\\r\\n    * Contributions\\r\\n    * University\\r\\n    * IBM Design\\r\\n    * Apache SystemML\\r\\n    * Apache Spark™\\r\\n   \\r\\n   \\r\\n\\r\\nSPARK.T...   \n",
       "16  * Home\\r\\n * Research\\r\\n * Partnerships and Chairs\\r\\n * Staff\\r\\n * Books\\r\\n * Articles\\r\\n * Videos\\r\\n * Presentations\\r\\n * Contact Information\\r\\n * Subscribe to our Newsletter\\r\\n * 中文\\r\\n\\r\\n * Marketing Analytics\\r\\n * Credit Risk Analy...   \n",
       "17  Enterprise Pricing Articles Sign in Free 30-Day TrialCOMPOSE FOR MYSQL NOW FOR YOU\\r\\nShare on Twitter Share on Facebook Share on Google+ Vote on Hacker News Published Oct 12, 2016Compose is pleased to bring a new database onto our platform in th...   \n",
       "18  Homepage Follow Sign in / Sign up * Home\\r\\n * Big Ideas\\r\\n * Founder Stories\\r\\n * Startup Culture\\r\\n * Growth & Scale\\r\\n * Venture Capital\\r\\n * \\r\\n * Global Conference\\r\\n * \\r\\n\\r\\nLuke de Oliveira Blocked Unblock Follow Following Deep le...   \n",
       "19  METRICS MAVEN: MODE D'EMPLOI - FINDING THE MODE IN POSTGRESQL\\r\\nShare on Twitter Share on Facebook Share on Google+ Vote on Hacker News Published Dec 6, 2016In our Metrics Maven series, Compose's data scientist shares database features,\\r\\ntips,...   \n",
       "\n",
       "                                                                                                                                                                                                                                              doc_description  \\\n",
       "0                                                                                                                                                                                      Detect bad readings in real time using Python and Streaming Analytics.   \n",
       "1                                                      See the forest, see the trees. Here lies the challenge in both performing and presenting an analysis. As data scientists, analysts, and machine learning engineers faced with fulfilling business obj…   \n",
       "2                                                                                                                                                                                                       Here’s this week’s news in Data Science and Big Data.   \n",
       "3                                                                                                               Learn how distributed DBs solve the problem of scaling persistent storage, but introduce latency as data size increases and become I/O bound.   \n",
       "4                                                                                                                        This video demonstrates the power of IBM DataScience Experience using a simple New York State Restaurant Inspections data scenario.    \n",
       "5                                                                                                                                                                                                                    Using Compose's PostgreSQL data browser.   \n",
       "6   Upgrading your PostgreSQL deployment to version 9.5 is now possible through the Compose console. Working out how to perform this upgrade safely and reliably has been an interesting process because from version 9.4 to 9.5 is a PostgreSQL major upg...   \n",
       "7                                                      For a company like Slack that strives to be as data-driven as possible, understanding how our users use our product is essential. The Data Engineering team at Slack works to provide an ecosystem to…   \n",
       "8                                                                                  Kaggle is your home for data science. Learn new skills, build your career, collaborate with other data scientists, and compete in world-class machine learning challenges.   \n",
       "9                                                            [A version of this post appears on the O’Reilly Radar.] The O’Reilly Data Show podcast: Fang Yu on data science in security, unsupervised learning, and Apache Spark. Subscribe to the O’Reilly…   \n",
       "10                                                                                                     Apple's sample app, Food Tracker, taught you iOS. Now, take it further and sync data between devices, through the cloud, with an offline-first design.   \n",
       "11  Replicating data to a relational dashDB database greatly enhances your options to analyze that data. In addition to the ability to query the warehouse with SQL, you can use the power of the statistical R language to do the analysis. Now, we have ...   \n",
       "12     This recipe showcases how one can analyze the historical time series data, captured on the IBM Watson IoT platform, in a Jupyter Notebook using Spark SQL and Pandas DataFrames. Also, use the pre-installed matplotlib library to visualize results.    \n",
       "13                                                            There’s a reason you’ve been hearing a lot about data science notebooks lately: data scientists are in high demand, and the Python programming language is widely used. In particular, Jupyter…   \n",
       "14                                                      Who are those people lurking behind the statistics in your data? Whether you are looking at retail shoppers, insurance policy holders, banking customers or political constituents, the more you can…   \n",
       "15                                                                                                                                                                            Early methods to integrate machine learning using Naive Bayes and custom sinks.   \n",
       "16                                                                     The performance of supervised predictive models is characterized by the generalization error, that is, the error, obtained on datasets different from the one used to train the model.   \n",
       "17  We've always considered MySQL as a potential Compose database, but had to wait for the arrival of a high availability solution that worked well enough that we could deliver it to Compose users. That solution came in the form of MySQL InnoDB Cluster.   \n",
       "18                                                            It has never been easier to build AI or machine learning-based systems than it is today. The ubiquity of cutting edge open-source tools such as TensorFlow, Torch, and Spark, coupled with the…   \n",
       "19  In our Metrics Maven series, Compose's data scientist shares database features, tips, tricks, and code you can use to get the metrics you need from your data. In this article, we'll have a look at mode to round out our series on mean, median, and...   \n",
       "\n",
       "                                                                                   doc_full_name  \\\n",
       "0                                     Detect Malfunctioning IoT Sensors with Streaming Analytics   \n",
       "1                                    Communicating data science: A guide to presenting your work   \n",
       "2                                                     This Week in Data Science (April 18, 2017)   \n",
       "3                       DataLayer Conference: Boost the performance of your distributed database   \n",
       "4                                                  Analyze NY Restaurant data using Spark in DSX   \n",
       "5                                                          Browsing PostgreSQL Data with Compose   \n",
       "6                                                               Upgrading your PostgreSQL to 9.5   \n",
       "7                                                                        Data Wrangling at Slack   \n",
       "8                                                                         Data Science Bowl 2017   \n",
       "9   Using Apache Spark to predict attack vectors among billions of users and trillions of events   \n",
       "10                      Offline-First iOS Apps with Swift & Cloudant Sync; Part 1: The Datastore   \n",
       "11                                                                 Warehousing GeoJSON documents   \n",
       "12                              Timeseries Data Analysis of IoT events by using Jupyter Notebook   \n",
       "13                                   Bridging the Gap Between Python and Scala Jupyter Notebooks   \n",
       "14                      Got zip code data? Prep it for analytics. – IBM Watson Data Lab – Medium   \n",
       "15                                   Apache Spark™ 2.0: Extend Structured Streaming for Spark ML   \n",
       "16                                           Higher-order Logistic Regression for Large Datasets   \n",
       "17                                                                 Compose for MySQL now for you   \n",
       "18                                           The Greatest Public Datasets for AI – Startup Grind   \n",
       "19                                                                Finding the Mode in PostgreSQL   \n",
       "\n",
       "   doc_status  article_id  \\\n",
       "0        Live           0   \n",
       "1        Live           1   \n",
       "2        Live           2   \n",
       "3        Live           3   \n",
       "4        Live           4   \n",
       "5        Live           5   \n",
       "6        Live           6   \n",
       "7        Live           7   \n",
       "8        Live           8   \n",
       "9        Live           9   \n",
       "10       Live          10   \n",
       "11       Live          11   \n",
       "12       Live          12   \n",
       "13       Live          13   \n",
       "14       Live          14   \n",
       "15       Live          15   \n",
       "16       Live          16   \n",
       "17       Live          17   \n",
       "18       Live          18   \n",
       "19       Live          19   \n",
       "\n",
       "                                                                                                                                                                                                                                             combined_content  \n",
       "0                                                                                                                                                                 detect bad read real time use python stream analyt detect malfunct iot sensor stream analyt  \n",
       "1                                                                                                see forest see tree lie challeng perform present analysi data scientist analyst machin learn engin face fulfil busi obj commun data scienc guid present work  \n",
       "2                                                                                                                                                                                                       week news data scienc big data week data scienc april  \n",
       "3                                                                                                           learn distribut db solv problem scale persist storag introduc latenc data size increas becom bound datalay confer boost perform distribut databas  \n",
       "4                                                                                                                         video demonstr power ibm datasci experi use simpl new york state restaur inspect data scenario analyz ny restaur data use spark dsx  \n",
       "5                                                                                                                                                                                             use compos postgresql data browser brows postgresql data compos  \n",
       "6                                                                                                  upgrad postgresql deploy version possibl compos consol work perform upgrad safe reliabl interest process version postgresql major upgrad upgrad postgresql  \n",
       "7                                                                                                             compani like slack strive data driven possibl understand user use product essenti data engin team slack work provid ecosystem data wrangl slack  \n",
       "8                                                                                                                       kaggl home data scienc learn new skill build career collabor data scientist compet world class machin learn challeng data scienc bowl  \n",
       "9                                                    version post appear reilli radar reilli data show podcast fang yu data scienc secur unsupervis learn apach spark subscrib reilli use apach spark predict attack vector among billion user trillion event  \n",
       "10                                                                                                                 appl sampl app food tracker taught io take sync data devic cloud offlin first design offlin first io app swift cloudant sync part datastor  \n",
       "11  replic data relat dashdb databas greatli enhanc option analyz data addit abil queri warehous sql use power statist r languag analysi extend cloudant wareh capabl includ geojson document ever increas number mobil internet thing iot applic captur s...  \n",
       "12                          recip showcas one analyz histor time seri data captur ibm watson iot platform jupyt notebook use spark sql panda datafram also use pre instal matplotlib librari visual result timeseri data analysi iot event use jupyt notebook  \n",
       "13                                                                                                reason hear lot data scienc notebook late data scientist high demand python program languag wide use particular jupyt bridg gap python scala jupyt notebook  \n",
       "14                                                                                         peopl lurk behind statist data whether look retail shopper insur polici holder bank custom polit constitu got zip code data prep analyt ibm watson data lab medium  \n",
       "15                                                                                                                                                      earli method integr machin learn use naiv bay custom sink apach spark extend structur stream spark ml  \n",
       "16                                                                                                              perform supervis predict model character gener error error obtain dataset differ one use train model higher order logist regress larg dataset  \n",
       "17                                                                                           alway consid mysql potenti compos databas wait arriv high avail solut work well enough could deliv compos user solut came form mysql innodb cluster compos mysql  \n",
       "18                                                                                                   never easier build ai machin learn base system today ubiqu cut edg open sourc tool tensorflow torch spark coupl greatest public dataset ai startup grind  \n",
       "19                                                                                     metric maven seri compos data scientist share databas featur tip trick code use get metric need data articl look mode round seri mean median mode find mode postgresql  "
      ]
     },
     "execution_count": 126,
     "metadata": {},
     "output_type": "execute_result"
    }
   ],
   "source": [
    "df_content.head(20)"
   ]
  },
  {
   "cell_type": "code",
   "execution_count": 128,
   "metadata": {},
   "outputs": [],
   "source": [
    "tfidf=TfidfVectorizer(stop_words='english')\n",
    "tfidf_matrix=tfidf.fit_transform(df_content['combined_content'])"
   ]
  },
  {
   "cell_type": "code",
   "execution_count": 130,
   "metadata": {},
   "outputs": [
    {
     "data": {
      "text/plain": [
       "<1051x2987 sparse matrix of type '<class 'numpy.float64'>'\n",
       "\twith 16988 stored elements in Compressed Sparse Row format>"
      ]
     },
     "execution_count": 130,
     "metadata": {},
     "output_type": "execute_result"
    }
   ],
   "source": [
    "tfidf_matrix"
   ]
  },
  {
   "cell_type": "code",
   "execution_count": 132,
   "metadata": {},
   "outputs": [
    {
     "data": {
      "text/plain": [
       "(1051, 1051)"
      ]
     },
     "execution_count": 132,
     "metadata": {},
     "output_type": "execute_result"
    }
   ],
   "source": [
    "cosine_sim=linear_kernel(tfidf_matrix,tfidf_matrix)\n",
    "cosine_sim.shape"
   ]
  },
  {
   "cell_type": "code",
   "execution_count": 134,
   "metadata": {},
   "outputs": [
    {
     "data": {
      "text/html": [
       "<div>\n",
       "<style scoped>\n",
       "    .dataframe tbody tr th:only-of-type {\n",
       "        vertical-align: middle;\n",
       "    }\n",
       "\n",
       "    .dataframe tbody tr th {\n",
       "        vertical-align: top;\n",
       "    }\n",
       "\n",
       "    .dataframe thead th {\n",
       "        text-align: right;\n",
       "    }\n",
       "</style>\n",
       "<table border=\"1\" class=\"dataframe\">\n",
       "  <thead>\n",
       "    <tr style=\"text-align: right;\">\n",
       "      <th></th>\n",
       "      <th>doc_body</th>\n",
       "      <th>doc_description</th>\n",
       "      <th>doc_full_name</th>\n",
       "      <th>doc_status</th>\n",
       "      <th>article_id</th>\n",
       "      <th>combined_content</th>\n",
       "    </tr>\n",
       "  </thead>\n",
       "  <tbody>\n",
       "    <tr>\n",
       "      <th>0</th>\n",
       "      <td>Skip navigation Sign in SearchLoading...\\r\\n\\r\\nClose Yeah, keep it Undo CloseTHIS VIDEO IS UNAVAILABLE.\\r\\nWATCH QUEUE\\r\\nQUEUE\\r\\nWatch Queue Queue * Remove all\\r\\n * Disconnect\\r\\n\\r\\nThe next video is starting stop 1. Loading...\\r\\n\\r\\nWatch ...</td>\n",
       "      <td>Detect bad readings in real time using Python and Streaming Analytics.</td>\n",
       "      <td>Detect Malfunctioning IoT Sensors with Streaming Analytics</td>\n",
       "      <td>Live</td>\n",
       "      <td>0</td>\n",
       "      <td>detect bad read real time use python stream analyt detect malfunct iot sensor stream analyt</td>\n",
       "    </tr>\n",
       "    <tr>\n",
       "      <th>1</th>\n",
       "      <td>No Free Hunch Navigation * kaggle.com\\r\\n\\r\\n * kaggle.com\\r\\n\\r\\nCommunicating data science: A guide to presenting your work 4COMMUNICATING DATA SCIENCE: A GUIDE TO PRESENTING YOUR WORK\\r\\nMegan Risdal | 06.29.2016\\r\\n\\r\\nSee the forest, see the...</td>\n",
       "      <td>See the forest, see the trees. Here lies the challenge in both performing and presenting an analysis. As data scientists, analysts, and machine learning engineers faced with fulfilling business obj…</td>\n",
       "      <td>Communicating data science: A guide to presenting your work</td>\n",
       "      <td>Live</td>\n",
       "      <td>1</td>\n",
       "      <td>see forest see tree lie challeng perform present analysi data scientist analyst machin learn engin face fulfil busi obj commun data scienc guid present work</td>\n",
       "    </tr>\n",
       "    <tr>\n",
       "      <th>2</th>\n",
       "      <td>☰ * Login\\r\\n * Sign Up\\r\\n\\r\\n * Learning Paths\\r\\n * Courses * Our Courses\\r\\n    * Partner Courses\\r\\n   \\r\\n   \\r\\n * Badges * Our Badges\\r\\n    * BDU Badge Program\\r\\n   \\r\\n   \\r\\n * Watson Student Advisor\\r\\n\\r\\n * \\r\\n\\r\\nBLOG\\r\\nWelcome ...</td>\n",
       "      <td>Here’s this week’s news in Data Science and Big Data.</td>\n",
       "      <td>This Week in Data Science (April 18, 2017)</td>\n",
       "      <td>Live</td>\n",
       "      <td>2</td>\n",
       "      <td>week news data scienc big data week data scienc april</td>\n",
       "    </tr>\n",
       "    <tr>\n",
       "      <th>3</th>\n",
       "      <td>DATALAYER: HIGH THROUGHPUT, LOW LATENCY AT SCALE - BOOST THE PERFORMANCE OF YOUR\\r\\nDISTRIBUTED DATABASE\\r\\nShare on Twitter Share on Facebook Share on Google+ Vote on Hacker News Published Dec 29, 2016Learn how distributed DBs (Cassandra, MongoD...</td>\n",
       "      <td>Learn how distributed DBs solve the problem of scaling persistent storage, but introduce latency as data size increases and become I/O bound.</td>\n",
       "      <td>DataLayer Conference: Boost the performance of your distributed database</td>\n",
       "      <td>Live</td>\n",
       "      <td>3</td>\n",
       "      <td>learn distribut db solv problem scale persist storag introduc latenc data size increas becom bound datalay confer boost perform distribut databas</td>\n",
       "    </tr>\n",
       "    <tr>\n",
       "      <th>4</th>\n",
       "      <td>Skip navigation Sign in SearchLoading...\\r\\n\\r\\nClose Yeah, keep it Undo CloseTHIS VIDEO IS UNAVAILABLE.\\r\\nWATCH QUEUE\\r\\nQUEUE\\r\\nWatch Queue Queue * Remove all\\r\\n * Disconnect\\r\\n\\r\\nThe next video is starting stop 1. Loading...\\r\\n\\r\\nWatch ...</td>\n",
       "      <td>This video demonstrates the power of IBM DataScience Experience using a simple New York State Restaurant Inspections data scenario.</td>\n",
       "      <td>Analyze NY Restaurant data using Spark in DSX</td>\n",
       "      <td>Live</td>\n",
       "      <td>4</td>\n",
       "      <td>video demonstr power ibm datasci experi use simpl new york state restaur inspect data scenario analyz ny restaur data use spark dsx</td>\n",
       "    </tr>\n",
       "    <tr>\n",
       "      <th>...</th>\n",
       "      <td>...</td>\n",
       "      <td>...</td>\n",
       "      <td>...</td>\n",
       "      <td>...</td>\n",
       "      <td>...</td>\n",
       "      <td>...</td>\n",
       "    </tr>\n",
       "    <tr>\n",
       "      <th>1051</th>\n",
       "      <td>PouchDB-find is a new API and syntax that allows for a simpler way to query PouchDB. It is much more suited to ad-hoc querying and a fair amount easier to learn than PouchDB’s current way of querying documents via Map/Reduce. It is a MongoDB-insp...</td>\n",
       "      <td>PouchDB uses MapReduce as its default search mechanism but that's about to change. Garren Smith gives an insight into how PouchDB's find plugin works and its relationship to the Cloudant Query search technology that uses a MongoDB-style query lan...</td>\n",
       "      <td>A look under the covers of PouchDB-find</td>\n",
       "      <td>Live</td>\n",
       "      <td>1046</td>\n",
       "      <td>pouchdb use mapreduc default search mechan chang garren smith give insight pouchdb find plugin work relationship cloudant queri search technolog use mongodb style queri languag look cover pouchdb find</td>\n",
       "    </tr>\n",
       "    <tr>\n",
       "      <th>1052</th>\n",
       "      <td>We compare discriminative and generative learning as typified by logistic regression and naive Bayes. We show, contrary to a widely-held belief that discriminative classifiers are almost always to be preferred, that there can often be two distinc...</td>\n",
       "      <td>We compare discriminative and generative learning as typified by logistic regression and naive Bayes. We show, contrary to a widely-held belief that discriminative classifiers are almost always to be preferred, that there can often be two distinc...</td>\n",
       "      <td>A comparison of logistic regression and naive Bayes</td>\n",
       "      <td>Live</td>\n",
       "      <td>1047</td>\n",
       "      <td>compar discrimin gener learn typifi logist regress naiv bay show contrari wide held belief discrimin classifi almost alway prefer often two distinct regim perform train set size increas one algorithm better comparison logist regress naiv bay</td>\n",
       "    </tr>\n",
       "    <tr>\n",
       "      <th>1053</th>\n",
       "      <td>Essays about data, building products and bootstrapping businesses.\\r\\n\\r\\nHome About Archives Running Talks© 2017. All rights reserved.\\r\\n\\r\\nJEAN-NICHOLAS HOULD DATA SCIENCE &amp; BUSINESS BOOTSTRAPPING\\r\\nWHAT I LEARNED IMPLEMENTING A CLASSIFIER F...</td>\n",
       "      <td>In order to demystify some of the magic behind machine learning algorithms, I decided to implement a simple machine learning algorithm from scratch.</td>\n",
       "      <td>What I Learned Implementing a Classifier from Scratch in Python · Jean-Nicholas Hould</td>\n",
       "      <td>Live</td>\n",
       "      <td>1048</td>\n",
       "      <td>order demystifi magic behind machin learn algorithm decid implement simpl machin learn algorithm scratch learn implement classifi scratch python jean nichola hould</td>\n",
       "    </tr>\n",
       "    <tr>\n",
       "      <th>1054</th>\n",
       "      <td>NaN</td>\n",
       "      <td>Learn how to use IBM dashDB as data store for Apache Spark. See how dashDB lets you analyze data loaded from Spark.</td>\n",
       "      <td>Use dashDB with Spark</td>\n",
       "      <td>Live</td>\n",
       "      <td>1049</td>\n",
       "      <td>learn use ibm dashdb data store apach spark see dashdb let analyz data load spark use dashdb spark</td>\n",
       "    </tr>\n",
       "    <tr>\n",
       "      <th>1055</th>\n",
       "      <td>Homepage Follow Sign in / Sign up Homepage * Home\\r\\n * Data Science Experience\\r\\n * \\r\\n * Watson Data Platform\\r\\n * \\r\\n\\r\\nGreg Filla Blocked Unblock Follow Following Product manager &amp; Data scientist — Data Science Experience and Watson Mach...</td>\n",
       "      <td>Once you get used to developing in a Notebook environment, it can be painful to go back to traditional IDEs. In traditional IDEs, you execute your entire script and get a single output. This is great…</td>\n",
       "      <td>Jupyter Notebooks with Scala, Python, or R Kernels</td>\n",
       "      <td>Live</td>\n",
       "      <td>1050</td>\n",
       "      <td>get use develop notebook environ pain go back tradit ide tradit ide execut entir script get singl output great jupyt notebook scala python r kernel</td>\n",
       "    </tr>\n",
       "  </tbody>\n",
       "</table>\n",
       "<p>1051 rows × 6 columns</p>\n",
       "</div>"
      ],
      "text/plain": [
       "                                                                                                                                                                                                                                                       doc_body  \\\n",
       "0     Skip navigation Sign in SearchLoading...\\r\\n\\r\\nClose Yeah, keep it Undo CloseTHIS VIDEO IS UNAVAILABLE.\\r\\nWATCH QUEUE\\r\\nQUEUE\\r\\nWatch Queue Queue * Remove all\\r\\n * Disconnect\\r\\n\\r\\nThe next video is starting stop 1. Loading...\\r\\n\\r\\nWatch ...   \n",
       "1     No Free Hunch Navigation * kaggle.com\\r\\n\\r\\n * kaggle.com\\r\\n\\r\\nCommunicating data science: A guide to presenting your work 4COMMUNICATING DATA SCIENCE: A GUIDE TO PRESENTING YOUR WORK\\r\\nMegan Risdal | 06.29.2016\\r\\n\\r\\nSee the forest, see the...   \n",
       "2     ☰ * Login\\r\\n * Sign Up\\r\\n\\r\\n * Learning Paths\\r\\n * Courses * Our Courses\\r\\n    * Partner Courses\\r\\n   \\r\\n   \\r\\n * Badges * Our Badges\\r\\n    * BDU Badge Program\\r\\n   \\r\\n   \\r\\n * Watson Student Advisor\\r\\n\\r\\n * \\r\\n\\r\\nBLOG\\r\\nWelcome ...   \n",
       "3     DATALAYER: HIGH THROUGHPUT, LOW LATENCY AT SCALE - BOOST THE PERFORMANCE OF YOUR\\r\\nDISTRIBUTED DATABASE\\r\\nShare on Twitter Share on Facebook Share on Google+ Vote on Hacker News Published Dec 29, 2016Learn how distributed DBs (Cassandra, MongoD...   \n",
       "4     Skip navigation Sign in SearchLoading...\\r\\n\\r\\nClose Yeah, keep it Undo CloseTHIS VIDEO IS UNAVAILABLE.\\r\\nWATCH QUEUE\\r\\nQUEUE\\r\\nWatch Queue Queue * Remove all\\r\\n * Disconnect\\r\\n\\r\\nThe next video is starting stop 1. Loading...\\r\\n\\r\\nWatch ...   \n",
       "...                                                                                                                                                                                                                                                         ...   \n",
       "1051  PouchDB-find is a new API and syntax that allows for a simpler way to query PouchDB. It is much more suited to ad-hoc querying and a fair amount easier to learn than PouchDB’s current way of querying documents via Map/Reduce. It is a MongoDB-insp...   \n",
       "1052  We compare discriminative and generative learning as typified by logistic regression and naive Bayes. We show, contrary to a widely-held belief that discriminative classifiers are almost always to be preferred, that there can often be two distinc...   \n",
       "1053  Essays about data, building products and bootstrapping businesses.\\r\\n\\r\\nHome About Archives Running Talks© 2017. All rights reserved.\\r\\n\\r\\nJEAN-NICHOLAS HOULD DATA SCIENCE & BUSINESS BOOTSTRAPPING\\r\\nWHAT I LEARNED IMPLEMENTING A CLASSIFIER F...   \n",
       "1054                                                                                                                                                                                                                                                        NaN   \n",
       "1055  Homepage Follow Sign in / Sign up Homepage * Home\\r\\n * Data Science Experience\\r\\n * \\r\\n * Watson Data Platform\\r\\n * \\r\\n\\r\\nGreg Filla Blocked Unblock Follow Following Product manager & Data scientist — Data Science Experience and Watson Mach...   \n",
       "\n",
       "                                                                                                                                                                                                                                                doc_description  \\\n",
       "0                                                                                                                                                                                        Detect bad readings in real time using Python and Streaming Analytics.   \n",
       "1                                                        See the forest, see the trees. Here lies the challenge in both performing and presenting an analysis. As data scientists, analysts, and machine learning engineers faced with fulfilling business obj…   \n",
       "2                                                                                                                                                                                                         Here’s this week’s news in Data Science and Big Data.   \n",
       "3                                                                                                                 Learn how distributed DBs solve the problem of scaling persistent storage, but introduce latency as data size increases and become I/O bound.   \n",
       "4                                                                                                                          This video demonstrates the power of IBM DataScience Experience using a simple New York State Restaurant Inspections data scenario.    \n",
       "...                                                                                                                                                                                                                                                         ...   \n",
       "1051  PouchDB uses MapReduce as its default search mechanism but that's about to change. Garren Smith gives an insight into how PouchDB's find plugin works and its relationship to the Cloudant Query search technology that uses a MongoDB-style query lan...   \n",
       "1052  We compare discriminative and generative learning as typified by logistic regression and naive Bayes. We show, contrary to a widely-held belief that discriminative classifiers are almost always to be preferred, that there can often be two distinc...   \n",
       "1053                                                                                                       In order to demystify some of the magic behind machine learning algorithms, I decided to implement a simple machine learning algorithm from scratch.   \n",
       "1054                                                                                                                                       Learn how to use IBM dashDB as data store for Apache Spark. See how dashDB lets you analyze data loaded from Spark.    \n",
       "1055                                                   Once you get used to developing in a Notebook environment, it can be painful to go back to traditional IDEs. In traditional IDEs, you execute your entire script and get a single output. This is great…   \n",
       "\n",
       "                                                                              doc_full_name  \\\n",
       "0                                Detect Malfunctioning IoT Sensors with Streaming Analytics   \n",
       "1                               Communicating data science: A guide to presenting your work   \n",
       "2                                                This Week in Data Science (April 18, 2017)   \n",
       "3                  DataLayer Conference: Boost the performance of your distributed database   \n",
       "4                                             Analyze NY Restaurant data using Spark in DSX   \n",
       "...                                                                                     ...   \n",
       "1051                                                A look under the covers of PouchDB-find   \n",
       "1052                                   A comparison of logistic regression and naive Bayes    \n",
       "1053  What I Learned Implementing a Classifier from Scratch in Python · Jean-Nicholas Hould   \n",
       "1054                                                                  Use dashDB with Spark   \n",
       "1055                                     Jupyter Notebooks with Scala, Python, or R Kernels   \n",
       "\n",
       "     doc_status  article_id  \\\n",
       "0          Live           0   \n",
       "1          Live           1   \n",
       "2          Live           2   \n",
       "3          Live           3   \n",
       "4          Live           4   \n",
       "...         ...         ...   \n",
       "1051       Live        1046   \n",
       "1052       Live        1047   \n",
       "1053       Live        1048   \n",
       "1054       Live        1049   \n",
       "1055       Live        1050   \n",
       "\n",
       "                                                                                                                                                                                                                                       combined_content  \n",
       "0                                                                                                                                                           detect bad read real time use python stream analyt detect malfunct iot sensor stream analyt  \n",
       "1                                                                                          see forest see tree lie challeng perform present analysi data scientist analyst machin learn engin face fulfil busi obj commun data scienc guid present work  \n",
       "2                                                                                                                                                                                                 week news data scienc big data week data scienc april  \n",
       "3                                                                                                     learn distribut db solv problem scale persist storag introduc latenc data size increas becom bound datalay confer boost perform distribut databas  \n",
       "4                                                                                                                   video demonstr power ibm datasci experi use simpl new york state restaur inspect data scenario analyz ny restaur data use spark dsx  \n",
       "...                                                                                                                                                                                                                                                 ...  \n",
       "1051                                           pouchdb use mapreduc default search mechan chang garren smith give insight pouchdb find plugin work relationship cloudant queri search technolog use mongodb style queri languag look cover pouchdb find  \n",
       "1052  compar discrimin gener learn typifi logist regress naiv bay show contrari wide held belief discrimin classifi almost alway prefer often two distinct regim perform train set size increas one algorithm better comparison logist regress naiv bay  \n",
       "1053                                                                                order demystifi magic behind machin learn algorithm decid implement simpl machin learn algorithm scratch learn implement classifi scratch python jean nichola hould  \n",
       "1054                                                                                                                                                 learn use ibm dashdb data store apach spark see dashdb let analyz data load spark use dashdb spark  \n",
       "1055                                                                                                get use develop notebook environ pain go back tradit ide tradit ide execut entir script get singl output great jupyt notebook scala python r kernel  \n",
       "\n",
       "[1051 rows x 6 columns]"
      ]
     },
     "execution_count": 134,
     "metadata": {},
     "output_type": "execute_result"
    }
   ],
   "source": [
    "df_content"
   ]
  },
  {
   "cell_type": "code",
   "execution_count": 140,
   "metadata": {},
   "outputs": [
    {
     "data": {
      "text/plain": [
       "714"
      ]
     },
     "execution_count": 140,
     "metadata": {},
     "output_type": "execute_result"
    }
   ],
   "source": [
    "len(sorted(df['article_id'].unique().tolist()))"
   ]
  },
  {
   "cell_type": "code",
   "execution_count": 138,
   "metadata": {},
   "outputs": [
    {
     "data": {
      "text/plain": [
       "1051"
      ]
     },
     "execution_count": 138,
     "metadata": {},
     "output_type": "execute_result"
    }
   ],
   "source": [
    "len(sorted(df_content['article_id'].unique().tolist()))"
   ]
  },
  {
   "cell_type": "markdown",
   "metadata": {},
   "source": [
    "## Many missing values to accout for a mapping between df and df_content to reccomend using content based"
   ]
  },
  {
   "cell_type": "code",
   "execution_count": 561,
   "metadata": {},
   "outputs": [],
   "source": [
    "def content_based_recommendations(user_id, cosine_sim=cosine_sim, df_content=df_content, num_recommendations=10):\n",
    "    \"\"\"\n",
    "    INPUT:\n",
    "    user_articles_indices - (list) list of article indices the user has interacted with\n",
    "    cosine_sim - (array) the cosine similarity matrix\n",
    "    df_content - (DataFrame) the content dataframe containing article_id\n",
    "    num_recommendations - (int) the number of recommendations to return\n",
    "\n",
    "    OUTPUT:\n",
    "    recommendations - (list) article_ids recommended based on content similarity\n",
    "    \"\"\"\n",
    "    # Get the indices of articles the user has read\n",
    "    user_article_indices = get_user_articles(user_id)[0]\n",
    "    user_articles_indices_int = [int(float(id)) for id in user_articles_indices]\n",
    "    user_article_indices_int=[1,2,3]\n",
    "    # Initialize a series to hold similarity scores\n",
    "    scores = np.zeros(cosine_sim.shape[0])\n",
    "\n",
    "    # Aggregate similarity scores for the user's articles\n",
    "    for idx in user_article_indices_int:\n",
    "        scores += cosine_sim_list[idx]\n",
    "\n",
    "    # Create a DataFrame to hold article IDs and their corresponding scores\n",
    "    article_scores = pd.DataFrame({\n",
    "        'article_id': df_content['article_id'],\n",
    "        'similarity_score': scores\n",
    "    })\n",
    "\n",
    "    # Remove articles the user has already read\n",
    "    article_scores = article_scores[~article_scores['article_id'].isin(df_content['article_id'][user_article_indices_int])]\n",
    "\n",
    "    # Sort articles by similarity score\n",
    "    recommendations = article_scores.sort_values(by='similarity_score', ascending=False)\n",
    "\n",
    "    # Return the top recommendations\n",
    "    return recommendations.head(num_recommendations)['article_id'].tolist()\n"
   ]
  },
  {
   "cell_type": "code",
   "execution_count": 563,
   "metadata": {},
   "outputs": [
    {
     "data": {
      "text/plain": [
       "[448, 559, 348, 78, 76, 491, 288, 440, 836, 210]"
      ]
     },
     "execution_count": 563,
     "metadata": {},
     "output_type": "execute_result"
    }
   ],
   "source": [
    "content_based_recommendations(1)"
   ]
  },
  {
   "cell_type": "code",
   "execution_count": 419,
   "metadata": {},
   "outputs": [
    {
     "data": {
      "text/plain": [
       "<0x2993 sparse matrix of type '<class 'numpy.float64'>'\n",
       "\twith 0 stored elements in Compressed Sparse Row format>"
      ]
     },
     "execution_count": 419,
     "metadata": {},
     "output_type": "execute_result"
    }
   ],
   "source": [
    "user_article_vectors = tfidf_matrix[user_article_indices]\n",
    "user_article_vectors"
   ]
  },
  {
   "cell_type": "code",
   "execution_count": null,
   "metadata": {},
   "outputs": [],
   "source": [
    "cosine_sim = cosine_similarity(user_article_vectors, tfidf_matrix)"
   ]
  },
  {
   "cell_type": "code",
   "execution_count": null,
   "metadata": {},
   "outputs": [],
   "source": []
  },
  {
   "cell_type": "markdown",
   "metadata": {},
   "source": [
    "`2.` Now that you have put together your content-based recommendation system, use the cell below to write a summary explaining how your content based recommender works.  Do you see any possible improvements that could be made to your function?  Is there anything novel about your content based recommender?\n",
    "\n",
    "### This part is NOT REQUIRED to pass this project.  However, you may choose to take this on as an extra way to show off your skills."
   ]
  },
  {
   "cell_type": "markdown",
   "metadata": {},
   "source": [
    "**Write an explanation of your content based recommendation system here.**"
   ]
  },
  {
   "cell_type": "markdown",
   "metadata": {},
   "source": [
    "`3.` Use your content-recommendation system to make recommendations for the below scenarios based on the comments.  Again no tests are provided here, because there isn't one right answer that could be used to find these content based recommendations.\n",
    "\n",
    "### This part is NOT REQUIRED to pass this project.  However, you may choose to take this on as an extra way to show off your skills."
   ]
  },
  {
   "cell_type": "code",
   "execution_count": null,
   "metadata": {},
   "outputs": [],
   "source": [
    "# make recommendations for a brand new user\n",
    "\n",
    "\n",
    "# make a recommendations for a user who only has interacted with article id '1427.0'\n",
    "\n"
   ]
  },
  {
   "cell_type": "markdown",
   "metadata": {},
   "source": [
    "### <a class=\"anchor\" id=\"Matrix-Fact\">Part V: Matrix Factorization</a>\n",
    "\n",
    "In this part of the notebook, you will build use matrix factorization to make article recommendations to the users on the IBM Watson Studio platform.\n",
    "\n",
    "`1.` You should have already created a **user_item** matrix above in **question 1** of **Part III** above.  This first question here will just require that you run the cells to get things set up for the rest of **Part V** of the notebook. "
   ]
  },
  {
   "cell_type": "code",
   "execution_count": 86,
   "metadata": {},
   "outputs": [],
   "source": [
    "# Load the matrix here\n",
    "#user_item_matrix = pd.read_pickle('user_item.p')\n",
    "user_item_matrix=user_item"
   ]
  },
  {
   "cell_type": "code",
   "execution_count": 88,
   "metadata": {},
   "outputs": [
    {
     "data": {
      "text/html": [
       "<div>\n",
       "<style scoped>\n",
       "    .dataframe tbody tr th:only-of-type {\n",
       "        vertical-align: middle;\n",
       "    }\n",
       "\n",
       "    .dataframe tbody tr th {\n",
       "        vertical-align: top;\n",
       "    }\n",
       "\n",
       "    .dataframe thead tr th {\n",
       "        text-align: left;\n",
       "    }\n",
       "\n",
       "    .dataframe thead tr:last-of-type th {\n",
       "        text-align: right;\n",
       "    }\n",
       "</style>\n",
       "<table border=\"1\" class=\"dataframe\">\n",
       "  <thead>\n",
       "    <tr>\n",
       "      <th></th>\n",
       "      <th colspan=\"21\" halign=\"left\">title</th>\n",
       "    </tr>\n",
       "    <tr>\n",
       "      <th>article_id</th>\n",
       "      <th>0.0</th>\n",
       "      <th>2.0</th>\n",
       "      <th>4.0</th>\n",
       "      <th>8.0</th>\n",
       "      <th>9.0</th>\n",
       "      <th>12.0</th>\n",
       "      <th>14.0</th>\n",
       "      <th>15.0</th>\n",
       "      <th>16.0</th>\n",
       "      <th>18.0</th>\n",
       "      <th>...</th>\n",
       "      <th>1434.0</th>\n",
       "      <th>1435.0</th>\n",
       "      <th>1436.0</th>\n",
       "      <th>1437.0</th>\n",
       "      <th>1439.0</th>\n",
       "      <th>1440.0</th>\n",
       "      <th>1441.0</th>\n",
       "      <th>1442.0</th>\n",
       "      <th>1443.0</th>\n",
       "      <th>1444.0</th>\n",
       "    </tr>\n",
       "    <tr>\n",
       "      <th>user_id</th>\n",
       "      <th></th>\n",
       "      <th></th>\n",
       "      <th></th>\n",
       "      <th></th>\n",
       "      <th></th>\n",
       "      <th></th>\n",
       "      <th></th>\n",
       "      <th></th>\n",
       "      <th></th>\n",
       "      <th></th>\n",
       "      <th></th>\n",
       "      <th></th>\n",
       "      <th></th>\n",
       "      <th></th>\n",
       "      <th></th>\n",
       "      <th></th>\n",
       "      <th></th>\n",
       "      <th></th>\n",
       "      <th></th>\n",
       "      <th></th>\n",
       "      <th></th>\n",
       "    </tr>\n",
       "  </thead>\n",
       "  <tbody>\n",
       "    <tr>\n",
       "      <th>1</th>\n",
       "      <td>0</td>\n",
       "      <td>0</td>\n",
       "      <td>0</td>\n",
       "      <td>0</td>\n",
       "      <td>0</td>\n",
       "      <td>0</td>\n",
       "      <td>0</td>\n",
       "      <td>0</td>\n",
       "      <td>0</td>\n",
       "      <td>0</td>\n",
       "      <td>...</td>\n",
       "      <td>0</td>\n",
       "      <td>0</td>\n",
       "      <td>1</td>\n",
       "      <td>0</td>\n",
       "      <td>1</td>\n",
       "      <td>0</td>\n",
       "      <td>0</td>\n",
       "      <td>0</td>\n",
       "      <td>0</td>\n",
       "      <td>0</td>\n",
       "    </tr>\n",
       "    <tr>\n",
       "      <th>2</th>\n",
       "      <td>0</td>\n",
       "      <td>0</td>\n",
       "      <td>0</td>\n",
       "      <td>0</td>\n",
       "      <td>0</td>\n",
       "      <td>0</td>\n",
       "      <td>0</td>\n",
       "      <td>0</td>\n",
       "      <td>0</td>\n",
       "      <td>0</td>\n",
       "      <td>...</td>\n",
       "      <td>0</td>\n",
       "      <td>0</td>\n",
       "      <td>0</td>\n",
       "      <td>0</td>\n",
       "      <td>0</td>\n",
       "      <td>0</td>\n",
       "      <td>0</td>\n",
       "      <td>0</td>\n",
       "      <td>0</td>\n",
       "      <td>0</td>\n",
       "    </tr>\n",
       "    <tr>\n",
       "      <th>3</th>\n",
       "      <td>0</td>\n",
       "      <td>0</td>\n",
       "      <td>0</td>\n",
       "      <td>0</td>\n",
       "      <td>0</td>\n",
       "      <td>1</td>\n",
       "      <td>0</td>\n",
       "      <td>0</td>\n",
       "      <td>0</td>\n",
       "      <td>0</td>\n",
       "      <td>...</td>\n",
       "      <td>0</td>\n",
       "      <td>0</td>\n",
       "      <td>1</td>\n",
       "      <td>0</td>\n",
       "      <td>0</td>\n",
       "      <td>0</td>\n",
       "      <td>0</td>\n",
       "      <td>0</td>\n",
       "      <td>0</td>\n",
       "      <td>0</td>\n",
       "    </tr>\n",
       "    <tr>\n",
       "      <th>4</th>\n",
       "      <td>0</td>\n",
       "      <td>0</td>\n",
       "      <td>0</td>\n",
       "      <td>0</td>\n",
       "      <td>0</td>\n",
       "      <td>0</td>\n",
       "      <td>0</td>\n",
       "      <td>0</td>\n",
       "      <td>0</td>\n",
       "      <td>0</td>\n",
       "      <td>...</td>\n",
       "      <td>0</td>\n",
       "      <td>0</td>\n",
       "      <td>0</td>\n",
       "      <td>0</td>\n",
       "      <td>0</td>\n",
       "      <td>0</td>\n",
       "      <td>0</td>\n",
       "      <td>0</td>\n",
       "      <td>0</td>\n",
       "      <td>0</td>\n",
       "    </tr>\n",
       "    <tr>\n",
       "      <th>5</th>\n",
       "      <td>0</td>\n",
       "      <td>0</td>\n",
       "      <td>0</td>\n",
       "      <td>0</td>\n",
       "      <td>0</td>\n",
       "      <td>0</td>\n",
       "      <td>0</td>\n",
       "      <td>0</td>\n",
       "      <td>0</td>\n",
       "      <td>0</td>\n",
       "      <td>...</td>\n",
       "      <td>0</td>\n",
       "      <td>0</td>\n",
       "      <td>0</td>\n",
       "      <td>0</td>\n",
       "      <td>0</td>\n",
       "      <td>0</td>\n",
       "      <td>0</td>\n",
       "      <td>0</td>\n",
       "      <td>0</td>\n",
       "      <td>0</td>\n",
       "    </tr>\n",
       "  </tbody>\n",
       "</table>\n",
       "<p>5 rows × 714 columns</p>\n",
       "</div>"
      ],
      "text/plain": [
       "            title                                                          \\\n",
       "article_id 0.0    2.0    4.0    8.0    9.0    12.0   14.0   15.0   16.0     \n",
       "user_id                                                                     \n",
       "1               0      0      0      0      0      0      0      0      0   \n",
       "2               0      0      0      0      0      0      0      0      0   \n",
       "3               0      0      0      0      0      1      0      0      0   \n",
       "4               0      0      0      0      0      0      0      0      0   \n",
       "5               0      0      0      0      0      0      0      0      0   \n",
       "\n",
       "                   ...                                                   \\\n",
       "article_id 18.0    ... 1434.0 1435.0 1436.0 1437.0 1439.0 1440.0 1441.0   \n",
       "user_id            ...                                                    \n",
       "1               0  ...      0      0      1      0      1      0      0   \n",
       "2               0  ...      0      0      0      0      0      0      0   \n",
       "3               0  ...      0      0      1      0      0      0      0   \n",
       "4               0  ...      0      0      0      0      0      0      0   \n",
       "5               0  ...      0      0      0      0      0      0      0   \n",
       "\n",
       "                                 \n",
       "article_id 1442.0 1443.0 1444.0  \n",
       "user_id                          \n",
       "1               0      0      0  \n",
       "2               0      0      0  \n",
       "3               0      0      0  \n",
       "4               0      0      0  \n",
       "5               0      0      0  \n",
       "\n",
       "[5 rows x 714 columns]"
      ]
     },
     "execution_count": 88,
     "metadata": {},
     "output_type": "execute_result"
    }
   ],
   "source": [
    "# quick look at the matrix\n",
    "user_item_matrix.head()"
   ]
  },
  {
   "cell_type": "code",
   "execution_count": null,
   "metadata": {},
   "outputs": [],
   "source": []
  },
  {
   "cell_type": "markdown",
   "metadata": {},
   "source": [
    "`2.` In this situation, you can use Singular Value Decomposition from [numpy](https://docs.scipy.org/doc/numpy-1.14.0/reference/generated/numpy.linalg.svd.html) on the user-item matrix.  Use the cell to perform SVD, and explain why this is different than in the lesson."
   ]
  },
  {
   "cell_type": "code",
   "execution_count": 263,
   "metadata": {},
   "outputs": [
    {
     "data": {
      "text/plain": [
       "((714,), (5149, 5149), (714, 714))"
      ]
     },
     "execution_count": 263,
     "metadata": {},
     "output_type": "execute_result"
    }
   ],
   "source": [
    "# Perform SVD on the User-Item Matrix Here\n",
    "\n",
    "u, s, vt = np.linalg.svd(user_item_matrix)# use the built in to get the three matrices\n",
    "s.shape, u.shape, vt.shape"
   ]
  },
  {
   "cell_type": "markdown",
   "metadata": {},
   "source": [
    "**Provide your response here.**"
   ]
  },
  {
   "cell_type": "markdown",
   "metadata": {},
   "source": [
    "`3.` Now for the tricky part, how do we choose the number of latent features to use?  Running the below cell, you can see that as the number of latent features increases, we obtain a lower error rate on making predictions for the 1 and 0 values in the user-item matrix.  Run the cell below to get an idea of how the accuracy improves as we increase the number of latent features."
   ]
  },
  {
   "cell_type": "code",
   "execution_count": null,
   "metadata": {},
   "outputs": [],
   "source": [
    "num_latent_feats = np.arange(10,700+10,20)\n",
    "sum_errs = []\n",
    "\n",
    "for k in num_latent_feats:\n",
    "    # restructure with k latent features\n",
    "    s_new, u_new, vt_new = np.diag(s[:k]), u[:, :k], vt[:k, :]\n",
    "    \n",
    "    # take dot product\n",
    "    user_item_est = np.around(np.dot(np.dot(u_new, s_new), vt_new))\n",
    "    \n",
    "    # compute error for each prediction to actual value\n",
    "    diffs = np.subtract(user_item_matrix, user_item_est)\n",
    "    \n",
    "    # total errors and keep track of them\n",
    "    err = np.sum(np.sum(np.abs(diffs)))\n",
    "    sum_errs.append(err)\n",
    "    \n",
    "    \n",
    "plt.plot(num_latent_feats, 1 - np.array(sum_errs)/df.shape[0]);\n",
    "plt.xlabel('Number of Latent Features');\n",
    "plt.ylabel('Accuracy');\n",
    "plt.title('Accuracy vs. Number of Latent Features');"
   ]
  },
  {
   "cell_type": "markdown",
   "metadata": {},
   "source": [
    "`4.` From the above, we can't really be sure how many features to use, because simply having a better way to predict the 1's and 0's of the matrix doesn't exactly give us an indication of if we are able to make good recommendations.  Instead, we might split our dataset into a training and test set of data, as shown in the cell below.  \n",
    "\n",
    "Use the code from question 3 to understand the impact on accuracy of the training and test sets of data with different numbers of latent features. Using the split below: \n",
    "\n",
    "* How many users can we make predictions for in the test set?  \n",
    "* How many users are we not able to make predictions for because of the cold start problem?\n",
    "* How many articles can we make predictions for in the test set?  \n",
    "* How many articles are we not able to make predictions for because of the cold start problem?"
   ]
  },
  {
   "cell_type": "code",
   "execution_count": 234,
   "metadata": {},
   "outputs": [
    {
     "name": "stderr",
     "output_type": "stream",
     "text": [
      "C:\\Users\\Moustafa Abdel-sttar\\AppData\\Local\\Temp\\ipykernel_13824\\61778194.py:15: FutureWarning: Downcasting behavior in `replace` is deprecated and will be removed in a future version. To retain the old behavior, explicitly call `result.infer_objects(copy=False)`. To opt-in to the future behavior, set `pd.set_option('future.no_silent_downcasting', True)`\n",
      "  user_item=df.groupby(['user_id','article_id']).max().unstack(fill_value=0).replace(to_replace=r'.*', value=1, regex=True)\n",
      "C:\\Users\\Moustafa Abdel-sttar\\AppData\\Local\\Temp\\ipykernel_13824\\61778194.py:15: FutureWarning: Downcasting behavior in `replace` is deprecated and will be removed in a future version. To retain the old behavior, explicitly call `result.infer_objects(copy=False)`. To opt-in to the future behavior, set `pd.set_option('future.no_silent_downcasting', True)`\n",
      "  user_item=df.groupby(['user_id','article_id']).max().unstack(fill_value=0).replace(to_replace=r'.*', value=1, regex=True)\n"
     ]
    }
   ],
   "source": [
    "df_train = df.head(40000)\n",
    "df_test = df.tail(5993)\n",
    "\n",
    "def create_test_and_train_user_item(df_train, df_test):\n",
    "    '''\n",
    "    INPUT:\n",
    "    df_train - training dataframe\n",
    "    df_test - test dataframe\n",
    "    \n",
    "    OUTPUT:\n",
    "    user_item_train - a user-item matrix of the training dataframe \n",
    "                      (unique users for each row and unique articles for each column)\n",
    "    user_item_test - a user-item matrix of the testing dataframe \n",
    "                    (unique users for each row and unique articles for each column)\n",
    "    test_idx - all of the test user ids\n",
    "    test_arts - all of the test article ids\n",
    "    \n",
    "    '''\n",
    "    # Your code here\n",
    "    # Get the user IDs and article IDs from the test dataframe\n",
    "    test_idx= df_test['user_id'].unique()\n",
    "    test_arts = df_test['article_id'].unique()\n",
    "    train_idx=df_train['user_id'].unique()\n",
    "    train_arts=df_train['article_id'].unique()\n",
    "     # Subset the first 40,000 entries for user_item_train\n",
    "    user_item_train = create_user_item_matrix(df_train)\n",
    "    user_item_test = create_user_item_matrix(df_test)\n",
    "    \n",
    "    \n",
    "    return user_item_train, user_item_test, test_idx, train_idx,test_arts,train_arts\n",
    "\n",
    "user_item_train, user_item_test, test_idx,train_idx ,test_arts,train_arts = create_test_and_train_user_item(df_train, df_test)"
   ]
  },
  {
   "cell_type": "code",
   "execution_count": 235,
   "metadata": {},
   "outputs": [
    {
     "data": {
      "text/plain": [
       "20"
      ]
     },
     "execution_count": 235,
     "metadata": {},
     "output_type": "execute_result"
    }
   ],
   "source": [
    "q1 = len(np.intersect1d(train_idx, test_idx))\n",
    "q1"
   ]
  },
  {
   "cell_type": "code",
   "execution_count": 238,
   "metadata": {},
   "outputs": [
    {
     "data": {
      "text/plain": [
       "662"
      ]
     },
     "execution_count": 238,
     "metadata": {},
     "output_type": "execute_result"
    }
   ],
   "source": [
    "q2= len(np.setdiff1d(test_idx, train_idx))\n",
    "q2"
   ]
  },
  {
   "cell_type": "code",
   "execution_count": 240,
   "metadata": {},
   "outputs": [
    {
     "data": {
      "text/plain": [
       "574"
      ]
     },
     "execution_count": 240,
     "metadata": {},
     "output_type": "execute_result"
    }
   ],
   "source": [
    "q3=len(np.intersect1d(train_arts,test_arts))\n",
    "q3"
   ]
  },
  {
   "cell_type": "code",
   "execution_count": 242,
   "metadata": {},
   "outputs": [
    {
     "data": {
      "text/plain": [
       "0"
      ]
     },
     "execution_count": 242,
     "metadata": {},
     "output_type": "execute_result"
    }
   ],
   "source": [
    "q4= len(np.setdiff1d(test_arts, train_arts))\n",
    "q4"
   ]
  },
  {
   "cell_type": "code",
   "execution_count": 244,
   "metadata": {},
   "outputs": [],
   "source": [
    "# Replace the values in the dictionary below\n",
    "a = 662 \n",
    "b = 574 \n",
    "c = 20 \n",
    "d = 0 \n",
    "\n",
    "\n",
    "sol_4_dict = {\n",
    "    'How many users can we make predictions for in the test set?': c, \n",
    "    'How many users in the test set are we not able to make predictions for because of the cold start problem?': a, \n",
    "    'How many articles can we make predictions for in the test set?': b,\n",
    "    'How many articles in the test set are we not able to make predictions for because of the cold start problem?': d\n",
    "}\n",
    "\n",
    "#t.sol_4_test(sol_4_dict)"
   ]
  },
  {
   "cell_type": "markdown",
   "metadata": {},
   "source": [
    "`5.` Now use the **user_item_train** dataset from above to find U, S, and V transpose using SVD. Then find the subset of rows in the **user_item_test** dataset that you can predict using this matrix decomposition with different numbers of latent features to see how many features makes sense to keep based on the accuracy on the test data. This will require combining what was done in questions `2` - `4`.\n",
    "\n",
    "Use the cells below to explore how well SVD works towards making predictions for recommendations on the test data.  "
   ]
  },
  {
   "cell_type": "code",
   "execution_count": 247,
   "metadata": {},
   "outputs": [],
   "source": [
    "from numpy.linalg import svd\n"
   ]
  },
  {
   "cell_type": "code",
   "execution_count": 249,
   "metadata": {},
   "outputs": [],
   "source": [
    "# fit SVD on the user_item_train matrix\n",
    "u_train, s_train, vt_train = svd(user_item_train, full_matrices=False)\n",
    "# fit svd similar to above then use the cells below\n",
    "s_train_diag = np.diag(s_train)\n"
   ]
  },
  {
   "cell_type": "code",
   "execution_count": 251,
   "metadata": {},
   "outputs": [],
   "source": [
    "test_arts=test_arts.astype(str)"
   ]
  },
  {
   "cell_type": "code",
   "execution_count": 253,
   "metadata": {},
   "outputs": [
    {
     "data": {
      "text/plain": [
       "dtype('<U6')"
      ]
     },
     "execution_count": 253,
     "metadata": {},
     "output_type": "execute_result"
    }
   ],
   "source": [
    "test_arts.dtype"
   ]
  },
  {
   "cell_type": "code",
   "execution_count": 265,
   "metadata": {},
   "outputs": [],
   "source": [
    "user_item_train_col = [value for _, value in user_item_train.columns]\n"
   ]
  },
  {
   "cell_type": "code",
   "execution_count": 267,
   "metadata": {},
   "outputs": [],
   "source": [
    "user_item_train_col_index=user_item_train.index"
   ]
  },
  {
   "cell_type": "code",
   "execution_count": 269,
   "metadata": {},
   "outputs": [],
   "source": [
    "user_item_train_col_index = pd.Index(user_item_train_col)"
   ]
  },
  {
   "cell_type": "code",
   "execution_count": 271,
   "metadata": {},
   "outputs": [
    {
     "name": "stderr",
     "output_type": "stream",
     "text": [
      "C:\\Anaconda3\\Lib\\site-packages\\numpy\\core\\fromnumeric.py:86: FutureWarning: The behavior of DataFrame.sum with axis=None is deprecated, in a future version this will reduce over both axes and return a scalar. To retain the old behavior, pass axis=0 (or do not pass axis)\n",
      "  return reduction(axis=axis, out=out, **passkwargs)\n"
     ]
    },
    {
     "data": {
      "image/png": "[encoded data removed]",
      "text/plain": [
       "<Figure size 640x480 with 1 Axes>"
      ]
     },
     "metadata": {},
     "output_type": "display_data"
    }
   ],
   "source": [
    "num_latent_feats = np.arange(10, 700+10, 20)\n",
    "sum_errs_train = []\n",
    "sum_errs_test = []\n",
    "\n",
    "# Align u and vt matrices with the test set based on common users and articles\n",
    "u_test = u_train[user_item_train.index.isin(test_idx), :]\n",
    "vt_test = vt_train[:, user_item_train_col_index.isin(test_arts)]\n",
    "\n",
    "# Extract common users and articles from both train and test sets\n",
    "user_item_est = user_item_test.loc[list(set(user_item_train.index) & set(user_item_test.index)), :]\n",
    "\n",
    "for k in num_latent_feats:\n",
    "    # Restructure the matrices with k latent features\n",
    "    s_new_train, u_new_train, vt_new_train = np.diag(s_train[:k]), u_train[:, :k], vt_train[:k, :]\n",
    "    u_new_test, vt_new_test = u_test[:, :k], vt_test[:k, :]\n",
    "\n",
    "    # Predict the user-item matrix for both train and test data\n",
    "    user_item_est_train = np.around(np.dot(np.dot(u_new_train, s_new_train), vt_new_train))\n",
    "    user_item_est_test = np.around(np.dot(np.dot(u_new_test, s_new_train), vt_new_test))\n",
    "\n",
    "    # Calculate the differences (errors) between actual and predicted values\n",
    "    diffs_train = np.subtract(user_item_train, user_item_est_train)\n",
    "    diffs_test = np.subtract(user_item_est, user_item_est_test)\n",
    "\n",
    "    # Total errors and keep track of them\n",
    "    err_train = np.sum(np.sum(np.abs(diffs_train)))\n",
    "    err_test = np.sum(np.sum(np.abs(diffs_test)))\n",
    "\n",
    "    sum_errs_train.append(err_train)\n",
    "    sum_errs_test.append(err_test)\n",
    "\n",
    "# Plot the number of latent features vs. accuracy for both train and test sets\n",
    "plt.plot(num_latent_feats, 1 - np.array(sum_errs_train) / (user_item_train.shape[0] * user_item_train.shape[1]), label='Train')\n",
    "plt.plot(num_latent_feats, 1 - np.array(sum_errs_test) / (user_item_est.shape[0] * user_item_est.shape[1]), label='Test')\n",
    "\n",
    "plt.xlabel('Number of Latent Features')\n",
    "plt.ylabel('Accuracy')\n",
    "plt.title('Accuracy vs. Number of Latent Features')\n",
    "plt.legend()\n",
    "plt.show()"
   ]
  },
  {
   "cell_type": "code",
   "execution_count": null,
   "metadata": {
    "collapsed": true,
    "jupyter": {
     "outputs_hidden": true
    }
   },
   "outputs": [],
   "source": []
  },
  {
   "cell_type": "markdown",
   "metadata": {
    "collapsed": true,
    "jupyter": {
     "outputs_hidden": true
    }
   },
   "source": [
    "`6.` Use the cell below to comment on the results you found in the previous question. Given the circumstances of your results, discuss what you might do to determine if the recommendations you make with any of the above recommendation systems are an improvement to how users currently find articles? "
   ]
  },
  {
   "cell_type": "markdown",
   "metadata": {},
   "source": []
  },
  {
   "cell_type": "markdown",
   "metadata": {
    "collapsed": true,
    "jupyter": {
     "outputs_hidden": true
    }
   },
   "source": [
    "<a id='conclusions'></a>\n",
    "### Extras\n",
    "Using your workbook, you could now save your recommendations for each user, develop a class to make new predictions and update your results, and make a flask app to deploy your results.  These tasks are beyond what is required for this project.  However, from what you learned in the lessons, you certainly capable of taking these tasks on to improve upon your work here!\n",
    "\n",
    "\n",
    "## Conclusion\n",
    "\n",
    "> Congratulations!  You have reached the end of the Recommendations with IBM project! \n",
    "\n",
    "> **Tip**: Once you are satisfied with your work here, check over your report to make sure that it is satisfies all the areas of the [rubric](https://review.udacity.com/#!/rubrics/2322/view). You should also probably remove all of the \"Tips\" like this one so that the presentation is as polished as possible.\n",
    "\n",
    "\n",
    "## Directions to Submit\n",
    "\n",
    "> Before you submit your project, you need to create a .html or .pdf version of this notebook in the workspace here. To do that, run the code cell below. If it worked correctly, you should get a return code of 0, and you should see the generated .html file in the workspace directory (click on the orange Jupyter icon in the upper left).\n",
    "\n",
    "> Alternatively, you can download this report as .html via the **File** > **Download as** submenu, and then manually upload it into the workspace directory by clicking on the orange Jupyter icon in the upper left, then using the Upload button.\n",
    "\n",
    "> Once you've done this, you can submit your project by clicking on the \"Submit Project\" button in the lower right here. This will create and submit a zip file with this .ipynb doc and the .html or .pdf version you created. Congratulations! "
   ]
  },
  {
   "cell_type": "code",
   "execution_count": null,
   "metadata": {
    "collapsed": true,
    "jupyter": {
     "outputs_hidden": true
    }
   },
   "outputs": [],
   "source": [
    "from subprocess import call\n",
    "call(['python', '-m', 'nbconvert', 'Recommendations_with_IBM.ipynb'])"
   ]
  }
 ],
 "metadata": {
  "kernelspec": {
   "display_name": "Python 3 (ipykernel)",
   "language": "python",
   "name": "python3"
  },
  "language_info": {
   "codemirror_mode": {
    "name": "ipython",
    "version": 3
   },
   "file_extension": ".py",
   "mimetype": "text/x-python",
   "name": "python",
   "nbconvert_exporter": "python",
   "pygments_lexer": "ipython3",
   "version": "3.12.4"
  }
 },
 "nbformat": 4,
 "nbformat_minor": 4
}
